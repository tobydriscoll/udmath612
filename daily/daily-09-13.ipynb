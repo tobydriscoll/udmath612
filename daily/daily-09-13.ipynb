{
 "cells": [
  {
   "cell_type": "markdown",
   "metadata": {},
   "source": [
    "## Modified Gram Schmidt via outer products (example)"
   ]
  },
  {
   "cell_type": "code",
   "execution_count": 2,
   "metadata": {},
   "outputs": [
    {
     "data": {
      "text/plain": [
       "3×3 Array{Float64,2}:\n",
       " 12.7279  12.4922  9.27096\n",
       "  0.0      0.0     0.0    \n",
       "  0.0      0.0     0.0    "
      ]
     },
     "execution_count": 2,
     "metadata": {},
     "output_type": "execute_result"
    }
   ],
   "source": [
    "using LinearAlgebra\n",
    "A = rand(1.:10.,6,3)\n",
    "Q=zeros(6,3); R=zeros(3,3);\n",
    "\n",
    "A1 = copy(A)\n",
    "R[1,1] = norm(A1[:,1]);\n",
    "Q[:,1] = A1[:,1]/R[1,1];\n",
    "for j=2:3\n",
    "    R[1,j] = dot(Q[:,1],A1[:,j])\n",
    "end\n",
    "R"
   ]
  },
  {
   "cell_type": "code",
   "execution_count": 3,
   "metadata": {},
   "outputs": [
    {
     "data": {
      "text/plain": [
       "6×3 Array{Float64,2}:\n",
       " 0.392837   0.0  0.0\n",
       " 0.31427    0.0  0.0\n",
       " 0.0785674  0.0  0.0\n",
       " 0.31427    0.0  0.0\n",
       " 0.157135   0.0  0.0\n",
       " 0.785674   0.0  0.0"
      ]
     },
     "execution_count": 3,
     "metadata": {},
     "output_type": "execute_result"
    }
   ],
   "source": [
    "Q"
   ]
  },
  {
   "cell_type": "code",
   "execution_count": 4,
   "metadata": {},
   "outputs": [
    {
     "data": {
      "text/plain": [
       "6×3 Array{Float64,2}:\n",
       " 0.0          -3.90741   -0.641975\n",
       " 4.44089e-16  -2.92593    2.08642 \n",
       " 1.11022e-16   9.01852    8.2716  \n",
       " 4.44089e-16   5.07407   -1.91358 \n",
       " 2.22045e-16   0.037037   8.54321 \n",
       " 0.0           0.185185  -2.28395 "
      ]
     },
     "execution_count": 4,
     "metadata": {},
     "output_type": "execute_result"
    }
   ],
   "source": [
    "A2 = A1 - Q[:,1]*R[1,:]'"
   ]
  },
  {
   "cell_type": "code",
   "execution_count": 5,
   "metadata": {},
   "outputs": [
    {
     "data": {
      "text/plain": [
       "3×3 Array{Float64,2}:\n",
       " 12.7279  12.4922  9.27096\n",
       "  0.0     11.4431  5.34691\n",
       "  0.0      0.0     0.0    "
      ]
     },
     "execution_count": 5,
     "metadata": {},
     "output_type": "execute_result"
    }
   ],
   "source": [
    "R[2,2] = norm(A2[:,2]);\n",
    "Q[:,2] = A2[:,2]/R[2,2];\n",
    "for j=3:3\n",
    "    R[2,j] = dot(Q[:,2],A2[:,j])\n",
    "end\n",
    "R"
   ]
  },
  {
   "cell_type": "code",
   "execution_count": 6,
   "metadata": {},
   "outputs": [
    {
     "data": {
      "text/plain": [
       "6×3 Array{Float64,2}:\n",
       " 0.392837   -0.341464    0.0\n",
       " 0.31427    -0.255694    0.0\n",
       " 0.0785674   0.788119    0.0\n",
       " 0.31427     0.443418    0.0\n",
       " 0.157135    0.00323663  0.0\n",
       " 0.785674    0.0161831   0.0"
      ]
     },
     "execution_count": 6,
     "metadata": {},
     "output_type": "execute_result"
    }
   ],
   "source": [
    "Q"
   ]
  },
  {
   "cell_type": "code",
   "execution_count": 7,
   "metadata": {},
   "outputs": [
    {
     "data": {
      "text/plain": [
       "6×3 Array{Float64,2}:\n",
       " 0.0          0.0   1.1838 \n",
       " 4.44089e-16  0.0   3.45359\n",
       " 1.11022e-16  0.0   4.05761\n",
       " 4.44089e-16  0.0  -4.2845 \n",
       " 2.22045e-16  0.0   8.5259 \n",
       " 0.0          0.0  -2.37048"
      ]
     },
     "execution_count": 7,
     "metadata": {},
     "output_type": "execute_result"
    }
   ],
   "source": [
    "A3 = A2 - Q[:,2]*R[2,:]'"
   ]
  },
  {
   "cell_type": "code",
   "execution_count": null,
   "metadata": {},
   "outputs": [],
   "source": []
  }
 ],
 "metadata": {
  "kernelspec": {
   "display_name": "Julia 1.0.0",
   "language": "julia",
   "name": "julia-1.0"
  },
  "language_info": {
   "file_extension": ".jl",
   "mimetype": "application/julia",
   "name": "julia",
   "version": "1.0.0"
  }
 },
 "nbformat": 4,
 "nbformat_minor": 2
}
