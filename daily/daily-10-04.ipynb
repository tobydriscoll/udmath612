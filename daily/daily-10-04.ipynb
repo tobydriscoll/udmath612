{
 "cells": [
  {
   "cell_type": "code",
   "execution_count": 1,
   "metadata": {},
   "outputs": [],
   "source": [
    "using LinearAlgebra"
   ]
  },
  {
   "cell_type": "code",
   "execution_count": 12,
   "metadata": {},
   "outputs": [
    {
     "data": {
      "text/plain": [
       "4×4 Array{Float64,2}:\n",
       " 9.0  3.0  8.0  1.0\n",
       " 4.0  2.0  9.0  9.0\n",
       " 8.0  4.0  3.0  8.0\n",
       " 7.0  1.0  8.0  2.0"
      ]
     },
     "execution_count": 12,
     "metadata": {},
     "output_type": "execute_result"
    }
   ],
   "source": [
    "A = rand(1.:9.,4,4)"
   ]
  },
  {
   "cell_type": "code",
   "execution_count": 7,
   "metadata": {},
   "outputs": [],
   "source": [
    "L = zeros(4,4);  U = zeros(4,4);"
   ]
  },
  {
   "cell_type": "code",
   "execution_count": 8,
   "metadata": {},
   "outputs": [
    {
     "data": {
      "text/plain": [
       "4×4 Array{Float64,2}:\n",
       " 0.0   0.0   0.0   0.0\n",
       " 0.0   1.0  -3.0  -3.0\n",
       " 0.0  -3.0  -1.0  -1.0\n",
       " 0.0  -3.0  -3.0   1.0"
      ]
     },
     "execution_count": 8,
     "metadata": {},
     "output_type": "execute_result"
    }
   ],
   "source": [
    "U[1,:] = A[1,:]\n",
    "L[:,1] = A[:,1]/U[1,1]\n",
    "A = A - L[:,1]*U[1,:]'"
   ]
  },
  {
   "cell_type": "code",
   "execution_count": 44,
   "metadata": {},
   "outputs": [
    {
     "data": {
      "text/plain": [
       "luouter (generic function with 1 method)"
      ]
     },
     "execution_count": 44,
     "metadata": {},
     "output_type": "execute_result"
    }
   ],
   "source": [
    "function luouter(A)\n",
    "    m = size(A,1)\n",
    "    Aj = copy(A)\n",
    "    L = zeros(m,m);  U = zeros(m,m);\n",
    "    p = zeros(Int,m)\n",
    "    for j = 1:m\n",
    "        p[j]=findmax(abs.(Aj[:,j]))[2]\n",
    "        U[j,:] = Aj[p[j],:]\n",
    "        L[:,j] = Aj[:,j]/U[j,j]\n",
    "        Aj -= L[:,j]*U[j,:]'\n",
    "    end\n",
    "    return L,U,p\n",
    "end"
   ]
  },
  {
   "cell_type": "code",
   "execution_count": 45,
   "metadata": {},
   "outputs": [
    {
     "data": {
      "text/plain": [
       "([1.25e-13 1.0 0.0 0.0; 0.5 0.0 0.622837 1.0; 1.0 0.0 0.0 0.0; 0.875 -0.833333 1.0 0.0], [8.0 4.0 3.0 8.0; 0.0 3.0 8.0 1.0; 0.0 0.0 12.0417 -4.16667; 0.0 0.0 0.0 7.59516], [3, 1, 4, 2])"
      ]
     },
     "execution_count": 45,
     "metadata": {},
     "output_type": "execute_result"
    }
   ],
   "source": [
    "L,U,p = luouter(A)"
   ]
  },
  {
   "cell_type": "code",
   "execution_count": 46,
   "metadata": {},
   "outputs": [
    {
     "data": {
      "text/plain": [
       "4×4 Array{Float64,2}:\n",
       " 1.25e-13   1.0       0.0       0.0\n",
       " 0.5        0.0       0.622837  1.0\n",
       " 1.0        0.0       0.0       0.0\n",
       " 0.875     -0.833333  1.0       0.0"
      ]
     },
     "execution_count": 46,
     "metadata": {},
     "output_type": "execute_result"
    }
   ],
   "source": [
    "L"
   ]
  },
  {
   "cell_type": "code",
   "execution_count": 47,
   "metadata": {},
   "outputs": [
    {
     "data": {
      "text/plain": [
       "4×4 Array{Float64,2}:\n",
       " 8.0  4.0   3.0      8.0    \n",
       " 0.0  3.0   8.0      1.0    \n",
       " 0.0  0.0  12.0417  -4.16667\n",
       " 0.0  0.0   0.0      7.59516"
      ]
     },
     "execution_count": 47,
     "metadata": {},
     "output_type": "execute_result"
    }
   ],
   "source": [
    "U"
   ]
  },
  {
   "cell_type": "code",
   "execution_count": 48,
   "metadata": {},
   "outputs": [
    {
     "data": {
      "text/plain": [
       "1.1102230246251565e-16"
      ]
     },
     "execution_count": 48,
     "metadata": {},
     "output_type": "execute_result"
    }
   ],
   "source": [
    "norm(A-L*U)"
   ]
  },
  {
   "cell_type": "code",
   "execution_count": 49,
   "metadata": {},
   "outputs": [
    {
     "data": {
      "text/plain": [
       "4×4 Array{Float64,2}:\n",
       " 1.0        0.0       0.0       0.0\n",
       " 1.25e-13   1.0       0.0       0.0\n",
       " 0.875     -0.833333  1.0       0.0\n",
       " 0.5        0.0       0.622837  1.0"
      ]
     },
     "execution_count": 49,
     "metadata": {},
     "output_type": "execute_result"
    }
   ],
   "source": [
    "L[p,:]"
   ]
  },
  {
   "cell_type": "code",
   "execution_count": 22,
   "metadata": {},
   "outputs": [
    {
     "data": {
      "text/plain": [
       "0"
      ]
     },
     "execution_count": 22,
     "metadata": {},
     "output_type": "execute_result"
    }
   ],
   "source": [
    "A[1,1] = 0"
   ]
  },
  {
   "cell_type": "code",
   "execution_count": 23,
   "metadata": {},
   "outputs": [
    {
     "data": {
      "text/plain": [
       "4×4 Array{Float64,2}:\n",
       " 0.0  3.0  8.0  1.0\n",
       " 4.0  2.0  9.0  9.0\n",
       " 8.0  4.0  3.0  8.0\n",
       " 7.0  1.0  8.0  2.0"
      ]
     },
     "execution_count": 23,
     "metadata": {},
     "output_type": "execute_result"
    }
   ],
   "source": [
    "A"
   ]
  },
  {
   "cell_type": "code",
   "execution_count": 24,
   "metadata": {},
   "outputs": [
    {
     "data": {
      "text/plain": [
       "([NaN NaN NaN NaN; Inf NaN NaN NaN; Inf NaN NaN NaN; Inf NaN NaN NaN], [0.0 3.0 8.0 1.0; NaN -Inf -Inf -Inf; NaN NaN NaN NaN; NaN NaN NaN NaN])"
      ]
     },
     "execution_count": 24,
     "metadata": {},
     "output_type": "execute_result"
    }
   ],
   "source": [
    "L,U = luouter(A)"
   ]
  },
  {
   "cell_type": "code",
   "execution_count": 25,
   "metadata": {},
   "outputs": [
    {
     "data": {
      "text/plain": [
       "1.0e-12"
      ]
     },
     "execution_count": 25,
     "metadata": {},
     "output_type": "execute_result"
    }
   ],
   "source": [
    "A[1,1] = 1e-12"
   ]
  },
  {
   "cell_type": "code",
   "execution_count": 26,
   "metadata": {},
   "outputs": [
    {
     "data": {
      "text/plain": [
       "([1.0 -0.0 -0.0 -0.0; 4.0e12 1.0 -0.0 -0.0; 8.0e12 2.0 1.0 -0.0; 7.0e12 1.75 0.0723958 1.0], [1.0e-12 3.0 8.0 1.0; 0.0 -1.2e13 -3.2e13 -4.0e12; 0.0 0.0 -15.0 -10.0; 0.0 0.0 0.0 -12.193])"
      ]
     },
     "execution_count": 26,
     "metadata": {},
     "output_type": "execute_result"
    }
   ],
   "source": [
    "L,U=luouter(A)"
   ]
  },
  {
   "cell_type": "code",
   "execution_count": 27,
   "metadata": {},
   "outputs": [
    {
     "data": {
      "text/plain": [
       "4×4 Array{Float64,2}:\n",
       " 1.0     -0.0   -0.0        -0.0\n",
       " 4.0e12   1.0   -0.0        -0.0\n",
       " 8.0e12   2.0    1.0        -0.0\n",
       " 7.0e12   1.75   0.0723958   1.0"
      ]
     },
     "execution_count": 27,
     "metadata": {},
     "output_type": "execute_result"
    }
   ],
   "source": [
    "L"
   ]
  },
  {
   "cell_type": "code",
   "execution_count": 28,
   "metadata": {},
   "outputs": [
    {
     "data": {
      "text/plain": [
       "4×4 Array{Float64,2}:\n",
       " 1.0e-12   3.0       8.0       1.0   \n",
       " 0.0      -1.2e13   -3.2e13   -4.0e12\n",
       " 0.0       0.0     -15.0     -10.0   \n",
       " 0.0       0.0       0.0     -12.193 "
      ]
     },
     "execution_count": 28,
     "metadata": {},
     "output_type": "execute_result"
    }
   ],
   "source": [
    "U"
   ]
  },
  {
   "cell_type": "code",
   "execution_count": 29,
   "metadata": {},
   "outputs": [
    {
     "data": {
      "text/plain": [
       "0.001067877792894525"
      ]
     },
     "execution_count": 29,
     "metadata": {},
     "output_type": "execute_result"
    }
   ],
   "source": [
    "norm(A-L*U)"
   ]
  },
  {
   "cell_type": "code",
   "execution_count": 30,
   "metadata": {},
   "outputs": [
    {
     "data": {
      "text/plain": [
       "7.783999809844254"
      ]
     },
     "execution_count": 30,
     "metadata": {},
     "output_type": "execute_result"
    }
   ],
   "source": [
    "cond(A)"
   ]
  },
  {
   "cell_type": "code",
   "execution_count": 31,
   "metadata": {},
   "outputs": [
    {
     "data": {
      "text/plain": [
       "4×4 Array{Float64,2}:\n",
       " 1.0e-12  3.0  8.0  1.0\n",
       " 4.0      2.0  9.0  9.0\n",
       " 8.0      4.0  3.0  8.0\n",
       " 7.0      1.0  8.0  2.0"
      ]
     },
     "execution_count": 31,
     "metadata": {},
     "output_type": "execute_result"
    }
   ],
   "source": [
    "A"
   ]
  },
  {
   "cell_type": "code",
   "execution_count": 33,
   "metadata": {},
   "outputs": [
    {
     "data": {
      "text/plain": [
       "3"
      ]
     },
     "execution_count": 33,
     "metadata": {},
     "output_type": "execute_result"
    }
   ],
   "source": [
    "findmax(abs.(A[:,1]))[2]"
   ]
  },
  {
   "cell_type": "code",
   "execution_count": 34,
   "metadata": {},
   "outputs": [
    {
     "data": {
      "text/plain": [
       "4-element Array{Int64,1}:\n",
       " 0\n",
       " 0\n",
       " 0\n",
       " 0"
      ]
     },
     "execution_count": 34,
     "metadata": {},
     "output_type": "execute_result"
    }
   ],
   "source": [
    "p=zeros(Int,4)"
   ]
  },
  {
   "cell_type": "code",
   "execution_count": 36,
   "metadata": {},
   "outputs": [
    {
     "data": {
      "text/plain": [
       "3"
      ]
     },
     "execution_count": 36,
     "metadata": {},
     "output_type": "execute_result"
    }
   ],
   "source": [
    "p[1]=findmax(abs.(A[:,1]))[2]"
   ]
  },
  {
   "cell_type": "code",
   "execution_count": 40,
   "metadata": {},
   "outputs": [],
   "source": [
    "Aj=copy(A);"
   ]
  },
  {
   "cell_type": "code",
   "execution_count": 41,
   "metadata": {},
   "outputs": [
    {
     "data": {
      "text/plain": [
       "4×4 Array{Float64,2}:\n",
       " 0.0   3.0  8.0     1.0\n",
       " 0.0   0.0  7.5     5.0\n",
       " 0.0   0.0  0.0     0.0\n",
       " 0.0  -2.5  5.375  -5.0"
      ]
     },
     "execution_count": 41,
     "metadata": {},
     "output_type": "execute_result"
    }
   ],
   "source": [
    "U[1,:] = Aj[p[1],:]\n",
    "L[:,1] = Aj[:,1]/U[1,1]\n",
    "Aj = Aj - L[:,1]*U[1,:]'"
   ]
  },
  {
   "cell_type": "code",
   "execution_count": 42,
   "metadata": {},
   "outputs": [
    {
     "data": {
      "text/plain": [
       "1"
      ]
     },
     "execution_count": 42,
     "metadata": {},
     "output_type": "execute_result"
    }
   ],
   "source": [
    "p[2]=findmax(abs.(Aj[:,2]))[2]"
   ]
  },
  {
   "cell_type": "code",
   "execution_count": 43,
   "metadata": {},
   "outputs": [
    {
     "data": {
      "text/plain": [
       "4×4 Array{Float64,2}:\n",
       " 0.0  0.0   0.0      0.0    \n",
       " 0.0  0.0   7.5      5.0    \n",
       " 0.0  0.0   0.0      0.0    \n",
       " 0.0  0.0  12.0417  -4.16667"
      ]
     },
     "execution_count": 43,
     "metadata": {},
     "output_type": "execute_result"
    }
   ],
   "source": [
    "U[2,:] = Aj[p[2],:]\n",
    "L[:,2] = Aj[:,2]/U[2,2]\n",
    "Aj = Aj - L[:,2]*U[2,:]'"
   ]
  },
  {
   "cell_type": "code",
   "execution_count": 50,
   "metadata": {},
   "outputs": [
    {
     "data": {
      "text/plain": [
       "luouter (generic function with 1 method)"
      ]
     },
     "execution_count": 50,
     "metadata": {},
     "output_type": "execute_result"
    }
   ],
   "source": [
    "function luouter(A)\n",
    "    m = size(A,1)\n",
    "    Aj = copy(A)\n",
    "    L = zeros(m,m);  U = zeros(m,m);\n",
    "    p = zeros(Int,m)\n",
    "    for j = 1:m\n",
    "        p[j]=findmax(abs.(Aj[:,j]))[2]\n",
    "        U[j,:] = Aj[p[j],:]\n",
    "        L[:,j] = Aj[:,j]/U[j,j]\n",
    "        Aj -= L[:,j]*U[j,:]'\n",
    "    end\n",
    "    return L,U,p\n",
    "end"
   ]
  },
  {
   "cell_type": "code",
   "execution_count": 51,
   "metadata": {},
   "outputs": [
    {
     "data": {
      "text/plain": [
       "([1.25e-13 1.0 0.0 0.0; 0.5 0.0 0.622837 1.0; 1.0 0.0 0.0 0.0; 0.875 -0.833333 1.0 0.0], [8.0 4.0 3.0 8.0; 0.0 3.0 8.0 1.0; 0.0 0.0 12.0417 -4.16667; 0.0 0.0 0.0 7.59516], [3, 1, 4, 2])"
      ]
     },
     "execution_count": 51,
     "metadata": {},
     "output_type": "execute_result"
    }
   ],
   "source": [
    "L,U,p = luouter(A)"
   ]
  },
  {
   "cell_type": "code",
   "execution_count": 52,
   "metadata": {},
   "outputs": [
    {
     "data": {
      "text/plain": [
       "4×4 Array{Float64,2}:\n",
       " 1.25e-13   1.0       0.0       0.0\n",
       " 0.5        0.0       0.622837  1.0\n",
       " 1.0        0.0       0.0       0.0\n",
       " 0.875     -0.833333  1.0       0.0"
      ]
     },
     "execution_count": 52,
     "metadata": {},
     "output_type": "execute_result"
    }
   ],
   "source": [
    "L"
   ]
  },
  {
   "cell_type": "code",
   "execution_count": 53,
   "metadata": {},
   "outputs": [
    {
     "data": {
      "text/plain": [
       "4×4 Array{Float64,2}:\n",
       " 8.0  4.0   3.0      8.0    \n",
       " 0.0  3.0   8.0      1.0    \n",
       " 0.0  0.0  12.0417  -4.16667\n",
       " 0.0  0.0   0.0      7.59516"
      ]
     },
     "execution_count": 53,
     "metadata": {},
     "output_type": "execute_result"
    }
   ],
   "source": [
    "U"
   ]
  },
  {
   "cell_type": "markdown",
   "metadata": {},
   "source": [
    "$A = (P^TL) U$"
   ]
  },
  {
   "cell_type": "markdown",
   "metadata": {},
   "source": [
    "$PA=LU$"
   ]
  },
  {
   "cell_type": "code",
   "execution_count": 55,
   "metadata": {},
   "outputs": [
    {
     "data": {
      "text/plain": [
       "LU{Float64,Array{Float64,2}}\n",
       "L factor:\n",
       "4×4 Array{Float64,2}:\n",
       " 1.0        0.0       0.0       0.0\n",
       " 1.25e-13   1.0       0.0       0.0\n",
       " 0.875     -0.833333  1.0       0.0\n",
       " 0.5        0.0       0.622837  1.0\n",
       "U factor:\n",
       "4×4 Array{Float64,2}:\n",
       " 8.0  4.0   3.0      8.0    \n",
       " 0.0  3.0   8.0      1.0    \n",
       " 0.0  0.0  12.0417  -4.16667\n",
       " 0.0  0.0   0.0      7.59516"
      ]
     },
     "execution_count": 55,
     "metadata": {},
     "output_type": "execute_result"
    }
   ],
   "source": [
    "LL,UU,pp=lu(A)"
   ]
  },
  {
   "cell_type": "code",
   "execution_count": 56,
   "metadata": {},
   "outputs": [
    {
     "data": {
      "text/plain": [
       "4-element Array{Int64,1}:\n",
       " 3\n",
       " 1\n",
       " 4\n",
       " 2"
      ]
     },
     "execution_count": 56,
     "metadata": {},
     "output_type": "execute_result"
    }
   ],
   "source": [
    "pp"
   ]
  },
  {
   "cell_type": "code",
   "execution_count": 57,
   "metadata": {},
   "outputs": [
    {
     "data": {
      "text/plain": [
       "8×8 Array{Float64,2}:\n",
       "  1.0   0.0   0.0   0.0   0.0   0.0   0.0  1.0\n",
       " -1.0   1.0   0.0   0.0   0.0   0.0   0.0  1.0\n",
       " -1.0  -1.0   1.0   0.0   0.0   0.0   0.0  1.0\n",
       " -1.0  -1.0  -1.0   1.0   0.0   0.0   0.0  1.0\n",
       " -1.0  -1.0  -1.0  -1.0   1.0   0.0   0.0  1.0\n",
       " -1.0  -1.0  -1.0  -1.0  -1.0   1.0   0.0  1.0\n",
       " -1.0  -1.0  -1.0  -1.0  -1.0  -1.0   1.0  1.0\n",
       " -1.0  -1.0  -1.0  -1.0  -1.0  -1.0  -1.0  1.0"
      ]
     },
     "execution_count": 57,
     "metadata": {},
     "output_type": "execute_result"
    }
   ],
   "source": [
    "m = 8\n",
    "A = tril(-ones(m,m))\n",
    "A[1:m+1:end] .= 1\n",
    "A[:,m] .= 1\n",
    "A"
   ]
  },
  {
   "cell_type": "code",
   "execution_count": 58,
   "metadata": {},
   "outputs": [
    {
     "data": {
      "text/plain": [
       "LU{Float64,Array{Float64,2}}\n",
       "L factor:\n",
       "8×8 Array{Float64,2}:\n",
       "  1.0   0.0   0.0   0.0   0.0   0.0   0.0  0.0\n",
       " -1.0   1.0   0.0   0.0   0.0   0.0   0.0  0.0\n",
       " -1.0  -1.0   1.0   0.0   0.0   0.0   0.0  0.0\n",
       " -1.0  -1.0  -1.0   1.0   0.0   0.0   0.0  0.0\n",
       " -1.0  -1.0  -1.0  -1.0   1.0   0.0   0.0  0.0\n",
       " -1.0  -1.0  -1.0  -1.0  -1.0   1.0   0.0  0.0\n",
       " -1.0  -1.0  -1.0  -1.0  -1.0  -1.0   1.0  0.0\n",
       " -1.0  -1.0  -1.0  -1.0  -1.0  -1.0  -1.0  1.0\n",
       "U factor:\n",
       "8×8 Array{Float64,2}:\n",
       " 1.0  0.0  0.0  0.0  0.0  0.0  0.0    1.0\n",
       " 0.0  1.0  0.0  0.0  0.0  0.0  0.0    2.0\n",
       " 0.0  0.0  1.0  0.0  0.0  0.0  0.0    4.0\n",
       " 0.0  0.0  0.0  1.0  0.0  0.0  0.0    8.0\n",
       " 0.0  0.0  0.0  0.0  1.0  0.0  0.0   16.0\n",
       " 0.0  0.0  0.0  0.0  0.0  1.0  0.0   32.0\n",
       " 0.0  0.0  0.0  0.0  0.0  0.0  1.0   64.0\n",
       " 0.0  0.0  0.0  0.0  0.0  0.0  0.0  128.0"
      ]
     },
     "execution_count": 58,
     "metadata": {},
     "output_type": "execute_result"
    }
   ],
   "source": [
    "L,U,p=lu(A)"
   ]
  },
  {
   "cell_type": "code",
   "execution_count": 59,
   "metadata": {},
   "outputs": [
    {
     "data": {
      "text/plain": [
       "8-element Array{Int64,1}:\n",
       " 1\n",
       " 2\n",
       " 3\n",
       " 4\n",
       " 5\n",
       " 6\n",
       " 7\n",
       " 8"
      ]
     },
     "execution_count": 59,
     "metadata": {},
     "output_type": "execute_result"
    }
   ],
   "source": [
    "p"
   ]
  },
  {
   "cell_type": "code",
   "execution_count": 63,
   "metadata": {},
   "outputs": [
    {
     "data": {
      "text/plain": [
       "0.22303240146572065"
      ]
     },
     "execution_count": 63,
     "metadata": {},
     "output_type": "execute_result"
    }
   ],
   "source": [
    "m = 60\n",
    "A = tril(-ones(m,m))\n",
    "A[1:m+1:end] .= 1\n",
    "A[:,m] .= 1\n",
    "xact = rand(m)\n",
    "b = A*xact\n",
    "norm( xact - A\\b )/ norm(xact)\n"
   ]
  },
  {
   "cell_type": "code",
   "execution_count": 61,
   "metadata": {},
   "outputs": [
    {
     "data": {
      "text/plain": [
       "22.755451813074632"
      ]
     },
     "execution_count": 61,
     "metadata": {},
     "output_type": "execute_result"
    }
   ],
   "source": [
    "cond(A)"
   ]
  },
  {
   "cell_type": "code",
   "execution_count": 65,
   "metadata": {},
   "outputs": [
    {
     "data": {
      "text/plain": [
       "6.656395410392714e17"
      ]
     },
     "execution_count": 65,
     "metadata": {},
     "output_type": "execute_result"
    }
   ],
   "source": [
    "L,U=lu(A)\n",
    "norm(U)"
   ]
  },
  {
   "cell_type": "code",
   "execution_count": null,
   "metadata": {},
   "outputs": [],
   "source": []
  }
 ],
 "metadata": {
  "kernelspec": {
   "display_name": "Julia 1.0.0",
   "language": "julia",
   "name": "julia-1.0"
  },
  "language_info": {
   "file_extension": ".jl",
   "mimetype": "application/julia",
   "name": "julia",
   "version": "1.0.0"
  }
 },
 "nbformat": 4,
 "nbformat_minor": 2
}
