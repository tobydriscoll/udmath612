{
 "cells": [
  {
   "cell_type": "code",
   "execution_count": 1,
   "metadata": {},
   "outputs": [],
   "source": [
    "using LinearAlgebra"
   ]
  },
  {
   "cell_type": "markdown",
   "metadata": {},
   "source": [
    "## First bad idea for eigenvalues: roots of the characteristic polynomial\n",
    "\n",
    "Even if the eigevalues of $A$ are not sensitive to perturbations of $A$, the roots of $p(A)$ may be very sensitive to perturbtations of its coefficients."
   ]
  },
  {
   "cell_type": "code",
   "execution_count": 2,
   "metadata": {},
   "outputs": [
    {
     "data": {
      "text/plain": [
       "2×2 Array{Float64,2}:\n",
       " 1.0  0.0\n",
       " 0.0  1.0"
      ]
     },
     "execution_count": 2,
     "metadata": {},
     "output_type": "execute_result"
    }
   ],
   "source": [
    "A = [ 1 0; 0 nextfloat(1.)]"
   ]
  },
  {
   "cell_type": "code",
   "execution_count": 3,
   "metadata": {},
   "outputs": [
    {
     "data": {
      "text/html": [
       "1.0000000000000002 &#45; 2.0&#8729;x &#43; 1.0&#8729;x^2"
      ],
      "text/plain": [
       "Poly(1.0000000000000002 - 2.0*x + 1.0*x^2)"
      ]
     },
     "execution_count": 3,
     "metadata": {},
     "output_type": "execute_result"
    }
   ],
   "source": [
    "using Polynomials\n",
    "p = Poly([1*nextfloat(1.),-1-nextfloat(1.),1])"
   ]
  },
  {
   "cell_type": "code",
   "execution_count": 4,
   "metadata": {},
   "outputs": [
    {
     "data": {
      "text/plain": [
       "2-element Array{Complex{Float64},1}:\n",
       " 1.0 + 1.490116119384766e-8im\n",
       " 1.0 - 1.490116119384766e-8im"
      ]
     },
     "execution_count": 4,
     "metadata": {},
     "output_type": "execute_result"
    }
   ],
   "source": [
    "roots(p)"
   ]
  },
  {
   "cell_type": "markdown",
   "metadata": {},
   "source": [
    "## Second bad idea for eigenvalues\n",
    "\n",
    "Let's try our usual tricks to introduce zeros and make $A$ diagonal. We start with a matrix that has very recognizable eigenvalues."
   ]
  },
  {
   "cell_type": "code",
   "execution_count": 5,
   "metadata": {},
   "outputs": [
    {
     "data": {
      "text/plain": [
       "5-element Array{Float64,1}:\n",
       " 0.9999999999999968\n",
       " 2.0000000000000013\n",
       " 3.0000000000000044\n",
       " 4.0               \n",
       " 5.000000000000006 "
      ]
     },
     "execution_count": 5,
     "metadata": {},
     "output_type": "execute_result"
    }
   ],
   "source": [
    "m=5;  V = randn(m,m)\n",
    "A = V\\(Diagonal(1:m)*V)\n",
    "λ = sort( eigvals(A) )"
   ]
  },
  {
   "cell_type": "code",
   "execution_count": 6,
   "metadata": {},
   "outputs": [
    {
     "data": {
      "text/plain": [
       "hh (generic function with 1 method)"
      ]
     },
     "execution_count": 6,
     "metadata": {},
     "output_type": "execute_result"
    }
   ],
   "source": [
    "function hh(x)\n",
    "    v = copy(x)\n",
    "    v[1] += sign(x[1]+1e-300)*norm(x)\n",
    "    return v/norm(v)\n",
    "end"
   ]
  },
  {
   "cell_type": "code",
   "execution_count": 7,
   "metadata": {},
   "outputs": [],
   "source": [
    "#V = zeros(m,m)\n",
    "v = fill([],m-1)\n",
    "for j = 1:m-1\n",
    "    v[j] = hh(A[j:m,j])\n",
    "    A[j:m,:] -= 2*v[j]*(v[j]'*A[j:m,:])\n",
    "#    V[j:m,j] = hh(A[j:m,j])\n",
    "#    A[j:m,:] -= 2*V[j:m,j]*(V[j:m,j]'*A[j:m,:])\n",
    "end"
   ]
  },
  {
   "cell_type": "markdown",
   "metadata": {},
   "source": [
    "So far, so good. We have introduced a lot of zeros."
   ]
  },
  {
   "cell_type": "code",
   "execution_count": 8,
   "metadata": {},
   "outputs": [
    {
     "data": {
      "text/plain": [
       "5×5 Array{Float64,2}:\n",
       " -4.38113  -4.03559      -1.27734       5.20735      -1.38448 \n",
       "  0.0      -9.55664      -1.31968       6.37867      -3.03821 \n",
       "  0.0       2.2222e-15   -1.40568       6.2527        0.382261\n",
       "  0.0      -2.89275e-16  -1.51029e-16  -9.71958       0.168739\n",
       "  0.0      -1.13536e-15   4.29204e-17  -3.55271e-15   0.209776"
      ]
     },
     "execution_count": 8,
     "metadata": {},
     "output_type": "execute_result"
    }
   ],
   "source": [
    "A"
   ]
  },
  {
   "cell_type": "markdown",
   "metadata": {},
   "source": [
    "However, we changed the eigenvalues."
   ]
  },
  {
   "cell_type": "code",
   "execution_count": 9,
   "metadata": {},
   "outputs": [
    {
     "data": {
      "text/plain": [
       "5-element Array{Float64,1}:\n",
       " -4.381127369816106  \n",
       " -9.556644434058494  \n",
       " -9.719581117477365  \n",
       "  0.20977569168615548\n",
       " -1.405682468616343  "
      ]
     },
     "execution_count": 9,
     "metadata": {},
     "output_type": "execute_result"
    }
   ],
   "source": [
    "eigvals(A)"
   ]
  },
  {
   "cell_type": "markdown",
   "metadata": {},
   "source": [
    "To preserve eigenvalues, we have to operate with similarity transformations. This means some right-multiplications."
   ]
  },
  {
   "cell_type": "code",
   "execution_count": 10,
   "metadata": {},
   "outputs": [],
   "source": [
    "for j = 1:m-1\n",
    "    A[:,j:m] -= 2*(A[:,j:m]*v[j])*v[j]'\n",
    "end"
   ]
  },
  {
   "cell_type": "code",
   "execution_count": 11,
   "metadata": {},
   "outputs": [
    {
     "data": {
      "text/plain": [
       "5-element Array{Float64,1}:\n",
       " 1.0000000000000004\n",
       " 2.000000000000003 \n",
       " 2.999999999999997 \n",
       " 3.9999999999999973\n",
       " 5.000000000000009 "
      ]
     },
     "execution_count": 11,
     "metadata": {},
     "output_type": "execute_result"
    }
   ],
   "source": [
    "sort( eigvals(A) )"
   ]
  },
  {
   "cell_type": "markdown",
   "metadata": {},
   "source": [
    "But we wrecked the zero structure!"
   ]
  },
  {
   "cell_type": "code",
   "execution_count": 12,
   "metadata": {},
   "outputs": [
    {
     "data": {
      "text/plain": [
       "5×5 Array{Float64,2}:\n",
       "  1.18496     1.93905   -1.66188     -1.48145    7.48496  \n",
       " -3.45025     6.85262   -4.35824     -2.39647    7.70644  \n",
       " -1.76395     1.04753    3.24001     -1.15029    5.01883  \n",
       "  3.06886    -0.780739  -4.22161      3.6855    -7.28466  \n",
       " -0.0874571  -0.123343   0.00965244   0.140314   0.0369114"
      ]
     },
     "execution_count": 12,
     "metadata": {},
     "output_type": "execute_result"
    }
   ],
   "source": [
    "A"
   ]
  },
  {
   "cell_type": "markdown",
   "metadata": {},
   "source": [
    "## On the verge of a great idea\n",
    "\n",
    "On a whim, let's do the previous bad idea over and over. At least it won't change the eigenvalues, right? "
   ]
  },
  {
   "cell_type": "code",
   "execution_count": 13,
   "metadata": {},
   "outputs": [
    {
     "data": {
      "text/plain": [
       "7×7 Array{Float64,2}:\n",
       "  3.0808     -0.0374204  -0.116901   -1.19697  -3.58626    1.16771    1.32354\n",
       " -0.952021    3.67571    -0.0309002  -2.67003  -4.54425    2.03159   -0.1506 \n",
       "  3.55869     9.83639     9.02204     8.04683  21.2862   -28.0422   -18.0548 \n",
       "  2.00419     2.10444     1.51449     7.45717   8.10497  -10.146     -6.97405\n",
       " -0.129475   -1.72879    -0.43679    -1.0845    2.81943    2.95127    1.24215\n",
       "  0.583484    1.32691     1.12517     1.66535   4.95738   -2.65248   -3.47803\n",
       " -0.0254614  -2.00782    -0.75393    -1.50946  -3.42843    3.30357    4.59732"
      ]
     },
     "execution_count": 13,
     "metadata": {},
     "output_type": "execute_result"
    }
   ],
   "source": [
    "m=7;  V = randn(m,m)\n",
    "A = V\\(Diagonal(1:m)*V)"
   ]
  },
  {
   "cell_type": "code",
   "execution_count": 14,
   "metadata": {},
   "outputs": [
    {
     "data": {
      "text/plain": [
       "dumb (generic function with 1 method)"
      ]
     },
     "execution_count": 14,
     "metadata": {},
     "output_type": "execute_result"
    }
   ],
   "source": [
    "function dumb(AA)\n",
    "    A = copy(AA)\n",
    "    v = fill([],m-1)\n",
    "    # put in zeros\n",
    "    for j = 1:m-1\n",
    "        v[j] = hh(A[j:m,j])\n",
    "        A[j:m,:] -= 2*v[j]*(v[j]'*A[j:m,:])  \n",
    "    end\n",
    "    # restore eigenvalues\n",
    "    for j = 1:m-1\n",
    "        A[:,j:m] -= 2*(A[:,j:m]*v[j])*v[j]'\n",
    "    end\n",
    "\n",
    "    return A\n",
    "end"
   ]
  },
  {
   "cell_type": "code",
   "execution_count": 15,
   "metadata": {},
   "outputs": [
    {
     "data": {
      "text/plain": [
       "7-element Array{Float64,1}:\n",
       " 0.9999999999999996\n",
       " 1.9999999999999987\n",
       " 3.0000000000000036\n",
       " 4.000000000000002 \n",
       " 4.999999999999995 \n",
       " 6.000000000000004 \n",
       " 6.9999999999999964"
      ]
     },
     "execution_count": 15,
     "metadata": {},
     "output_type": "execute_result"
    }
   ],
   "source": [
    "sort(eigvals(dumb(A)))"
   ]
  },
  {
   "cell_type": "code",
   "execution_count": 16,
   "metadata": {},
   "outputs": [
    {
     "data": {
      "text/plain": [
       "7-element Array{Float64,1}:\n",
       " 0.999999999999999 \n",
       " 1.9999999999999976\n",
       " 2.9999999999999956\n",
       " 3.9999999999999942\n",
       " 4.999999999999996 \n",
       " 5.999999999999951 \n",
       " 7.000000000000028 "
      ]
     },
     "execution_count": 16,
     "metadata": {},
     "output_type": "execute_result"
    }
   ],
   "source": [
    "B = copy(A)\n",
    "for i = 1:10\n",
    "    global B=dumb(B)\n",
    "end\n",
    "sort(eigvals(B))"
   ]
  },
  {
   "cell_type": "code",
   "execution_count": 17,
   "metadata": {},
   "outputs": [
    {
     "data": {
      "text/plain": [
       "7×7 Array{Float64,2}:\n",
       "  8.36659       3.51908      -4.31107     …   35.8971       1.84398  \n",
       " -0.917802      4.64396       1.98026        -18.756        0.822301 \n",
       "  0.0295291     0.0867055     5.04774         -0.307781     0.360667 \n",
       "  0.01275       0.0347208     0.0558727        0.378341    -0.137316 \n",
       "  5.02653e-5   -0.000126907   0.0213101        0.144314    -0.459524 \n",
       "  2.47818e-6    8.64731e-6    2.98012e-5  …    1.99904     -0.0774645\n",
       " -3.87536e-10  -8.77685e-9    5.20117e-8      -0.00125426   1.0001   "
      ]
     },
     "execution_count": 17,
     "metadata": {},
     "output_type": "execute_result"
    }
   ],
   "source": [
    "B"
   ]
  },
  {
   "cell_type": "markdown",
   "metadata": {},
   "source": [
    "Remember, we're putting zeros in the lower triangle and then filling them back in. But some of those entries are staying pretty small."
   ]
  },
  {
   "cell_type": "code",
   "execution_count": 18,
   "metadata": {},
   "outputs": [
    {
     "data": {
      "text/plain": [
       "7×7 Array{Int64,2}:\n",
       "  1   1   1   0   1   2   0\n",
       "  0   1   0   0   1   1   0\n",
       " -2  -1   1   0   0  -1   0\n",
       " -2  -1  -1   1  -1   0  -1\n",
       " -4  -4  -2  -1   0  -1   0\n",
       " -6  -5  -5  -3  -2   0  -1\n",
       " -9  -8  -7  -6  -5  -3   0"
      ]
     },
     "execution_count": 18,
     "metadata": {},
     "output_type": "execute_result"
    }
   ],
   "source": [
    "@. round(Int,log(10,abs(B)))"
   ]
  },
  {
   "cell_type": "code",
   "execution_count": 19,
   "metadata": {},
   "outputs": [
    {
     "data": {
      "text/plain": [
       "7×7 Array{Int64,2}:\n",
       "    1     1     1     0     1     2   0\n",
       "  -27     1    -1     0     1     1   0\n",
       "  -59   -32     1     0    -1    -1  -1\n",
       "  -97   -70   -39     1    -2     0  -1\n",
       " -148  -121   -88   -50     0    -1   0\n",
       " -218  -191  -160  -121   -71     0  -1\n",
       " -322  -311  -280  -240  -191  -120   0"
      ]
     },
     "execution_count": 19,
     "metadata": {},
     "output_type": "execute_result"
    }
   ],
   "source": [
    "B = copy(A)\n",
    "for i = 1:400\n",
    "    global B=dumb(B)\n",
    "end\n",
    "@. round(Int,log(10,abs(B)))"
   ]
  },
  {
   "cell_type": "markdown",
   "metadata": {},
   "source": [
    "This matrix is virtually triangular! So the eigenvalues are just sitting there on the diagonal."
   ]
  },
  {
   "cell_type": "code",
   "execution_count": 20,
   "metadata": {},
   "outputs": [
    {
     "data": {
      "text/plain": [
       "7-element Array{Float64,1}:\n",
       " 7.000000000000064 \n",
       " 5.9999999999999485\n",
       " 4.999999999999985 \n",
       " 3.999999999999997 \n",
       " 2.9999999999999987\n",
       " 1.9999999999999956\n",
       " 0.9999999999999992"
      ]
     },
     "execution_count": 20,
     "metadata": {},
     "output_type": "execute_result"
    }
   ],
   "source": [
    "diag(B)"
   ]
  },
  {
   "cell_type": "markdown",
   "metadata": {},
   "source": [
    "They even came out sorted!?!"
   ]
  }
 ],
 "metadata": {
  "kernelspec": {
   "display_name": "Julia 1.0.0",
   "language": "julia",
   "name": "julia-1.0"
  },
  "language_info": {
   "file_extension": ".jl",
   "mimetype": "application/julia",
   "name": "julia",
   "version": "1.0.0"
  }
 },
 "nbformat": 4,
 "nbformat_minor": 2
}
