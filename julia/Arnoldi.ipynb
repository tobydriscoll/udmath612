{
 "cells": [
  {
   "cell_type": "markdown",
   "metadata": {},
   "source": [
    "# Arnoldi iteration\n",
    "\n",
    "## Krylov subspace\n",
    "\n",
    "Let's start with a matrix $A$ having known eigenvalues."
   ]
  },
  {
   "cell_type": "code",
   "execution_count": 1,
   "metadata": {
    "collapsed": false
   },
   "outputs": [
    {
     "data": {
      "image/png": "[encoded data removed]",
      "text/plain": [
       "Figure(PyObject <Figure size 640x480 with 1 Axes>)"
      ]
     },
     "metadata": {},
     "output_type": "display_data"
    }
   ],
   "source": [
    "using LinearAlgebra\n",
    "m = 500\n",
    "A = diagm(0=>[1:m-3;2m;3m;4m],10=>ones(m-10))\n",
    "λ = eigvals(Matrix(A))\n",
    "using PyPlot\n",
    "plot(real(λ),imag(λ),\"o\");"
   ]
  },
  {
   "cell_type": "markdown",
   "metadata": {},
   "source": [
    "Suppose $A\\in\\mathbb{C}^{m\\times m}$ and $b\\in\\mathbb{C}^m$ are given. The $n$th **Krylov subspace** $\\mathcal{K}_n$ is the range of a certain $m\\times n$ matrix:"
   ]
  },
  {
   "cell_type": "code",
   "execution_count": 3,
   "metadata": {},
   "outputs": [],
   "source": [
    "b = ones(m)\n",
    "K = b\n",
    "n = 10\n",
    "for j = 1:n-1\n",
    "    K = [K A*K[:,j]];\n",
    "end"
   ]
  },
  {
   "cell_type": "markdown",
   "metadata": {},
   "source": [
    "One way to think of $K_n$ is as keeping a history of all the vectors found in the power iteration. For that reason, we suspect that it may be rich in content with the leading eigenvectors of $A$, much as with simultaneous iteration. In fact, the last column is essentially what we would get from power iteration, with a dominant eigenvalue estimate of"
   ]
  },
  {
   "cell_type": "code",
   "execution_count": 4,
   "metadata": {},
   "outputs": [
    {
     "data": {
      "text/plain": [
       "1997.1931593723568"
      ]
     },
     "execution_count": 4,
     "metadata": {},
     "output_type": "execute_result"
    }
   ],
   "source": [
    "K[:,10]'*A*K[:,10]/(K[:,10]'*K[:,10])"
   ]
  },
  {
   "cell_type": "markdown",
   "metadata": {},
   "source": [
    "How could we use the rest of the information in $K_n$? Let's try projecting everything into its range. We'll use an orthonormal basis to reduce things to 10 dimensions."
   ]
  },
  {
   "cell_type": "code",
   "execution_count": 5,
   "metadata": {},
   "outputs": [
    {
     "name": "stdout",
     "output_type": "stream",
     "text": [
      "size(U) = (500, 10)\n"
     ]
    }
   ],
   "source": [
    "U = svd(K).U;\n",
    "@show size(U);"
   ]
  },
  {
   "cell_type": "markdown",
   "metadata": {},
   "source": [
    "Given coordinates in this 10-dimensional space, we can convert them back to a vector in the large space, let $A$ operate on it, and then project back to our small space. That is, let"
   ]
  },
  {
   "cell_type": "code",
   "execution_count": 6,
   "metadata": {},
   "outputs": [
    {
     "data": {
      "text/plain": [
       "10×10 Array{Float64,2}:\n",
       " 1997.19           37.3701       -0.948225   …     0.0689708    -0.0519515\n",
       "   37.3697       1499.76        -38.9584          -0.0492201     0.0394454\n",
       "   -0.970238      -38.9386      992.729           -0.242246      0.0891795\n",
       "   -0.0719462      -2.88742      73.6139          -1.46543       0.539434 \n",
       "    0.00317346      0.127361     -3.24702         11.1215        1.20228  \n",
       "    0.00534481      0.214504     -5.4687     …     7.79124      -5.90789  \n",
       "   -0.001011       -0.0405745     1.03444        -63.4424       18.9552   \n",
       "    0.000216428     0.00868593   -0.221445        91.7361       -9.16221  \n",
       "    0.000208177     0.00835478   -0.213003       204.762      -105.789    \n",
       "   -6.84924e-5     -0.00274881    0.0700801     -105.331       145.481    "
      ]
     },
     "execution_count": 6,
     "metadata": {},
     "output_type": "execute_result"
    }
   ],
   "source": [
    "B = U'*A*U"
   ]
  },
  {
   "cell_type": "markdown",
   "metadata": {},
   "source": [
    "be a 10-dimensional analog of $A$ on our little space. (One way to interpret this is as a multidimensional extension of the Rayleigh quotient.)"
   ]
  },
  {
   "cell_type": "code",
   "execution_count": 7,
   "metadata": {},
   "outputs": [
    {
     "data": {
      "text/plain": [
       "10-element Array{Float64,1}:\n",
       " 1999.9999999661447  \n",
       " 1500.000000689849   \n",
       "  999.9998370809733  \n",
       "  482.2730015599835  \n",
       "  420.9208642359487  \n",
       "  329.44685054657486 \n",
       "  227.3606094551668  \n",
       "  132.0184916842201  \n",
       "   57.05768545571131 \n",
       "   11.954509334111428"
      ]
     },
     "execution_count": 7,
     "metadata": {},
     "output_type": "execute_result"
    }
   ],
   "source": [
    "eigvals(B)"
   ]
  },
  {
   "cell_type": "code",
   "execution_count": 8,
   "metadata": {},
   "outputs": [
    {
     "data": {
      "image/png": "[encoded data removed]",
      "text/plain": [
       "Figure(PyObject <Figure size 640x480 with 1 Axes>)"
      ]
     },
     "metadata": {},
     "output_type": "display_data"
    }
   ],
   "source": [
    "plot(real(λ),imag(λ),\"o\");\n",
    "μ = eigvals(B)\n",
    "plot(real(μ),imag(μ),\"rx\");\n",
    "\n",
    "axis(\"equal\");"
   ]
  },
  {
   "cell_type": "markdown",
   "metadata": {},
   "source": [
    "That's a really interesting approximation of the full spectrum, coming from such a small representation!"
   ]
  },
  {
   "cell_type": "markdown",
   "metadata": {},
   "source": [
    "## Arnoldi iteration\n",
    "\n",
    "There's an Achilles heel in the little demo above:"
   ]
  },
  {
   "cell_type": "code",
   "execution_count": 9,
   "metadata": {
    "collapsed": false
   },
   "outputs": [
    {
     "data": {
      "text/plain": [
       "3.91606075693941e30"
      ]
     },
     "execution_count": 9,
     "metadata": {},
     "output_type": "execute_result"
    }
   ],
   "source": [
    "cond(K)"
   ]
  },
  {
   "cell_type": "markdown",
   "metadata": {},
   "source": [
    "That is...not a good basis to work with.\n",
    "\n",
    "We'd like a (thin) QR factorization of $K_n$. But once $K_n$ has been computed in floating point, the ill conditioning is already baked in. Instead, we revisit the power/SI/Francis idea of reorthgonalizing after each application of $A$. \n",
    "\n",
    "Say $q_1,\\ldots,q_j$ is an ONB for $\\mathcal{K}_j$. By construction, $Aq_j\\in \\mathcal{K}_{j+1}$. Thus if $q_{j+1}$ extends the ONB to $\\mathcal{K}_{j+1}$, it must be that\n",
    "\n",
    "$$Aq_j = h_{1j} q_1 + \\cdots + h_{nj} q_n + h_{j+1,j} q_{j+1}.$$\n",
    "\n",
    "Furthermore, $h_{ij}=q_i^*Aq_j$. Written out for all $j=1,\\ldots,n$, this implies \n",
    "\n",
    "$$AQ_n = Q_{n+1} \\tilde{H}_n,$$\n",
    "\n",
    "where $Q_j$ collects $q_1,\\ldots,q_j$ and $\\tilde{H}_n$ is an $(n+1)\\times n$ upper Hessenberg matrix. Adapting the modified Gram-Schmidt algorithm, where the \"new column\" of a matrix comes from $A$ times the most recent column, we get the **Arnoldi iteration**."
   ]
  },
  {
   "cell_type": "code",
   "execution_count": 11,
   "metadata": {
    "collapsed": false
   },
   "outputs": [
    {
     "data": {
      "text/plain": [
       "arnoldi (generic function with 1 method)"
      ]
     },
     "execution_count": 11,
     "metadata": {},
     "output_type": "execute_result"
    }
   ],
   "source": [
    "function arnoldi(A,n)\n",
    "    m = size(A,1)\n",
    "    Q = zeros(m,n+1);\n",
    "    H = zeros(n+1,n);\n",
    "    Q[:,1] = b/norm(b);\n",
    "    for j = 1:n\n",
    "        v = A*Q[:,j]\n",
    "        for i = 1:j\n",
    "            H[i,j] = Q[:,i]'*v\n",
    "            v = v - H[i,j]*Q[:,i]\n",
    "        end\n",
    "        H[j+1,j] = norm(v);\n",
    "        Q[:,j+1] = v/H[j+1,j];\n",
    "    end\n",
    "    return H,Q\n",
    "end"
   ]
  },
  {
   "cell_type": "code",
   "execution_count": 12,
   "metadata": {
    "collapsed": false
   },
   "outputs": [
    {
     "data": {
      "image/png": "[encoded data removed]",
      "text/plain": [
       "Figure(PyObject <Figure size 640x480 with 1 Axes>)"
      ]
     },
     "metadata": {},
     "output_type": "display_data"
    }
   ],
   "source": [
    "using PyPlot\n",
    "H,Q = arnoldi(A,50)\n",
    "spy(H[1:11,1:10]);"
   ]
  },
  {
   "cell_type": "markdown",
   "metadata": {},
   "source": [
    "It's not hard to show that we can project $A$ into $\\mathcal{K}_n$ (in the $Q_n$-basis) by \n",
    "\n",
    "$$Q_n^*AQ_n = Q_n^*Q_{n+1}\\tilde{H}_n = H_n,$$\n",
    "\n",
    "where $H_n$ is $\\tilde{H}_n$ with the last row deleted. Eigenvalues of $H_n$ are eigenvalues of the action of $A$ as projected to $\\mathcal{K}_n$. As $n\\to\\infty$, this begins to reveal some of the eigenvalues of $A$ itself. "
   ]
  },
  {
   "cell_type": "code",
   "execution_count": 13,
   "metadata": {
    "collapsed": false
   },
   "outputs": [
    {
     "data": {
      "image/png": "[encoded data removed]",
      "text/plain": [
       "Figure(PyObject <Figure size 640x480 with 1 Axes>)"
      ]
     },
     "metadata": {},
     "output_type": "display_data"
    }
   ],
   "source": [
    "plot(real(λ),imag(λ),\"o\");\n",
    "axis(\"equal\")\n",
    "for j = 2:4:18\n",
    "    μ = eigvals(H[1:j,1:j])\n",
    "    plot(real(μ),(50j-30) .+imag(μ),\"x\");\n",
    "end"
   ]
  },
  {
   "cell_type": "markdown",
   "metadata": {},
   "source": [
    "The big idea is to replace a problem on a very high-dimensional space, $\\mathbb{C}^m$, with an approximating analog on a low-dimensional space, $\\mathcal{K}_n$. For stability, this space is represented by means of an ON basis provided by the Arnoldi iteration."
   ]
  }
 ],
 "metadata": {
  "anaconda-cloud": {},
  "kernelspec": {
   "display_name": "Julia 1.0.0",
   "language": "julia",
   "name": "julia-1.0"
  },
  "language_info": {
   "file_extension": ".jl",
   "mimetype": "application/julia",
   "name": "julia",
   "version": "1.0.1"
  }
 },
 "nbformat": 4,
 "nbformat_minor": 2
}
