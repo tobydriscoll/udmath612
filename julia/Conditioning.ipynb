{
 "cells": [
  {
   "cell_type": "markdown",
   "metadata": {},
   "source": [
    "# Condition numbers\n",
    "\n",
    "In numerical computing, we constantly make small errors in representing real numbers and the operations on them. Consequently we need to know whether the problems we want to solve are very sensitive to perturbations. The condition number measures this senstivity.\n"
   ]
  },
  {
   "cell_type": "markdown",
   "metadata": {},
   "source": [
    "## Polynomial roots\n",
    "\n",
    "The roots of a polynomial become sensitive to the values of the coefficients in the monomial basis when roots are relatively close to one another. Consider, for example,"
   ]
  },
  {
   "cell_type": "code",
   "execution_count": 1,
   "metadata": {
    "collapsed": false
   },
   "outputs": [
    {
     "name": "stdout",
     "output_type": "stream",
     "text": [
      "roots(q) = Complex{Float64}[2.2+0.0im, 1.0001+0.000169981im, 1.0001-0.000169981im, 0.999804+0.0im, 0.4+0.0im]\n"
     ]
    }
   ],
   "source": [
    "using Polynomials \n",
    "p = poly([1,1,1,0.4,2.2]);         # polynomial with these as roots\n",
    "q = p + Poly(1e-12*randn(6));       # small changes to its coefficients\n",
    "@show roots(q);"
   ]
  },
  {
   "cell_type": "markdown",
   "metadata": {},
   "source": [
    "Observe that the triple root at 1 changed a lot more than the size of the perturbation would suggest; the other two roots changed by an amount less than $10^{-9}$. The effect of bad conditioning can be more dramatically shown using the _Wilkinson polynomial_. "
   ]
  },
  {
   "cell_type": "code",
   "execution_count": 2,
   "metadata": {
    "collapsed": false
   },
   "outputs": [
    {
     "data": {
      "image/png": "[encoded data removed]",
      "text/plain": [
       "Figure(PyObject <Figure size 640x480 with 1 Axes>)"
      ]
     },
     "metadata": {},
     "output_type": "display_data"
    }
   ],
   "source": [
    "p = poly(1.0:20);\n",
    "using PyPlot\n",
    "plot(1:20,zeros(20),\"kx\")\n",
    "for k = 1:200\n",
    "    q = p + Poly(1e-6*randn(21));  \n",
    "    r = roots(q);\n",
    "    plot(real(r),imag(r),\"b.\")\n",
    "end\n",
    "axis(\"equal\");"
   ]
  },
  {
   "cell_type": "markdown",
   "metadata": {},
   "source": [
    "Clearly, having roots close together is not the only way to get sensitivity in the roots. "
   ]
  },
  {
   "cell_type": "markdown",
   "metadata": {},
   "source": [
    "## Matrix condition number\n",
    "\n",
    "We have particular interest in the condition number of the problem \"given square matrix $A$ and vector $b$, find vector $x$ such that $Ax=b$.\" More simply: \"map $b$ to $A^{-1}b$.\" The relative condition number of this problem is bounded above by the *matrix condition number* $\\kappa(A)=\\|A\\|\\,\\|A^{-1}\\|$. Furthermore, in any particular case there exist perturbations to the data such that the upper bound is achieved. "
   ]
  },
  {
   "cell_type": "code",
   "execution_count": 3,
   "metadata": {
    "collapsed": false
   },
   "outputs": [
    {
     "data": {
      "text/html": [
       "1.5350438953292724e6"
      ],
      "text/plain": [
       "1.5350438953292724e6"
      ]
     },
     "execution_count": 3,
     "metadata": {},
     "output_type": "execute_result"
    }
   ],
   "source": [
    "using LinearAlgebra\n",
    "hilb(n) = [ 1.0/(i+j) for i=1:n, j=1:n];\n",
    "A = hilb(5);  kappa = cond(A)"
   ]
  },
  {
   "cell_type": "markdown",
   "metadata": {},
   "source": [
    "The importance of _relative_ condition numbers is that they explain accuracy in dimensionless terms, i.e. significant digits. This condition number says we could \"lose\" up to 5 or so digits in the passage from data to result. So we make relative perturbations to $b$ and see the relative effect on the result."
   ]
  },
  {
   "cell_type": "code",
   "execution_count": 4,
   "metadata": {
    "collapsed": false
   },
   "outputs": [
    {
     "name": "stdout",
     "output_type": "stream",
     "text": [
      " average relative error = 2.0160370624564533e-7\n",
      " max relative error found = 7.497409045165721e-7\n",
      " condition number bound = 1.5350438953292724e-6\n"
     ]
    }
   ],
   "source": [
    "perturb(z,ep) = z*(1 + ep*(2*rand()-1));\n",
    "x = 0.3 .+ (1:5);  b = A*x;\n",
    "\n",
    "maxerr = -Inf\n",
    "toterr = 0\n",
    "for k = 1:50000\n",
    "    bb = perturb.(b,1e-12);\n",
    "    err = norm(A\\bb - x)/norm(x)\n",
    "    global maxerr = max(maxerr,err)\n",
    "    global toterr += err\n",
    "end\n",
    "println(\" average relative error = $(toterr/50000)\")\n",
    "println(\" max relative error found = $maxerr\")\n",
    "println(\" condition number bound = $(1e-12*kappa)\");"
   ]
  },
  {
   "cell_type": "markdown",
   "metadata": {},
   "source": [
    "The same holds for perturbations to $A$, though the error has higher-order terms that vanish only in the limit of infinitesimal perturbations."
   ]
  },
  {
   "cell_type": "code",
   "execution_count": 5,
   "metadata": {
    "collapsed": false
   },
   "outputs": [
    {
     "name": "stdout",
     "output_type": "stream",
     "text": [
      " average relative error = 9.116669767168148e-8\n",
      " max relative error found = 4.495389217038701e-7\n",
      " condition number bound = 1.5350438953292724e-6\n"
     ]
    }
   ],
   "source": [
    "maxerr = -Inf\n",
    "toterr = 0\n",
    "for k = 1:50000\n",
    "    AA = perturb.(A,1e-12);\n",
    "    err = norm(AA\\b - x)/norm(x)\n",
    "    global maxerr = max(maxerr,err)\n",
    "    global toterr += err\n",
    "end\n",
    "println(\" average relative error = $(toterr/50000)\")\n",
    "println(\" max relative error found = $maxerr\")\n",
    "println(\" condition number bound = $(1e-12*kappa)\");"
   ]
  }
 ],
 "metadata": {
  "kernelspec": {
   "display_name": "Julia 1.0.0",
   "language": "julia",
   "name": "julia-1.0"
  },
  "language_info": {
   "file_extension": ".jl",
   "mimetype": "application/julia",
   "name": "julia",
   "version": "1.0.0"
  }
 },
 "nbformat": 4,
 "nbformat_minor": 2
}
