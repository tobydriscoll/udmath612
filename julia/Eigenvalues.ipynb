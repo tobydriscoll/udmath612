{
 "cells": [
  {
   "cell_type": "markdown",
   "metadata": {},
   "source": [
    "# Eigenvalues\n",
    "\n",
    "## Eigenvalue decomposition\n",
    "\n",
    "When it exists, the eigenvalue decomposition (EVD) expresses a square matrix $A$ as a change of basis (in both source and image spaces) to a  diagonal matrix: $A=XDX^{-1}$. There are two major syntaxes. If you call `eigen`, you get the complete EVD. "
   ]
  },
  {
   "cell_type": "code",
   "execution_count": 1,
   "metadata": {
    "collapsed": false
   },
   "outputs": [
    {
     "name": "stdout",
     "output_type": "stream",
     "text": [
      "λ = [34.0, 8.94427, -8.94427, 2.05764e-15]\n",
      "X = [-0.5 -0.823607 0.376393 -0.223607; -0.5 0.423607 0.0236068 -0.67082; -0.5 0.0236068 0.423607 0.67082; -0.5 0.376393 -0.823607 0.223607]\n"
     ]
    }
   ],
   "source": [
    "using LinearAlgebra\n",
    "A = [\n",
    "    16     2     3    13\n",
    "     5    11    10     8\n",
    "     9     7     6    12\n",
    "     4    14    15     1\n",
    "\n",
    "];\n",
    "(λ,X) = eigen(A);\n",
    "@show λ;\n",
    "@show X;"
   ]
  },
  {
   "cell_type": "markdown",
   "metadata": {},
   "source": [
    "Technically, the output is guaranteed only to satisfy $AX=XD$, which holds for defective as well as diagonalizable matrices. (But defectiveness is a \"probability zero\" event and is not robust to floating point perturbations.)"
   ]
  },
  {
   "cell_type": "code",
   "execution_count": 2,
   "metadata": {
    "collapsed": false
   },
   "outputs": [
    {
     "name": "stdout",
     "output_type": "stream",
     "text": [
      "λ = [5.0, 5.0, 5.0, 5.0]\n",
      "rank(X) = 1\n"
     ]
    },
    {
     "data": {
      "text/plain": [
       "1"
      ]
     },
     "execution_count": 2,
     "metadata": {},
     "output_type": "execute_result"
    }
   ],
   "source": [
    "A = 5I + diagm(1=>[1;1;1])   # 4x4 Jordan block\n",
    "(λ,X) = eigen(A);\n",
    "@show λ\n",
    "@show rank(X)"
   ]
  },
  {
   "cell_type": "code",
   "execution_count": 3,
   "metadata": {
    "collapsed": false
   },
   "outputs": [
    {
     "name": "stdout",
     "output_type": "stream",
     "text": [
      "residual = norm(A * X - X * D) = 1.538370149106851e-15\n"
     ]
    }
   ],
   "source": [
    "D = diagm(0=>λ);\n",
    "@show residual = norm(A*X-X*D);"
   ]
  },
  {
   "cell_type": "markdown",
   "metadata": {},
   "source": [
    "You can request the eigenvalues alone using `eigvals`. This can be significantly faster than the full EVD."
   ]
  },
  {
   "cell_type": "markdown",
   "metadata": {},
   "source": [
    "## Schur factorization\n",
    "\n",
    "The EVD has some serious drawbacks as a target for numerical computation. First, it does not exist for every square matrix. And second, if it exists but the condition number of the eigenvalue matrix is large, it will be very sensitive to roundoff. A stable alternative is the **Schur factorization** $A=QTQ^*$, in which $Q$ is unitary and $T$ is upper triangular."
   ]
  },
  {
   "cell_type": "code",
   "execution_count": 4,
   "metadata": {
    "collapsed": false
   },
   "outputs": [
    {
     "data": {
      "text/plain": [
       "5×5 Array{Float64,2}:\n",
       " 65.0    5.3192e-15   -2.099e-15   2.71171e-15   3.63509e-15\n",
       "  0.0  -21.2768       -2.58883     2.18707      -3.48932    \n",
       "  0.0    0.0         -13.1263     -3.38447      -2.82394    \n",
       "  0.0    0.0           0.0        21.2768        2.62871    \n",
       "  0.0    0.0           0.0         0.0          13.1263     "
      ]
     },
     "execution_count": 4,
     "metadata": {},
     "output_type": "execute_result"
    }
   ],
   "source": [
    "A = [\n",
    "    17    24     1     8    15\n",
    "    23     5     7    14    16\n",
    "     4     6    13    20    22\n",
    "    10    12    19    21     3\n",
    "    11    18    25     2     9\n",
    "];\n",
    "\n",
    "(T,Q) = schur(A);\n",
    "T"
   ]
  },
  {
   "cell_type": "markdown",
   "metadata": {},
   "source": [
    "The Schur form always exists, it still reveals the eigenvalues of $A$, and it involves only stable unitary transformations. \n",
    "\n",
    "There is one quirk. If $A$ is real but has complex eigenvalues, there is an alternate form in which $T$ is \"quasitriangular.\" Each real eigenvalue appears along the diagonal of $T$, but complex conjugate pairs are represented as $2\\times 2$ real blocks along the diagonal. This allows the entire factorizaton to be done in real arithmetic, which can improve speed. "
   ]
  },
  {
   "cell_type": "code",
   "execution_count": 5,
   "metadata": {
    "collapsed": false
   },
   "outputs": [
    {
     "data": {
      "text/plain": [
       "5-element Array{Complex{Float64},1}:\n",
       "       65.00000000000003 + 0.0im               \n",
       "  1.7763568394002505e-15 + 21.276765471473805im\n",
       "  1.7763568394002505e-15 - 21.276765471473805im\n",
       " -1.7763568394002505e-15 + 13.126280930709225im\n",
       " -1.7763568394002505e-15 - 13.126280930709225im"
      ]
     },
     "execution_count": 5,
     "metadata": {},
     "output_type": "execute_result"
    }
   ],
   "source": [
    "A = rotr90(A);\n",
    "λ = eigvals(A)"
   ]
  },
  {
   "cell_type": "code",
   "execution_count": 6,
   "metadata": {
    "collapsed": false
   },
   "outputs": [
    {
     "data": {
      "text/plain": [
       "5×5 Array{Float64,2}:\n",
       " 65.0  -2.93387e-15   -5.45074e-16    4.63146e-15  -3.27119e-15\n",
       "  0.0   1.77636e-15  -21.5782        -5.59552e-14   1.70351    \n",
       "  0.0  20.9795         1.77636e-15   -6.8026       -5.14033e-14\n",
       "  0.0   0.0            0.0           -1.77636e-15  13.4714     \n",
       "  0.0   0.0            0.0          -12.79         -1.77636e-15"
      ]
     },
     "execution_count": 6,
     "metadata": {},
     "output_type": "execute_result"
    }
   ],
   "source": [
    "(T,Q) = schur(A);\n",
    "T"
   ]
  },
  {
   "cell_type": "code",
   "execution_count": 7,
   "metadata": {
    "collapsed": false
   },
   "outputs": [
    {
     "data": {
      "text/plain": [
       "2-element Array{Complex{Float64},1}:\n",
       " 1.7763568394002505e-15 + 21.276765471473805im\n",
       " 1.7763568394002505e-15 - 21.276765471473805im"
      ]
     },
     "execution_count": 7,
     "metadata": {},
     "output_type": "execute_result"
    }
   ],
   "source": [
    "eigvals(T[2:3,2:3])"
   ]
  },
  {
   "cell_type": "markdown",
   "metadata": {},
   "source": [
    "## Hessenbergification\n",
    "\n",
    "Eigenvalue algorithms are iterative. The iterative steps can be performed a lot faster if the matrix has structural zeros. Hence before iteration begins, an orthogonal similarity transformation is used to get an **upper Hessenberg** matrix with the same eigenvalues."
   ]
  },
  {
   "cell_type": "code",
   "execution_count": 8,
   "metadata": {
    "collapsed": false
   },
   "outputs": [
    {
     "data": {
      "text/plain": [
       "5×5 Array{Float64,2}:\n",
       "  11.0     -14.8962   26.3553    4.02245  -1.14879 \n",
       " -32.1559   35.5909  -15.0266   -6.44772   1.46891 \n",
       "   0.0     -32.1341   15.4136   -4.83816  -1.38772 \n",
       "   0.0       0.0      10.0227    2.74592  17.3583  \n",
       "   0.0       0.0       0.0     -13.96      0.249603"
      ]
     },
     "execution_count": 8,
     "metadata": {},
     "output_type": "execute_result"
    }
   ],
   "source": [
    "hess = hessenberg(A);\n",
    "hess.H"
   ]
  },
  {
   "cell_type": "code",
   "execution_count": 9,
   "metadata": {
    "collapsed": false
   },
   "outputs": [
    {
     "data": {
      "text/plain": [
       "5-element Array{Complex{Float64},1}:\n",
       "       65.00000000000003 + 0.0im               \n",
       "  1.7763568394002505e-15 + 21.276765471473805im\n",
       "  1.7763568394002505e-15 - 21.276765471473805im\n",
       " -1.7763568394002505e-15 + 13.126280930709225im\n",
       " -1.7763568394002505e-15 - 13.126280930709225im"
      ]
     },
     "execution_count": 9,
     "metadata": {},
     "output_type": "execute_result"
    }
   ],
   "source": [
    "eigvals(hess.H)"
   ]
  },
  {
   "cell_type": "markdown",
   "metadata": {},
   "source": [
    "Note that $A=QHQ^*$ is \"nearly\" a Schur factorization. All that remains to be done is to make the subdiagonal zero. \n",
    "\n",
    "If $A$ is hermitian, then since the transformation preserves symmetry the resulting $H$ is actually hermitian and tridiagonal. This leads to even greater speedup in eigenvalue computations; for this and other reasons, one might even consider the hermitian and nonhermitian problems to be of distinct species."
   ]
  },
  {
   "cell_type": "code",
   "execution_count": 10,
   "metadata": {
    "collapsed": false
   },
   "outputs": [
    {
     "data": {
      "text/plain": [
       "5×5 Array{Float64,2}:\n",
       "  22.0     -54.0925   -2.24993e-15  4.90454e-15  -9.19126e-15\n",
       " -54.0925  102.463    -7.58203      5.00738e-15  -1.00276e-14\n",
       "   0.0      -7.58203   0.498749     1.52404      -1.9984e-15 \n",
       "   0.0       0.0       1.52404      4.87467       3.28539    \n",
       "   0.0       0.0       0.0          3.28539       0.163146   "
      ]
     },
     "execution_count": 10,
     "metadata": {},
     "output_type": "execute_result"
    }
   ],
   "source": [
    "A = A+A';\n",
    "hessenberg(A).H"
   ]
  },
  {
   "cell_type": "code",
   "execution_count": 11,
   "metadata": {
    "collapsed": true
   },
   "outputs": [
    {
     "data": {
      "text/plain": [
       "5×5 Tridiagonal{Float64,Array{Float64,1}}:\n",
       "  22.0     -54.0925     ⋅         ⋅        ⋅      \n",
       " -54.0925  102.463    -7.58203    ⋅        ⋅      \n",
       "    ⋅       -7.58203   0.498749  1.52404   ⋅      \n",
       "    ⋅         ⋅        1.52404   4.87467  3.28539 \n",
       "    ⋅         ⋅         ⋅        3.28539  0.163146"
      ]
     },
     "execution_count": 11,
     "metadata": {},
     "output_type": "execute_result"
    }
   ],
   "source": [
    "Tridiagonal(ans)"
   ]
  },
  {
   "cell_type": "markdown",
   "metadata": {},
   "source": [
    "## Outer product interpretation\n",
    "\n",
    "We can view the diagonalization $A=XDX^{-1}$ as $A=XDY^*$, where $Y^*X=I$. The rows of $Y^*$ are known as **left eigenvectors** of $A$."
   ]
  },
  {
   "cell_type": "code",
   "execution_count": 12,
   "metadata": {},
   "outputs": [
    {
     "data": {
      "text/plain": [
       "4×4 Array{Float64,2}:\n",
       " -0.5  -0.934017  -0.184017  -0.223607\n",
       " -0.5   0.684017   0.434017  -0.67082 \n",
       " -0.5   0.434017   0.684017   0.67082 \n",
       " -0.5  -0.184017  -0.934017   0.223607"
      ]
     },
     "execution_count": 12,
     "metadata": {},
     "output_type": "execute_result"
    }
   ],
   "source": [
    "A = [\n",
    "    16     2     3    13\n",
    "     5    11    10     8\n",
    "     9     7     6    12\n",
    "     4    14    15     1\n",
    "\n",
    "];\n",
    "(λ,X) = eigen(A);\n",
    "D = diagm(0 => λ);\n",
    "Y = inv(X')"
   ]
  },
  {
   "cell_type": "code",
   "execution_count": 13,
   "metadata": {},
   "outputs": [
    {
     "data": {
      "text/plain": [
       "([-17.0 -17.0 -17.0 -17.0], [-17.0, -17.0, -17.0, -17.0])"
      ]
     },
     "execution_count": 13,
     "metadata": {},
     "output_type": "execute_result"
    }
   ],
   "source": [
    "( Y[:,1]'*A, λ[1]Y[:,1] )"
   ]
  },
  {
   "cell_type": "markdown",
   "metadata": {},
   "source": [
    "They are also the (right) eigenvectors of $A^*$. (If $A^*=A$, then of course $X=Y$ is orthogonal.)"
   ]
  },
  {
   "cell_type": "code",
   "execution_count": 14,
   "metadata": {},
   "outputs": [
    {
     "data": {
      "text/plain": [
       "([-17.0, -17.0, -17.0, -17.0], [-17.0, -17.0, -17.0, -17.0])"
      ]
     },
     "execution_count": 14,
     "metadata": {},
     "output_type": "execute_result"
    }
   ],
   "source": [
    "( A'*Y[:,1], λ[1]Y[:,1] )"
   ]
  },
  {
   "cell_type": "markdown",
   "metadata": {},
   "source": [
    "Hence we can write $A=\\sum \\lambda_k x_k y_k^*$. While this is interesting, so far I don't know if it's very useful to us. "
   ]
  }
 ],
 "metadata": {
  "kernelspec": {
   "display_name": "Julia 1.0.0",
   "language": "julia",
   "name": "julia-1.0"
  },
  "language_info": {
   "file_extension": ".jl",
   "mimetype": "application/julia",
   "name": "julia",
   "version": "1.0.0"
  }
 },
 "nbformat": 4,
 "nbformat_minor": 2
}
