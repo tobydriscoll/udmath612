{
 "cells": [
  {
   "cell_type": "markdown",
   "metadata": {},
   "source": [
    "# Gram-Schmidt orthogonalization"
   ]
  },
  {
   "cell_type": "markdown",
   "metadata": {},
   "source": [
    "One of the fundamental ways to factor an $m\\times n$ matrix $A$ is as a product $A=QR$, where $Q$ is orthogonal and $R$ is upper triangular. A straightforward derivation of the factorization is by the Gram-Schmidt algorithm. However, there are two different ways to structure this algorithm, and while they are mathematically equivalent, they have different behaviors computationally. "
   ]
  },
  {
   "cell_type": "markdown",
   "metadata": {},
   "source": [
    "## Classical Gram-Schmidt"
   ]
  },
  {
   "cell_type": "markdown",
   "metadata": {},
   "source": [
    "Using the columnwise interpretation of the product $A=QR$ leads to the following expression:\n",
    "$$\n",
    "a_j = Q r_j = \\sum_{k=1}^j R_{kj} q_k.\n",
    "$$\n",
    "We have applied the upper triangularity of $R$ here to truncate the sum. Rearranging,\n",
    "$$\n",
    "R_{jj} q_j = a_j - \\sum_{k=1}^{j-1} R_{kj} q_k.\n",
    "$$\n",
    "Using the unitariness of $Q$, we get for all $k<j$,\n",
    "$$\n",
    "0 = q_k^* a_j - R_{kj}.\n",
    "$$\n",
    "This is used to fill in the $j$th column of $R$ above the diagonal. Then\n",
    "$$\n",
    "R_{jj} = \\left\\| a_j - \\sum_{k=1}^{j-1} R_{kj} q_k\\right\\|_2,\n",
    "$$\n",
    "and finally we get $q_j$ as well.  "
   ]
  },
  {
   "cell_type": "code",
   "execution_count": 1,
   "metadata": {},
   "outputs": [
    {
     "data": {
      "text/plain": [
       "cgs (generic function with 1 method)"
      ]
     },
     "execution_count": 1,
     "metadata": {},
     "output_type": "execute_result"
    }
   ],
   "source": [
    "function cgs(A)\n",
    "    m,n = size(A)\n",
    "    Q = zeros(m,n)\n",
    "    R = zeros(n,n)\n",
    "    for j = 1:n\n",
    "        v = A[:,j]\n",
    "        for k = 1:j-1\n",
    "            R[k,j] = dot(Q[:,k],A[:,j])\n",
    "            v -= R[k,j]*Q[:,k]\n",
    "        end\n",
    "        R[j,j] = norm(v)\n",
    "        Q[:,j] = v/R[j,j]\n",
    "    end\n",
    "    return Q,R\n",
    "end    "
   ]
  },
  {
   "cell_type": "code",
   "execution_count": 2,
   "metadata": {},
   "outputs": [
    {
     "data": {
      "text/plain": [
       "6×4 Array{Float64,2}:\n",
       " 3.0  7.0  1.0  1.0\n",
       " 5.0  4.0  9.0  7.0\n",
       " 1.0  5.0  4.0  3.0\n",
       " 5.0  9.0  7.0  3.0\n",
       " 4.0  1.0  2.0  9.0\n",
       " 6.0  8.0  1.0  6.0"
      ]
     },
     "execution_count": 2,
     "metadata": {},
     "output_type": "execute_result"
    }
   ],
   "source": [
    "using LinearAlgebra\n",
    "A = rand(0.:9.,6,4)"
   ]
  },
  {
   "cell_type": "code",
   "execution_count": 3,
   "metadata": {},
   "outputs": [
    {
     "data": {
      "text/plain": [
       "6×4 Array{Float64,2}:\n",
       " 0.283473    0.43367    -0.274145  -0.0758888 \n",
       " 0.472456   -0.326169    0.620429  -0.171191  \n",
       " 0.0944911   0.50941     0.336617   0.762969  \n",
       " 0.472456    0.357931    0.277079  -0.351495  \n",
       " 0.377964   -0.561939   -0.137569   0.509132  \n",
       " 0.566947    0.0464211  -0.575242   0.00693307"
      ]
     },
     "metadata": {},
     "output_type": "display_data"
    },
    {
     "data": {
      "text/plain": [
       "4×4 Array{Float64,2}:\n",
       " 10.583  13.5122   9.5436    12.0949 \n",
       "  0.0     7.30887  0.963848  -4.02642\n",
       "  0.0     0.0      7.74536    1.22038\n",
       "  0.0     0.0      0.0        4.58399"
      ]
     },
     "metadata": {},
     "output_type": "display_data"
    }
   ],
   "source": [
    "Q,R = cgs(A);\n",
    "display(Q), display(R);"
   ]
  },
  {
   "cell_type": "code",
   "execution_count": 4,
   "metadata": {},
   "outputs": [
    {
     "data": {
      "text/plain": [
       "1.581854752060599e-15"
      ]
     },
     "execution_count": 4,
     "metadata": {},
     "output_type": "execute_result"
    }
   ],
   "source": [
    "norm(Q'*Q-I)"
   ]
  },
  {
   "cell_type": "markdown",
   "metadata": {},
   "source": [
    "## Modified Gram-Schmidt"
   ]
  },
  {
   "cell_type": "markdown",
   "metadata": {},
   "source": [
    "Suppose instead we turn to the outer-product interpretation of the factorization. We'll use real matrices to avoid some distracting conjugates in the complex case. Let's write\n",
    "$$\n",
    "A = \\begin{bmatrix} a_1 & \\cdots & a_n \\end{bmatrix},\n",
    "\\qquad Q = \\begin{bmatrix} q_1 & \\cdots & q_n \\end{bmatrix},\n",
    "\\qquad R = \\begin{bmatrix} r_1^T \\\\ \\vdots \\\\ r_n^T \\end{bmatrix},\n",
    "$$\n",
    "from which we have \n",
    "$$\n",
    "A = \\sum_{k=1}^n q_k r_k^T.\n",
    "$$\n",
    "Consider the rows $r_k^T$ appearing in the outer product sum. Of these, only $k=1$ has a nonzero in the first column, because of the triangular structure of $R$. So if we restrict attention to the first column only, we conclude\n",
    "$$\n",
    "a_1 = R_{11}q_1.\n",
    "$$\n",
    "As in CGS, this can be used to find $R_{11}$ (take the 2-norm) and $q_1$. Multiplying the original sum through by $q_1^T$ and applying orthogonality gives\n",
    "$$\n",
    "q_1^TA =  r_1^T.\n",
    "$$\n",
    "This is used to fill in the rest of the first row of $R$; columnwise it is the same inner product as in CGS:\n",
    "$$\n",
    "R_{1j} = q_1^T a_j,\n",
    "$$\n",
    "valid for $j>1$. "
   ]
  },
  {
   "cell_type": "code",
   "execution_count": 5,
   "metadata": {},
   "outputs": [
    {
     "data": {
      "text/plain": [
       "4×4 Array{Float64,2}:\n",
       " 13.4164  12.3729  14.5344  5.73924\n",
       "  0.0      0.0      0.0     0.0    \n",
       "  0.0      0.0      0.0     0.0    \n",
       "  0.0      0.0      0.0     0.0    "
      ]
     },
     "execution_count": 5,
     "metadata": {},
     "output_type": "execute_result"
    }
   ],
   "source": [
    "Q=zero(Q); R=zero(R);\n",
    "m,n = size(A);\n",
    "R[1,1] = norm(A[:,1]);\n",
    "Q[:,1] = A[:,1]/R[1,1];\n",
    "for j=2:n\n",
    "    R[1,j] = dot(Q[:,1],A[:,j])\n",
    "end\n",
    "R"
   ]
  },
  {
   "cell_type": "markdown",
   "metadata": {},
   "source": [
    "Now consider the following rearrangement of the outer product sum:\n",
    "$$\n",
    "A - q_1 r_1^T = \\sum_{k=2}^n q_k r_k^T.\n",
    "$$\n",
    "In all the rows of $R$ appearing on the right, only $k=2$ has a nonzero in column 2. So the second column of the left-hand side is just $R_{22}q_2$. This lets us get both of these unknowns. "
   ]
  },
  {
   "cell_type": "code",
   "execution_count": 6,
   "metadata": {},
   "outputs": [
    {
     "data": {
      "text/plain": [
       "4×4 Array{Float64,2}:\n",
       " 13.4164  12.3729   14.5344  5.73924\n",
       "  0.0      5.46911   0.0     0.0    \n",
       "  0.0      0.0       0.0     0.0    \n",
       "  0.0      0.0       0.0     0.0    "
      ]
     },
     "execution_count": 6,
     "metadata": {},
     "output_type": "execute_result"
    }
   ],
   "source": [
    "B = A - Q[:,1]*R[1,:]';\n",
    "R[2,2] = norm(B[:,2]);\n",
    "Q[:,2] = B[:,2]/R[2,2]\n",
    "R"
   ]
  },
  {
   "cell_type": "markdown",
   "metadata": {},
   "source": [
    "Now a left-multiplication of both sides by $q_2^T$ isolates the second row of $R$ on the right, etc.  The reasoning repeats iteratively (or recursively, or inductively, depending on your point of view). "
   ]
  },
  {
   "cell_type": "code",
   "execution_count": 5,
   "metadata": {},
   "outputs": [
    {
     "data": {
      "text/plain": [
       "mgs (generic function with 1 method)"
      ]
     },
     "execution_count": 5,
     "metadata": {},
     "output_type": "execute_result"
    }
   ],
   "source": [
    "function mgs(A)\n",
    "    m,n = size(A)\n",
    "    Q = zeros(eltype(A),m,n)\n",
    "    R = zeros(eltype(A),n,n)\n",
    "    B = copy(A)\n",
    "    for k = 1:n\n",
    "        R[k,k] = norm(B[:,k])\n",
    "        Q[:,k] = B[:,k]/R[k,k]\n",
    "        for j = k+1:n\n",
    "            R[k,j] = dot(Q[:,k],B[:,j])\n",
    "        end\n",
    "        B -= Q[:,k]*R[k,:]'\n",
    "    end\n",
    "    return Q,R\n",
    "end    "
   ]
  },
  {
   "cell_type": "code",
   "execution_count": 6,
   "metadata": {},
   "outputs": [
    {
     "data": {
      "text/plain": [
       "6×4 Array{Float64,2}:\n",
       " 0.283473    0.43367    -0.274145  -0.0758888 \n",
       " 0.472456   -0.326169    0.620429  -0.171191  \n",
       " 0.0944911   0.50941     0.336617   0.762969  \n",
       " 0.472456    0.357931    0.277079  -0.351495  \n",
       " 0.377964   -0.561939   -0.137569   0.509132  \n",
       " 0.566947    0.0464211  -0.575242   0.00693307"
      ]
     },
     "metadata": {},
     "output_type": "display_data"
    },
    {
     "data": {
      "text/plain": [
       "4×4 Array{Float64,2}:\n",
       " 10.583  13.5122   9.5436    12.0949 \n",
       "  0.0     7.30887  0.963848  -4.02642\n",
       "  0.0     0.0      7.74536    1.22038\n",
       "  0.0     0.0      0.0        4.58399"
      ]
     },
     "metadata": {},
     "output_type": "display_data"
    }
   ],
   "source": [
    "Q,R = mgs(A);\n",
    "display(Q), display(R);"
   ]
  },
  {
   "cell_type": "code",
   "execution_count": 7,
   "metadata": {},
   "outputs": [
    {
     "name": "stdout",
     "output_type": "stream",
     "text": [
      "norm(Q' * Q - I) = 7.838469895773836e-16\n",
      "norm(A - Q * R) = 2.059156955057807e-15\n"
     ]
    }
   ],
   "source": [
    "@show norm(Q'*Q-I);\n",
    "@show norm(A-Q*R);"
   ]
  },
  {
   "cell_type": "markdown",
   "metadata": {},
   "source": [
    "Mathematically, there is no difference between CGS and MGS. However, they do arithmetic operations in different orders, and we will find that that can make a huge difference on a computer."
   ]
  }
 ],
 "metadata": {
  "kernelspec": {
   "display_name": "Julia 1.0.0",
   "language": "julia",
   "name": "julia-1.0"
  },
  "language_info": {
   "file_extension": ".jl",
   "mimetype": "application/julia",
   "name": "julia",
   "version": "1.0.0"
  }
 },
 "nbformat": 4,
 "nbformat_minor": 2
}
