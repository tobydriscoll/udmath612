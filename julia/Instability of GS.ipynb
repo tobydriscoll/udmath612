{
 "cells": [
  {
   "cell_type": "markdown",
   "metadata": {},
   "source": [
    "# Instability of Gram–Schmidt\n",
    "\n",
    "Both forms of Gram-Schmidt orthogonalization suffer from instability when used in finite precision. Here are our reference implementations again. "
   ]
  },
  {
   "cell_type": "code",
   "execution_count": 1,
   "metadata": {},
   "outputs": [],
   "source": [
    "using LinearAlgebra\n",
    "\n",
    "function cgs(A)\n",
    "    m,n = size(A)\n",
    "    Q = zeros(m,n)\n",
    "    R = zeros(n,n)\n",
    "    for j = 1:n\n",
    "        v = A[:,j]\n",
    "        for k = 1:j-1\n",
    "            R[k,j] = Q[:,k]⋅A[:,j]\n",
    "            v -= R[k,j]*Q[:,k]\n",
    "        end\n",
    "        R[j,j] = norm(v)\n",
    "        Q[:,j] = v/R[j,j]\n",
    "    end\n",
    "    return Q,R\n",
    "end;   \n",
    "\n",
    "function mgs(A)\n",
    "    m,n = size(A)\n",
    "    Q = zeros(m,n)\n",
    "    R = zeros(n,n)\n",
    "    B = copy(A)\n",
    "    for k = 1:n\n",
    "        R[k,k] = norm(B[:,k])\n",
    "        Q[:,k] = B[:,k]/R[k,k]\n",
    "        for j = k+1:n\n",
    "            R[k,j] = Q[:,k]⋅B[:,j]\n",
    "        end\n",
    "        B -= Q[:,k]*R[k,:]'\n",
    "    end\n",
    "    return Q,R\n",
    "end;  "
   ]
  },
  {
   "cell_type": "markdown",
   "metadata": {},
   "source": [
    "We are going to try these out on *Vandermonde* matrices. Given a vector $x$ of $m$ points, the columns of a Vandermonde matrix are evaluations of the monomials $1,x,\\ldots,x^{m-1}$, each at all of the points in $x$. For convenience we write a function that makes these matrices using equally spaced points in $[0,1]$. "
   ]
  },
  {
   "cell_type": "code",
   "execution_count": 2,
   "metadata": {},
   "outputs": [],
   "source": [
    "vander(m) = [ (i/m-1)^j for i=0:m-1, j=0:m-1 ];"
   ]
  },
  {
   "cell_type": "markdown",
   "metadata": {},
   "source": [
    "The test we will use is solving square linear systems of the form $Ax=b$ for vector $x$. If $A=QR$ is a full factorization, then $Rx=Q^*b$ and $x=R^{-1}Q^*b$. In practice we don't compute inverse matrices. Instead, since $R$ is triangular, we can use backward substitution. "
   ]
  },
  {
   "cell_type": "code",
   "execution_count": 3,
   "metadata": {},
   "outputs": [
    {
     "data": {
      "text/plain": [
       "backsub (generic function with 1 method)"
      ]
     },
     "execution_count": 3,
     "metadata": {},
     "output_type": "execute_result"
    }
   ],
   "source": [
    "function backsub(R,v)\n",
    "    x = zero(v)\n",
    "    n = length(x)\n",
    "    x[n] = v[n]/R[n,n]\n",
    "    for i = n-1:-1:1\n",
    "        x[i] = (v[i] - sum(R[i,j]*x[j] for j=i+1:n))/R[i,i]\n",
    "    end\n",
    "    return x\n",
    "end"
   ]
  },
  {
   "cell_type": "markdown",
   "metadata": {},
   "source": [
    "Finally, we run our experiment with MGS. For each $m$, we define a linear system whose solution we know exactly, and evaluate the accuracy of the result obtained by solving the system with an MGS factorization. "
   ]
  },
  {
   "cell_type": "code",
   "execution_count": 4,
   "metadata": {},
   "outputs": [
    {
     "name": "stdout",
     "output_type": "stream",
     "text": [
      "m = 3: relative error in x is 2.0643780405813746e-14\n",
      "m = 4: relative error in x is 2.765084163240567e-13\n",
      "m = 5: relative error in x is 4.3853264259829185e-11\n",
      "m = 6: relative error in x is 5.853934111692478e-10\n",
      "m = 7: relative error in x is 2.168939797200798e-8\n",
      "m = 8: relative error in x is 2.133216055674811e-6\n",
      "m = 9: relative error in x is 6.950940446701876e-5\n",
      "m = 10: relative error in x is 0.009033706217227188\n",
      "m = 11: relative error in x is 0.6422646160775008\n",
      "m = 12: relative error in x is 18.82690667221913\n"
     ]
    }
   ],
   "source": [
    "for m = 3:12\n",
    "    A = vander(m);\n",
    "    Q,R = mgs(A);\n",
    "    xact = ones(m);\n",
    "    b = A*xact;\n",
    "    x = backsub(R,Q'*b);\n",
    "    println(\"m = $m: relative error in x is $(norm(x-xact)/norm(xact))\")\n",
    "end"
   ]
  },
  {
   "cell_type": "markdown",
   "metadata": {},
   "source": [
    "Now, these don't look so good as $m$ increases. But as we will be seeing, we cannot always expect accurate solutions to this type of problem. Let's assume that the built-in QR factorization is as good as we can do, and see how it performs."
   ]
  },
  {
   "cell_type": "code",
   "execution_count": 5,
   "metadata": {},
   "outputs": [
    {
     "name": "stdout",
     "output_type": "stream",
     "text": [
      "m = 3: relative error in x is 1.1083711083656976e-15\n",
      "m = 4: relative error in x is 1.0413039739334374e-14\n",
      "m = 5: relative error in x is 2.539272045339701e-14\n",
      "m = 6: relative error in x is 4.3645828251288443e-13\n",
      "m = 7: relative error in x is 3.150971136357195e-12\n",
      "m = 8: relative error in x is 4.531953832679162e-12\n",
      "m = 9: relative error in x is 1.1372841335400557e-10\n",
      "m = 10: relative error in x is 5.227856787216244e-10\n",
      "m = 11: relative error in x is 1.0736373728650449e-8\n",
      "m = 12: relative error in x is 1.6887232227742025e-8\n"
     ]
    }
   ],
   "source": [
    "for m = 3:12\n",
    "    A = vander(m);\n",
    "    Q,R = qr(A);\n",
    "    xact = ones(m);\n",
    "    b = A*xact;\n",
    "    x = backsub(R,Q'*b);\n",
    "    println(\"m = $m: relative error in x is $(norm(x-xact)/norm(xact))\")\n",
    "end"
   ]
  },
  {
   "cell_type": "raw",
   "metadata": {},
   "source": [
    "So clearly, MGS is not as accurate as it could be! But CGS is even worse."
   ]
  },
  {
   "cell_type": "code",
   "execution_count": 6,
   "metadata": {},
   "outputs": [
    {
     "name": "stdout",
     "output_type": "stream",
     "text": [
      "m = 3: relative error in x is 2.8148916062398038e-14\n",
      "m = 4: relative error in x is 3.779868218405056e-13\n",
      "m = 5: relative error in x is 3.851582990433591e-10\n",
      "m = 6: relative error in x is 3.0706220658225446e-8\n",
      "m = 7: relative error in x is 2.1840474997942476e-5\n",
      "m = 8: relative error in x is 0.005523422161571493\n",
      "m = 9: relative error in x is 1.1591594671943921\n",
      "m = 10: relative error in x is 117.72592248679791\n",
      "m = 11: relative error in x is 424.11213131466843\n",
      "m = 12: relative error in x is 1260.9828870880735\n"
     ]
    }
   ],
   "source": [
    "for m = 3:12\n",
    "    A = vander(m);\n",
    "    Q,R = cgs(A);\n",
    "    xact = ones(m);\n",
    "    b = A*xact;\n",
    "    x = backsub(R,Q'*b);\n",
    "    println(\"m = $m: relative error in x is $(norm(x-xact)/norm(xact))\")\n",
    "end"
   ]
  },
  {
   "cell_type": "markdown",
   "metadata": {},
   "source": [
    "If we dig a little deeper, we find more detail about what is happening. "
   ]
  },
  {
   "cell_type": "code",
   "execution_count": 7,
   "metadata": {},
   "outputs": [
    {
     "name": "stdout",
     "output_type": "stream",
     "text": [
      "m = 3\n",
      "    MGS: norm(A-QR) = 6.206335383118183e-17, norm(Q'Q-I) = 2.8294355608193063e-15\n",
      "    CGS: norm(A-QR) = 6.206335383118183e-17, norm(Q'Q-I) = 9.795241106856997e-15\n",
      "m = 4\n",
      "    MGS: norm(A-QR) = 3.98609107286759e-17, norm(Q'Q-I) = 1.1805770268321427e-14\n",
      "    CGS: norm(A-QR) = 1.195827321860277e-16, norm(Q'Q-I) = 3.151179182222787e-14\n",
      "m = 5\n",
      "    MGS: norm(A-QR) = 2.3637248526677933e-16, norm(Q'Q-I) = 1.1677475425255558e-13\n",
      "    CGS: norm(A-QR) = 8.820715996190249e-17, norm(Q'Q-I) = 2.302225631664689e-11\n",
      "m = 6\n",
      "    MGS: norm(A-QR) = 2.5528169419283355e-16, norm(Q'Q-I) = 4.3400513987301074e-13\n",
      "    CGS: norm(A-QR) = 1.5771887037391902e-16, norm(Q'Q-I) = 1.1333992862760593e-9\n",
      "m = 7\n",
      "    MGS: norm(A-QR) = 1.876458360916472e-16, norm(Q'Q-I) = 1.2528518750336082e-12\n",
      "    CGS: norm(A-QR) = 1.7558966738132046e-16, norm(Q'Q-I) = 4.3721846056562734e-7\n",
      "m = 8\n",
      "    MGS: norm(A-QR) = 3.7611837884610617e-16, norm(Q'Q-I) = 3.090494607388847e-11\n",
      "    CGS: norm(A-QR) = 3.020416577293461e-16, norm(Q'Q-I) = 6.421857867294839e-5\n",
      "m = 9\n",
      "    MGS: norm(A-QR) = 2.539308265535858e-16, norm(Q'Q-I) = 1.234851698231247e-10\n",
      "    CGS: norm(A-QR) = 3.9715528923212485e-16, norm(Q'Q-I) = 0.008027587132975939\n",
      "m = 10\n",
      "    MGS: norm(A-QR) = 2.88859820515216e-16, norm(Q'Q-I) = 3.473776007235162e-9\n",
      "    CGS: norm(A-QR) = 3.502493649069733e-16, norm(Q'Q-I) = 1.3664362721100665\n",
      "m = 11\n",
      "    MGS: norm(A-QR) = 4.4115836951273857e-16, norm(Q'Q-I) = 1.7894444087522615e-8\n",
      "    CGS: norm(A-QR) = 4.213969155738304e-16, norm(Q'Q-I) = 1.6797708289510502\n",
      "m = 12\n",
      "    MGS: norm(A-QR) = 5.408204528469073e-16, norm(Q'Q-I) = 1.2035675911705857e-7\n",
      "    CGS: norm(A-QR) = 4.2995370300670946e-16, norm(Q'Q-I) = 3.093615540266756\n"
     ]
    }
   ],
   "source": [
    "for m = 3:12\n",
    "    A = vander(m);\n",
    "    Q,R = mgs(A);\n",
    "    println(\"m = $m\")\n",
    "    println(\"    MGS: norm(A-QR) = $(norm(A-Q*R)), norm(Q'Q-I) = $(norm(Q'*Q-I))\")\n",
    "    Q,R = cgs(A);\n",
    "    println(\"    CGS: norm(A-QR) = $(norm(A-Q*R)), norm(Q'Q-I) = $(norm(Q'*Q-I))\")\n",
    "end"
   ]
  },
  {
   "cell_type": "markdown",
   "metadata": {},
   "source": [
    "Both algorithms produce matrices such that $QR\\approx A$. However, they do a poor job at ensuring that $Q$ is orthogonal/unitary. (As it happens, this problem in CGS is more severe, and it also gets a poor $R$, unlike MGS.)\n",
    "\n",
    "When one algorithm used in finite precision has solutions with much greater error than can be obtained through a different method, we say the algorithm is *unstable*. We will have a lot more to say on this subject soon. "
   ]
  }
 ],
 "metadata": {
  "kernelspec": {
   "display_name": "Julia 1.0.0",
   "language": "julia",
   "name": "julia-1.0"
  },
  "language_info": {
   "file_extension": ".jl",
   "mimetype": "application/julia",
   "name": "julia",
   "version": "1.0.0"
  }
 },
 "nbformat": 4,
 "nbformat_minor": 2
}
