{
 "cells": [
  {
   "cell_type": "markdown",
   "metadata": {},
   "source": [
    "# LDL and Cholesky factorizations\n",
    "\n",
    "## Symmetric elimination\n",
    "\n",
    "Suppose we have a symmetric (or hermitian) matrix $A$. We'd like to symmetrize the $A=LU$ factorization. We can't simply set $U=L^*$, because $L$ has ones on the diagonal. But the factorization $A=LDL^*$ will work for diagonal D and unit lower triangular $L$. \n",
    "\n",
    "Defining (in the real case)\n",
    "\n",
    "$$A_j = \\sum_{k=j}^m d_k \\ell_k \\ell_k^T,$$\n",
    "\n",
    "we have $A_1e_1=Ae_1=d_1 \\ell_1$. Thanks to the normalization $L_{1,1}=1$, we can deduce $d_1$ and $\\ell_1$ from this. "
   ]
  },
  {
   "cell_type": "code",
   "execution_count": 1,
   "metadata": {
    "collapsed": false
   },
   "outputs": [
    {
     "data": {
      "text/plain": [
       "4×4 Diagonal{Float64,Array{Float64,1}}:\n",
       " 33.0   ⋅    ⋅    ⋅ \n",
       "   ⋅   0.0   ⋅    ⋅ \n",
       "   ⋅    ⋅   0.0   ⋅ \n",
       "   ⋅    ⋅    ⋅   0.0"
      ]
     },
     "metadata": {},
     "output_type": "display_data"
    },
    {
     "data": {
      "text/plain": [
       "4×4 LowerTriangular{Float64,Array{Float64,2}}:\n",
       " 1.0        ⋅    ⋅    ⋅ \n",
       " 0.212121  0.0   ⋅    ⋅ \n",
       " 0.363636  0.0  0.0   ⋅ \n",
       " 0.515152  0.0  0.0  0.0"
      ]
     },
     "metadata": {},
     "output_type": "display_data"
    }
   ],
   "source": [
    "using LinearAlgebra\n",
    "\n",
    "A = [ \n",
    "    33     7    12    17\n",
    "     7    23    17    22\n",
    "    12    17    13    27\n",
    "    17    22    27     3\n",
    "];\n",
    "\n",
    "L = LowerTriangular(zeros(4,4))\n",
    "D = Diagonal(zeros(4,4))\n",
    "\n",
    "A1 = A\n",
    "D[1,1] = A1[1,1]\n",
    "L[:,1] = A1[:,1]/D[1,1]\n",
    "display(D)\n",
    "display(L)"
   ]
  },
  {
   "cell_type": "markdown",
   "metadata": {},
   "source": [
    "Things unfold much as in basic $LU$. The next step is to get $A_2$, which is zero in the first row and column. Then $A_2e_2=d_2\\ell_2$, and so on."
   ]
  },
  {
   "cell_type": "code",
   "execution_count": 2,
   "metadata": {
    "collapsed": false
   },
   "outputs": [
    {
     "data": {
      "text/plain": [
       "4×4 Array{Float64,2}:\n",
       " 0.0   0.0      0.0       0.0    \n",
       " 0.0  21.5152  14.4545   18.3939 \n",
       " 0.0  14.4545   8.63636  20.8182 \n",
       " 0.0  18.3939  20.8182   -5.75758"
      ]
     },
     "execution_count": 2,
     "metadata": {},
     "output_type": "execute_result"
    }
   ],
   "source": [
    "A2 = A1 - D[1,1]*L[:,1]*L[:,1]'"
   ]
  },
  {
   "cell_type": "code",
   "execution_count": 3,
   "metadata": {
    "collapsed": false
   },
   "outputs": [
    {
     "data": {
      "text/plain": [
       "4×4 Diagonal{Float64,Array{Float64,1}}:\n",
       " 33.0    ⋅       ⋅    ⋅ \n",
       "   ⋅   21.5152   ⋅    ⋅ \n",
       "   ⋅     ⋅      0.0   ⋅ \n",
       "   ⋅     ⋅       ⋅   0.0"
      ]
     },
     "metadata": {},
     "output_type": "display_data"
    },
    {
     "data": {
      "text/plain": [
       "4×4 LowerTriangular{Float64,Array{Float64,2}}:\n",
       " 1.0        ⋅         ⋅    ⋅ \n",
       " 0.212121  1.0        ⋅    ⋅ \n",
       " 0.363636  0.671831  0.0   ⋅ \n",
       " 0.515152  0.85493   0.0  0.0"
      ]
     },
     "metadata": {},
     "output_type": "display_data"
    }
   ],
   "source": [
    "D[2,2] = A2[2,2]\n",
    "L[:,2] = A2[:,2]/D[2,2]\n",
    "display(D)\n",
    "display(L)"
   ]
  },
  {
   "cell_type": "code",
   "execution_count": 4,
   "metadata": {},
   "outputs": [
    {
     "data": {
      "text/plain": [
       "4×4 Array{Float64,2}:\n",
       " 0.0  0.0   0.0        0.0    \n",
       " 0.0  0.0   0.0        0.0    \n",
       " 0.0  0.0  -1.07465    8.46056\n",
       " 0.0  0.0   8.46056  -21.4831 "
      ]
     },
     "execution_count": 4,
     "metadata": {},
     "output_type": "execute_result"
    }
   ],
   "source": [
    "A3 = A2 - D[2,2]*L[:,2]*L[:,2]'"
   ]
  },
  {
   "cell_type": "markdown",
   "metadata": {},
   "source": [
    "This result is symmetric, which is no accident. In fact we can get here simply by"
   ]
  },
  {
   "cell_type": "code",
   "execution_count": 5,
   "metadata": {
    "collapsed": false
   },
   "outputs": [
    {
     "data": {
      "text/plain": [
       "4×4 Diagonal{Float64,Array{Float64,1}}:\n",
       " 33.0    ⋅        ⋅         ⋅    \n",
       "   ⋅   21.5152    ⋅         ⋅    \n",
       "   ⋅     ⋅      -1.07465    ⋅    \n",
       "   ⋅     ⋅        ⋅       45.1258"
      ]
     },
     "metadata": {},
     "output_type": "display_data"
    },
    {
     "data": {
      "text/plain": [
       "4×4 LowerTriangular{Float64,Array{Float64,2}}:\n",
       " 1.0        ⋅          ⋅        ⋅ \n",
       " 0.212121  1.0         ⋅        ⋅ \n",
       " 0.363636  0.671831   1.0       ⋅ \n",
       " 0.515152  0.85493   -7.87287  1.0"
      ]
     },
     "metadata": {},
     "output_type": "display_data"
    }
   ],
   "source": [
    "D[3,3] = A3[3,3]\n",
    "L[:,3] = A3[:,3]/D[3,3]\n",
    "A4 = A3 - D[3,3]*L[:,3]*L[:,3]'\n",
    "D[4,4] = A4[4,4]\n",
    "L[4,4] = 1\n",
    "\n",
    "display(D)\n",
    "display(L)"
   ]
  },
  {
   "cell_type": "markdown",
   "metadata": {},
   "source": [
    "As long as we apply elimination symmetrically on the left and right, we preserve the symmetry of $A$ as the elimination proceeds. "
   ]
  },
  {
   "cell_type": "code",
   "execution_count": 6,
   "metadata": {
    "collapsed": false
   },
   "outputs": [
    {
     "data": {
      "text/plain": [
       "0.0"
      ]
     },
     "execution_count": 6,
     "metadata": {},
     "output_type": "execute_result"
    }
   ],
   "source": [
    "norm(A - L*D*L')"
   ]
  },
  {
   "cell_type": "markdown",
   "metadata": {},
   "source": [
    "Like unpivoted LU factorization, the $A=LDL^*$ factorization is unstable. It can be pivoted into stability, but the details are surprisingly subtle, and it's not used often. We're after something more important."
   ]
  },
  {
   "cell_type": "markdown",
   "metadata": {},
   "source": [
    "## HPD matrices and the Cholesky factorization\n",
    "\n",
    "If in addition to symmetry/hermitianness we also know that the quadratic form $x^*Ax$ is positive for all nonzero $x$, then $A$ is said to be **positive definite** (often written **SPD** or **HPD**). By taking $x=e_k$, we can see that $a_{kk}>0$; i.e., all diagonal entries are positive. \n",
    "\n",
    "Let's rerun the symmetric factorization, with a matrix guaranteed to be HPD."
   ]
  },
  {
   "cell_type": "code",
   "execution_count": 7,
   "metadata": {
    "collapsed": false
   },
   "outputs": [
    {
     "data": {
      "text/plain": [
       "4×4 Array{Float64,2}:\n",
       " 15.71   9.7   11.3   10.9 \n",
       "  9.7   13.51  12.9   11.5 \n",
       " 11.3   12.9   13.31  10.1 \n",
       " 10.9   11.5   10.1   15.11"
      ]
     },
     "execution_count": 7,
     "metadata": {},
     "output_type": "execute_result"
    }
   ],
   "source": [
    "A = A'*A/100"
   ]
  },
  {
   "cell_type": "markdown",
   "metadata": {},
   "source": [
    "In the first step of the symmetric factorization, we isolate $d_1\\ell_1\\ell_1^*$. But we know that $d_1=1/A_{1,1}>0$, so we can write this as $(c_1\\ell_1)(c_1\\ell_1)^*$, where $c_1^2=d_1$. Define $s_1=c_1\\ell_1$. This gives us $A_1e_1 = c_1s_1$. "
   ]
  },
  {
   "cell_type": "code",
   "execution_count": 8,
   "metadata": {
    "collapsed": false
   },
   "outputs": [
    {
     "data": {
      "text/plain": [
       "4×4 LowerTriangular{Float64,Array{Float64,2}}:\n",
       " 3.96358   ⋅    ⋅    ⋅ \n",
       " 2.44728  0.0   ⋅    ⋅ \n",
       " 2.85095  0.0  0.0   ⋅ \n",
       " 2.75004  0.0  0.0  0.0"
      ]
     },
     "metadata": {},
     "output_type": "display_data"
    }
   ],
   "source": [
    "S = LowerTriangular(zeros(4,4))\n",
    "\n",
    "c1 = sqrt(A[1,1])\n",
    "S[:,1] = A[:,1]/c1\n",
    "display(S)"
   ]
  },
  {
   "cell_type": "markdown",
   "metadata": {},
   "source": [
    "Now we proceed to $A_2$. "
   ]
  },
  {
   "cell_type": "code",
   "execution_count": 9,
   "metadata": {
    "collapsed": false
   },
   "outputs": [
    {
     "data": {
      "text/plain": [
       "4×4 Array{Float64,2}:\n",
       " 1.77636e-15  1.77636e-15  0.0      1.77636e-15\n",
       " 1.77636e-15  7.52082      5.92292  4.76989    \n",
       " 0.0          5.92292      5.18206  2.25977    \n",
       " 1.77636e-15  4.76989      2.25977  7.5473     "
      ]
     },
     "execution_count": 9,
     "metadata": {},
     "output_type": "execute_result"
    }
   ],
   "source": [
    "A2 = A - S[:,1]*S[:,1]'"
   ]
  },
  {
   "cell_type": "markdown",
   "metadata": {},
   "source": [
    "We want to proceed recursively, so it's fortunate that the (2,2) element here is positive. In general, that lower-right submatrix is positive definite, as one can prove using an argument similar to the book's theorem. Assuming that's in hand, we know that we can continue."
   ]
  },
  {
   "cell_type": "code",
   "execution_count": 10,
   "metadata": {
    "collapsed": false
   },
   "outputs": [
    {
     "data": {
      "text/plain": [
       "4×4 LowerTriangular{Float64,Array{Float64,2}}:\n",
       " 3.96358   ⋅        ⋅    ⋅ \n",
       " 2.44728  2.74241   ⋅    ⋅ \n",
       " 2.85095  2.15975  0.0   ⋅ \n",
       " 2.75004  1.73931  0.0  0.0"
      ]
     },
     "metadata": {},
     "output_type": "display_data"
    }
   ],
   "source": [
    "c2 = sqrt(A2[2,2])\n",
    "S[2:4,2] = A2[2:4,2]/c2\n",
    "display(S)"
   ]
  },
  {
   "cell_type": "code",
   "execution_count": 11,
   "metadata": {
    "collapsed": false
   },
   "outputs": [
    {
     "data": {
      "text/plain": [
       "4×4 Array{Float64,2}:\n",
       " 1.77636e-15   1.77636e-15   0.0        1.77636e-15\n",
       " 1.77636e-15  -8.88178e-16   0.0       -8.88178e-16\n",
       " 0.0           0.0           0.517549  -1.49669    \n",
       " 1.77636e-15  -8.88178e-16  -1.49669    4.52212    "
      ]
     },
     "execution_count": 11,
     "metadata": {},
     "output_type": "execute_result"
    }
   ],
   "source": [
    "A3 = A2 - S[:,2]*S[:,2]'"
   ]
  },
  {
   "cell_type": "code",
   "execution_count": 12,
   "metadata": {
    "collapsed": false
   },
   "outputs": [
    {
     "data": {
      "text/plain": [
       "4×4 LowerTriangular{Float64,Array{Float64,2}}:\n",
       " 3.96358   ⋅         ⋅         ⋅ \n",
       " 2.44728  2.74241    ⋅         ⋅ \n",
       " 2.85095  2.15975   0.719408   ⋅ \n",
       " 2.75004  1.73931  -2.08044   0.0"
      ]
     },
     "metadata": {},
     "output_type": "display_data"
    }
   ],
   "source": [
    "c3 = sqrt(A3[3,3])\n",
    "S[3:4,3] = A3[3:4,3]/c3\n",
    "display(S)"
   ]
  },
  {
   "cell_type": "code",
   "execution_count": 13,
   "metadata": {
    "collapsed": false
   },
   "outputs": [
    {
     "data": {
      "text/plain": [
       "4×4 Array{Float64,2}:\n",
       " 1.77636e-15   1.77636e-15   0.0           1.77636e-15\n",
       " 1.77636e-15  -8.88178e-16   0.0          -8.88178e-16\n",
       " 0.0           0.0          -1.11022e-16   4.44089e-16\n",
       " 1.77636e-15  -8.88178e-16   4.44089e-16   0.193868   "
      ]
     },
     "execution_count": 13,
     "metadata": {},
     "output_type": "execute_result"
    }
   ],
   "source": [
    "A4 = A3 - S[:,3]*S[:,3]'"
   ]
  },
  {
   "cell_type": "code",
   "execution_count": 14,
   "metadata": {
    "collapsed": false
   },
   "outputs": [
    {
     "data": {
      "text/plain": [
       "4×4 LowerTriangular{Float64,Array{Float64,2}}:\n",
       " 3.96358   ⋅         ⋅         ⋅      \n",
       " 2.44728  2.74241    ⋅         ⋅      \n",
       " 2.85095  2.15975   0.719408   ⋅      \n",
       " 2.75004  1.73931  -2.08044   0.440305"
      ]
     },
     "metadata": {},
     "output_type": "display_data"
    }
   ],
   "source": [
    "S[4,4] = sqrt(A4[4,4])\n",
    "display(S)"
   ]
  },
  {
   "cell_type": "code",
   "execution_count": 15,
   "metadata": {
    "collapsed": false
   },
   "outputs": [
    {
     "data": {
      "text/plain": [
       "4.351167857633658e-15"
      ]
     },
     "execution_count": 15,
     "metadata": {},
     "output_type": "execute_result"
    }
   ],
   "source": [
    "norm(A-S*S')"
   ]
  },
  {
   "cell_type": "markdown",
   "metadata": {},
   "source": [
    "We have factored $A=SS^*$ for lower triangular $S$. This is the **Cholesky factorization**. It is usually written in terms of an upper triangular matrix, $A=R^*R$. "
   ]
  },
  {
   "cell_type": "code",
   "execution_count": 16,
   "metadata": {
    "collapsed": false
   },
   "outputs": [
    {
     "data": {
      "text/plain": [
       "Cholesky{Float64,Array{Float64,2}}\n",
       "U factor:\n",
       "4×4 UpperTriangular{Float64,Array{Float64,2}}:\n",
       " 3.96358  2.44728  2.85095    2.75004 \n",
       "  ⋅       2.74241  2.15975    1.73931 \n",
       "  ⋅        ⋅       0.719408  -2.08044 \n",
       "  ⋅        ⋅        ⋅         0.440305"
      ]
     },
     "execution_count": 16,
     "metadata": {},
     "output_type": "execute_result"
    }
   ],
   "source": [
    "cholesky(A)"
   ]
  },
  {
   "cell_type": "markdown",
   "metadata": {},
   "source": [
    "In a nice wrinkle, Cholesky factorization is stable out of the box---no pivoting is ever necessary."
   ]
  }
 ],
 "metadata": {
  "kernelspec": {
   "display_name": "Julia 1.0.0",
   "language": "julia",
   "name": "julia-1.0"
  },
  "language_info": {
   "file_extension": ".jl",
   "mimetype": "application/julia",
   "name": "julia",
   "version": "1.0.0"
  }
 },
 "nbformat": 4,
 "nbformat_minor": 2
}
