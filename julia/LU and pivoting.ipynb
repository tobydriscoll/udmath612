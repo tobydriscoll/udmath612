{
 "cells": [
  {
   "cell_type": "markdown",
   "metadata": {},
   "source": [
    "# LU factorization\n",
    "\n",
    "## Basic form\n",
    "\n",
    "Our goal is to factor $A=LU$, where $L$ is unit lower triangular and $U$ is upper triangular. As the book explains, expressing Gaussian elimination using linear algebra leads to an algorithm. We will derive it differently, using the outer product form of $LU$, similarly to how we found modified Gram-Schmidt. \n",
    "\n",
    "Define \n",
    "\n",
    "$$A_j = \\sum_{k=j}^m \\ell_k u_k^*, \\qquad j=1,\\ldots,m.$$\n",
    "\n",
    "Note that $A_1=A$. Let's step through a small example. "
   ]
  },
  {
   "cell_type": "code",
   "execution_count": 1,
   "metadata": {},
   "outputs": [
    {
     "data": {
      "text/plain": [
       "4×4 Array{Int64,2}:\n",
       " 2   1   2  6\n",
       " 3  10   6  2\n",
       " 2   8  10  2\n",
       " 6   1   4  3"
      ]
     },
     "execution_count": 1,
     "metadata": {},
     "output_type": "execute_result"
    }
   ],
   "source": [
    "using LinearAlgebra\n",
    "\n",
    "A = rand(1:10,4,4)\n",
    "A1 = A"
   ]
  },
  {
   "cell_type": "markdown",
   "metadata": {},
   "source": [
    "Let's look at the first row of $A_1$. We can express this algebraically as \n",
    "\n",
    "$$e_1^* A_1 = \\sum_{k=1}^m (e_1^* \\ell_k) u_k^* = u_1^*,$$\n",
    "\n",
    "thanks to the structure of $L$. From this identity we get the first row of $U$. Similarly, if we look at the first column of $A_1$, we find\n",
    "\n",
    "$$A_1 e_1 = \\sum_{k=1}^m \\ell_k (u_k^*e_1) = U_{11}\\ell_1,$$\n",
    "\n",
    "which gives us the first column of $L$. \n",
    "\n",
    "(Just for fun, let's try this using `Rational` numbers.)"
   ]
  },
  {
   "cell_type": "code",
   "execution_count": 2,
   "metadata": {},
   "outputs": [
    {
     "data": {
      "text/plain": [
       "4×4 LowerTriangular{Rational{Int64},Array{Rational{Int64},2}}:\n",
       " 1//1   ⋅     ⋅     ⋅  \n",
       " 3//2  0//1   ⋅     ⋅  \n",
       " 1//1  0//1  0//1   ⋅  \n",
       " 3//1  0//1  0//1  0//1"
      ]
     },
     "metadata": {},
     "output_type": "display_data"
    },
    {
     "data": {
      "text/plain": [
       "4×4 UpperTriangular{Rational{Int64},Array{Rational{Int64},2}}:\n",
       " 2//1  1//1  2//1  6//1\n",
       "  ⋅    0//1  0//1  0//1\n",
       "  ⋅     ⋅    0//1  0//1\n",
       "  ⋅     ⋅     ⋅    0//1"
      ]
     },
     "metadata": {},
     "output_type": "display_data"
    }
   ],
   "source": [
    "U = UpperTriangular(fill(0//1,4,4))\n",
    "L = LowerTriangular(fill(0//1,4,4))\n",
    "\n",
    "U[1,:] = A1[1,:]\n",
    "L[:,1] = A1[:,1]//U[1,1]\n",
    "display(L)\n",
    "display(U)"
   ]
  },
  {
   "cell_type": "markdown",
   "metadata": {},
   "source": [
    "Now we can construct $A_2=A_1-\\ell_1u_1^*$. Note that \n",
    "\n",
    "$$e_1^* A_2 = e_1^*A_1 - u_1^* = 0,$$ \n",
    "\n",
    "and \n",
    "\n",
    "$$A_2e_1 = A_1e_1 - \\ell_1 U_{11} = 0.$$\n",
    "\n",
    "In other words, the first rank-one term $\\ell_1 u_1^*$ captures and cancels out the first row and column of the original $A$. "
   ]
  },
  {
   "cell_type": "code",
   "execution_count": 3,
   "metadata": {},
   "outputs": [
    {
     "data": {
      "text/plain": [
       "4×4 Array{Rational{Int64},2}:\n",
       " 0//1   0//1   0//1    0//1\n",
       " 0//1  17//2   3//1   -7//1\n",
       " 0//1   7//1   8//1   -4//1\n",
       " 0//1  -2//1  -2//1  -15//1"
      ]
     },
     "execution_count": 3,
     "metadata": {},
     "output_type": "execute_result"
    }
   ],
   "source": [
    "A2 = A1 - L[:,1]*U[1,:]'"
   ]
  },
  {
   "cell_type": "markdown",
   "metadata": {},
   "source": [
    "Now we move on to take out the second column and row. Observe that \n",
    "\n",
    "$$ e_2^*A_2 = \\sum_{k=2}^m (e_2^* \\ell_k) u_k^* = u_2^*,$$\n",
    "\n",
    "and \n",
    "\n",
    "$$A_2 e_2 = \\sum_{k=2}^m \\ell_k (u_k^*e_2) = U_{22}\\ell_2.$$"
   ]
  },
  {
   "cell_type": "code",
   "execution_count": 4,
   "metadata": {},
   "outputs": [
    {
     "data": {
      "text/plain": [
       "4×4 LowerTriangular{Rational{Int64},Array{Rational{Int64},2}}:\n",
       " 1//1    ⋅      ⋅     ⋅  \n",
       " 3//2   1//1    ⋅     ⋅  \n",
       " 1//1  14//17  0//1   ⋅  \n",
       " 3//1  -4//17  0//1  0//1"
      ]
     },
     "metadata": {},
     "output_type": "display_data"
    },
    {
     "data": {
      "text/plain": [
       "4×4 UpperTriangular{Rational{Int64},Array{Rational{Int64},2}}:\n",
       " 2//1   1//1  2//1   6//1\n",
       "  ⋅    17//2  3//1  -7//1\n",
       "  ⋅      ⋅    0//1   0//1\n",
       "  ⋅      ⋅     ⋅     0//1"
      ]
     },
     "metadata": {},
     "output_type": "display_data"
    }
   ],
   "source": [
    "U[2,:] = A2[2,:]\n",
    "L[:,2] = A2[:,2]/U[2,2]\n",
    "display(L)\n",
    "display(U)"
   ]
  },
  {
   "cell_type": "markdown",
   "metadata": {},
   "source": [
    "You may have guessed that this will capture the second row and column, so that we can zero those out too."
   ]
  },
  {
   "cell_type": "code",
   "execution_count": 5,
   "metadata": {},
   "outputs": [
    {
     "data": {
      "text/plain": [
       "4×4 Array{Rational{Int64},2}:\n",
       " 0//1  0//1    0//1      0//1 \n",
       " 0//1  0//1    0//1      0//1 \n",
       " 0//1  0//1   94//17    30//17\n",
       " 0//1  0//1  -22//17  -283//17"
      ]
     },
     "execution_count": 5,
     "metadata": {},
     "output_type": "execute_result"
    }
   ],
   "source": [
    "A3 = A2 - L[:,2]*U[2,:]'"
   ]
  },
  {
   "cell_type": "markdown",
   "metadata": {},
   "source": [
    "And so on."
   ]
  },
  {
   "cell_type": "code",
   "execution_count": 6,
   "metadata": {},
   "outputs": [
    {
     "data": {
      "text/plain": [
       "4×4 LowerTriangular{Rational{Int64},Array{Rational{Int64},2}}:\n",
       " 1//1    ⋅        ⋅      ⋅  \n",
       " 3//2   1//1      ⋅      ⋅  \n",
       " 1//1  14//17    1//1    ⋅  \n",
       " 3//1  -4//17  -11//47  1//1"
      ]
     },
     "metadata": {},
     "output_type": "display_data"
    },
    {
     "data": {
      "text/plain": [
       "4×4 UpperTriangular{Rational{Int64},Array{Rational{Int64},2}}:\n",
       " 2//1   1//1   2//1      6//1 \n",
       "  ⋅    17//2   3//1     -7//1 \n",
       "  ⋅      ⋅    94//17    30//17\n",
       "  ⋅      ⋅      ⋅     -763//47"
      ]
     },
     "metadata": {},
     "output_type": "display_data"
    }
   ],
   "source": [
    "U[3,:] = A3[3,:]\n",
    "L[:,3] = A3[:,3]/U[3,3]\n",
    "A4 = A3 - L[:,3]*U[3,:]'\n",
    "\n",
    "U[4,:] = A4[4,:]\n",
    "L[:,4] = A4[:,4]/U[4,4]\n",
    "display(L)\n",
    "display(U)"
   ]
  },
  {
   "cell_type": "markdown",
   "metadata": {},
   "source": [
    "This is the whole factorization:"
   ]
  },
  {
   "cell_type": "code",
   "execution_count": 7,
   "metadata": {},
   "outputs": [
    {
     "data": {
      "text/plain": [
       "4×4 Array{Rational{Int64},2}:\n",
       " 0//1  0//1  0//1  0//1\n",
       " 0//1  0//1  0//1  0//1\n",
       " 0//1  0//1  0//1  0//1\n",
       " 0//1  0//1  0//1  0//1"
      ]
     },
     "execution_count": 7,
     "metadata": {},
     "output_type": "execute_result"
    }
   ],
   "source": [
    "A-L*U"
   ]
  },
  {
   "cell_type": "markdown",
   "metadata": {},
   "source": [
    "Before we can write this as an algorithm, though, we need to address an important possible failure point."
   ]
  },
  {
   "cell_type": "markdown",
   "metadata": {},
   "source": [
    "## Pivoting\n",
    "\n",
    "Above, we iteratively divided by the entries $U_{11},U_{22},\\ldots$ as we found them. What if one of these were zero? We can easily find an example where this happens almost immediately."
   ]
  },
  {
   "cell_type": "code",
   "execution_count": 8,
   "metadata": {},
   "outputs": [
    {
     "data": {
      "text/plain": [
       "4×4 Array{Int64,2}:\n",
       " 0   1   2  6\n",
       " 3  10   6  2\n",
       " 2   8  10  2\n",
       " 6   1   4  3"
      ]
     },
     "execution_count": 8,
     "metadata": {},
     "output_type": "execute_result"
    }
   ],
   "source": [
    "A[1,1] = 0\n",
    "A"
   ]
  },
  {
   "cell_type": "code",
   "execution_count": 9,
   "metadata": {},
   "outputs": [
    {
     "data": {
      "text/plain": [
       "4×4 Array{Float64,2}:\n",
       " NaN  0.0  0.0  0.0\n",
       " Inf  0.0  0.0  0.0\n",
       " Inf  0.0  0.0  0.0\n",
       " Inf  0.0  0.0  0.0"
      ]
     },
     "metadata": {},
     "output_type": "display_data"
    },
    {
     "data": {
      "text/plain": [
       "4×4 Array{Float64,2}:\n",
       " 0.0  1.0  2.0  6.0\n",
       " 0.0  0.0  0.0  0.0\n",
       " 0.0  0.0  0.0  0.0\n",
       " 0.0  0.0  0.0  0.0"
      ]
     },
     "metadata": {},
     "output_type": "display_data"
    }
   ],
   "source": [
    "U = zeros(4,4)\n",
    "L = zeros(4,4)\n",
    "\n",
    "A1 = A\n",
    "U[1,:] = A1[1,:]\n",
    "L[:,1] = A1[:,1]/U[1,1]\n",
    "display(L)\n",
    "display(U)"
   ]
  },
  {
   "cell_type": "markdown",
   "metadata": {},
   "source": [
    "You might be thinking that maybe $A$ is singular, so we're off the hook. But that is not the case."
   ]
  },
  {
   "cell_type": "code",
   "execution_count": 10,
   "metadata": {},
   "outputs": [
    {
     "data": {
      "text/plain": [
       "4-element Array{Float64,1}:\n",
       " 18.702392214146194 \n",
       "  6.501913467263393 \n",
       "  4.70885263842889  \n",
       "  3.1260763845472246"
      ]
     },
     "execution_count": 10,
     "metadata": {},
     "output_type": "execute_result"
    }
   ],
   "source": [
    "svdvals(A)"
   ]
  },
  {
   "cell_type": "markdown",
   "metadata": {},
   "source": [
    "However, there's a part of standard Gaussian elimination we have not yet used: swapping rows of the matrix. In a linear system of equations, this leaves the solution unchanged. By swapping rows to put a nonzero in the \"pivot\" location $(k,k)$ of $A_k$, the algorithm may continue. \n",
    "\n",
    "We'll look at this a little differently. Rather than trying to zero out the first row and first column with $\\ell_1 u_1^*$, we will chose a different row, which we denote by $i_1$. We will also change the old structural requirements \n",
    "\n",
    "$$L_{11} = 1, \\quad L_{12}=L_{13}=\\cdots=L_{1m}=0,$$ \n",
    "\n",
    "to hold for row $i_1$ rather than row 1. So now \n",
    "\n",
    "$$e_{i_1}^* A_1 = \\sum_{k=1}^m (e_{i_1}^* \\ell_k) u_k^* = u_1^*,$$\n",
    "\n",
    "which as before gives a way to extract $u_1^*$. But now $U_{11}$ is the $(i_1,1)$ element of $A$. If we can't find an $i_1$ such that this is nonzero, then the entire first column of $A$ is zero, and this *would* imply that $A$ is singular. Otherwise, we have $A_1 e_1=U_{11}\\ell_1$ exactly as before, and we know that we can compute $\\ell_1$. \n",
    "\n",
    "This is a lot less daunting than the formalism makes it sound. First, we use the maximum element in column 1 to select $i_1$ (more on this later). "
   ]
  },
  {
   "cell_type": "code",
   "execution_count": 11,
   "metadata": {},
   "outputs": [
    {
     "data": {
      "text/plain": [
       "4"
      ]
     },
     "execution_count": 11,
     "metadata": {},
     "output_type": "execute_result"
    }
   ],
   "source": [
    "i = zeros(Int,4);\n",
    "i[1] = findmax(abs.(A1[:,1]))[2]"
   ]
  },
  {
   "cell_type": "markdown",
   "metadata": {},
   "source": [
    "So we are targeting row 3 and column 1 to zero out. "
   ]
  },
  {
   "cell_type": "code",
   "execution_count": 12,
   "metadata": {},
   "outputs": [
    {
     "data": {
      "text/plain": [
       "4×4 Array{Float64,2}:\n",
       " 0.0       0.0  0.0  0.0\n",
       " 0.5       0.0  0.0  0.0\n",
       " 0.333333  0.0  0.0  0.0\n",
       " 1.0       0.0  0.0  0.0"
      ]
     },
     "metadata": {},
     "output_type": "display_data"
    },
    {
     "data": {
      "text/plain": [
       "4×4 Array{Float64,2}:\n",
       " 6.0  1.0  4.0  3.0\n",
       " 0.0  0.0  0.0  0.0\n",
       " 0.0  0.0  0.0  0.0\n",
       " 0.0  0.0  0.0  0.0"
      ]
     },
     "metadata": {},
     "output_type": "display_data"
    }
   ],
   "source": [
    "A1 = A\n",
    "U[1,:] = A1[i[1],:]\n",
    "L[:,1] = A1[:,1]/U[1,1]\n",
    "display(L)\n",
    "display(U)"
   ]
  },
  {
   "cell_type": "code",
   "execution_count": 13,
   "metadata": {},
   "outputs": [
    {
     "data": {
      "text/plain": [
       "4×4 Array{Float64,2}:\n",
       " 0.0  1.0      2.0      6.0\n",
       " 0.0  9.5      4.0      0.5\n",
       " 0.0  7.66667  8.66667  1.0\n",
       " 0.0  0.0      0.0      0.0"
      ]
     },
     "execution_count": 13,
     "metadata": {},
     "output_type": "execute_result"
    }
   ],
   "source": [
    "A2 = A1 - L[:,1]*U[1,:]'"
   ]
  },
  {
   "cell_type": "markdown",
   "metadata": {},
   "source": [
    "Now we select a new row $i_2$ with a nonzero pivot in column 2."
   ]
  },
  {
   "cell_type": "code",
   "execution_count": 14,
   "metadata": {},
   "outputs": [
    {
     "data": {
      "text/plain": [
       "2"
      ]
     },
     "execution_count": 14,
     "metadata": {},
     "output_type": "execute_result"
    }
   ],
   "source": [
    "i[2] = findmax(abs.(A2[:,2]))[2]"
   ]
  },
  {
   "cell_type": "markdown",
   "metadata": {},
   "source": [
    "Now we want $e_{i_2}^*A_2=u_2^*$. This happens if we require\n",
    "\n",
    "$$L_{i_2,2} = 1, \\quad L_{i_2,3}=\\cdots=L_{i_2,m}=0.$$ \n",
    "\n",
    "(Note that $L_{i_2,1}$ was previously determined.) "
   ]
  },
  {
   "cell_type": "code",
   "execution_count": 15,
   "metadata": {},
   "outputs": [
    {
     "data": {
      "text/plain": [
       "4×4 Array{Float64,2}:\n",
       " 0.0       0.105263  0.0  0.0\n",
       " 0.5       1.0       0.0  0.0\n",
       " 0.333333  0.807018  0.0  0.0\n",
       " 1.0       0.0       0.0  0.0"
      ]
     },
     "metadata": {},
     "output_type": "display_data"
    },
    {
     "data": {
      "text/plain": [
       "4×4 Array{Float64,2}:\n",
       " 6.0  1.0  4.0  3.0\n",
       " 0.0  9.5  4.0  0.5\n",
       " 0.0  0.0  0.0  0.0\n",
       " 0.0  0.0  0.0  0.0"
      ]
     },
     "metadata": {},
     "output_type": "display_data"
    }
   ],
   "source": [
    "U[2,:] = A2[i[2],:]\n",
    "L[:,2] = A2[:,2]/U[2,2]\n",
    "display(L)\n",
    "display(U)"
   ]
  },
  {
   "cell_type": "code",
   "execution_count": 16,
   "metadata": {},
   "outputs": [
    {
     "data": {
      "text/plain": [
       "4×4 Array{Float64,2}:\n",
       " 0.0  0.0  1.57895  5.94737 \n",
       " 0.0  0.0  0.0      0.0     \n",
       " 0.0  0.0  5.4386   0.596491\n",
       " 0.0  0.0  0.0      0.0     "
      ]
     },
     "execution_count": 16,
     "metadata": {},
     "output_type": "execute_result"
    }
   ],
   "source": [
    "A3 = A2 - L[:,2]*U[2,:]'"
   ]
  },
  {
   "cell_type": "markdown",
   "metadata": {},
   "source": [
    "By now the pattern is clear. "
   ]
  },
  {
   "cell_type": "code",
   "execution_count": 17,
   "metadata": {},
   "outputs": [],
   "source": [
    "i[3] = findmax(abs.(A3[:,3]))[2]\n",
    "U[3,:] = A3[i[3],:]\n",
    "L[:,3] = A3[:,3]/U[3,3]\n",
    "A4 = A3 - L[:,3]*U[3,:]'\n",
    "\n",
    "i[4] = findmax(abs.(A4[:,4]))[2]\n",
    "U[4,:] = A4[i[4],:]\n",
    "L[:,4] = A4[:,4]/U[4,4];"
   ]
  },
  {
   "cell_type": "markdown",
   "metadata": {},
   "source": [
    "Indeed, we did again get a factorization of $A$."
   ]
  },
  {
   "cell_type": "code",
   "execution_count": 18,
   "metadata": {},
   "outputs": [
    {
     "data": {
      "text/plain": [
       "2.220446049250313e-16"
      ]
     },
     "execution_count": 18,
     "metadata": {},
     "output_type": "execute_result"
    }
   ],
   "source": [
    "norm(A-L*U)"
   ]
  },
  {
   "cell_type": "markdown",
   "metadata": {},
   "source": [
    "But what sort of factorization is it? "
   ]
  },
  {
   "cell_type": "code",
   "execution_count": 19,
   "metadata": {},
   "outputs": [
    {
     "data": {
      "text/plain": [
       "4×4 Array{Float64,2}:\n",
       " 0.0       0.105263  0.290323  1.0\n",
       " 0.5       1.0       0.0       0.0\n",
       " 0.333333  0.807018  1.0       0.0\n",
       " 1.0       0.0       0.0       0.0"
      ]
     },
     "metadata": {},
     "output_type": "display_data"
    },
    {
     "data": {
      "text/plain": [
       "4×4 Array{Float64,2}:\n",
       " 6.0  1.0   4.0          3.0     \n",
       " 0.0  9.5   4.0          0.5     \n",
       " 0.0  0.0   5.4386       0.596491\n",
       " 0.0  0.0  -2.22045e-16  5.77419 "
      ]
     },
     "metadata": {},
     "output_type": "display_data"
    }
   ],
   "source": [
    "display(L)\n",
    "display(U)"
   ]
  },
  {
   "cell_type": "markdown",
   "metadata": {},
   "source": [
    "Just as before, $U$ is upper triangular. But $L$ is not triangular. However, think about the structural conditions imposed during the algorithm:\n",
    "\n",
    "$$L_{i_1,1} = 1, \\quad L_{1_1,2}=\\cdots=L_{i_1,m}=0,$$ \n",
    "\n",
    "$$L_{i_2,2} = 1, \\quad L_{1_2,3}=\\cdots=L_{i_2,m}=0,$$ \n",
    "\n",
    "down to $L_{i_m,i_m}=1$ in the last step. What this means is that if we take the rows of $L$ in the order $i_1,i_2,i_3,i_4$, then the result is again unit lower triangular! "
   ]
  },
  {
   "cell_type": "code",
   "execution_count": 20,
   "metadata": {},
   "outputs": [
    {
     "data": {
      "text/plain": [
       "4×4 Array{Float64,2}:\n",
       " 1.0       0.0       0.0       0.0\n",
       " 0.5       1.0       0.0       0.0\n",
       " 0.333333  0.807018  1.0       0.0\n",
       " 0.0       0.105263  0.290323  1.0"
      ]
     },
     "execution_count": 20,
     "metadata": {},
     "output_type": "execute_result"
    }
   ],
   "source": [
    "L[i,:]"
   ]
  },
  {
   "cell_type": "markdown",
   "metadata": {},
   "source": [
    "We can express this result using a permutation matrix as $PL$. Conventionally though, this truly triangular matrix is the one we call $L$, and the one produced directly by the algorithm is $P^{-1}L=P^TL$. Since $A=P^TLU$, this implies that $PA=LU$. This is the **row-pivoted LU factorization** (or partially pivoted factorization, or $P^TLU$ factorization). "
   ]
  },
  {
   "cell_type": "markdown",
   "metadata": {},
   "source": [
    "## Linear systems\n",
    "\n",
    "The system $Ax=b$ is equivalent to $PAx=Pb$, or $L(Ux)=Pb$. We do a forward substitution using a permnuted form of $b$, then a backward substitution using that result. (In practice we wouldn't move data around in memory, but just index the vector indirectly in the correct order.) "
   ]
  },
  {
   "cell_type": "code",
   "execution_count": 21,
   "metadata": {},
   "outputs": [
    {
     "data": {
      "text/plain": [
       "4-element Array{Float64,1}:\n",
       " 0.9999999999999999\n",
       " 1.0               \n",
       " 1.0000000000000002\n",
       " 0.9999999999999999"
      ]
     },
     "execution_count": 21,
     "metadata": {},
     "output_type": "execute_result"
    }
   ],
   "source": [
    "xact = ones(4);  b = A*xact;\n",
    "\n",
    "Pb = similar(b);  Pb = b[i]; \n",
    "x = U\\(L[i,:]\\Pb)"
   ]
  },
  {
   "cell_type": "markdown",
   "metadata": {},
   "source": [
    "The built-in `lu` returns a factorization object that will show you the (truly triangular) $L$ and $U$ factors, and the permutation vector we called `i` in the example above."
   ]
  },
  {
   "cell_type": "code",
   "execution_count": 22,
   "metadata": {},
   "outputs": [
    {
     "data": {
      "text/plain": [
       "LU{Float64,Array{Float64,2}}"
      ]
     },
     "execution_count": 22,
     "metadata": {},
     "output_type": "execute_result"
    }
   ],
   "source": [
    "fact = lu(A);\n",
    "typeof(fact)"
   ]
  },
  {
   "cell_type": "code",
   "execution_count": 23,
   "metadata": {},
   "outputs": [
    {
     "data": {
      "text/plain": [
       "4×4 Array{Float64,2}:\n",
       " 1.0       0.0       0.0       0.0\n",
       " 0.5       1.0       0.0       0.0\n",
       " 0.333333  0.807018  1.0       0.0\n",
       " 0.0       0.105263  0.290323  1.0"
      ]
     },
     "execution_count": 23,
     "metadata": {},
     "output_type": "execute_result"
    }
   ],
   "source": [
    "fact.L"
   ]
  },
  {
   "cell_type": "code",
   "execution_count": 24,
   "metadata": {},
   "outputs": [
    {
     "data": {
      "text/plain": [
       "4×4 Array{Float64,2}:\n",
       " 6.0  1.0  4.0     3.0     \n",
       " 0.0  9.5  4.0     0.5     \n",
       " 0.0  0.0  5.4386  0.596491\n",
       " 0.0  0.0  0.0     5.77419 "
      ]
     },
     "execution_count": 24,
     "metadata": {},
     "output_type": "execute_result"
    }
   ],
   "source": [
    "fact.U"
   ]
  },
  {
   "cell_type": "code",
   "execution_count": 25,
   "metadata": {},
   "outputs": [
    {
     "data": {
      "text/plain": [
       "4-element Array{Int64,1}:\n",
       " 4\n",
       " 2\n",
       " 3\n",
       " 1"
      ]
     },
     "execution_count": 25,
     "metadata": {},
     "output_type": "execute_result"
    }
   ],
   "source": [
    "fact.p"
   ]
  }
 ],
 "metadata": {
  "kernelspec": {
   "display_name": "Julia 1.0.0",
   "language": "julia",
   "name": "julia-1.0"
  },
  "language_info": {
   "file_extension": ".jl",
   "mimetype": "application/julia",
   "name": "julia",
   "version": "1.0.0"
  }
 },
 "nbformat": 4,
 "nbformat_minor": 2
}
