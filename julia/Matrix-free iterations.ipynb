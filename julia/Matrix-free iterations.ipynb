{
 "cells": [
  {
   "cell_type": "markdown",
   "metadata": {},
   "source": [
    "# Matrix-free iterations\n",
    "\n",
    "One of the most important aspects of Krylov methods is that the only way they need to interact with the matrix of the problem is through applications of it to specific vectors computed throughout the iteration. Since matrix$\\times$vector is equivalent to a linear transformation, we can substitute code that applies the linear transformation. This is often easier than using the matrix itself. "
   ]
  },
  {
   "cell_type": "markdown",
   "metadata": {},
   "source": [
    "## Eigenvalues of a not-matrix\n",
    "\n",
    "Remember the NFL team ranking algorithm? Here is the code that was developed for it."
   ]
  },
  {
   "cell_type": "code",
   "execution_count": 2,
   "metadata": {},
   "outputs": [
    {
     "data": {
      "text/plain": [
       "redist (generic function with 1 method)"
      ]
     },
     "execution_count": 2,
     "metadata": {},
     "output_type": "execute_result"
    }
   ],
   "source": [
    "using CSV,LinearAlgebra,SparseArrays\n",
    "data = CSV.read(\"nfl2017.csv\")\n",
    "team = sort(unique(data[7]))\n",
    "\n",
    "# remove ties\n",
    "data = filter(r->r[9]>r[10],data)\n",
    "\n",
    "# tally the games\n",
    "V = zeros(32,32)\n",
    "for g = 1:size(data,1)\n",
    "    winner = findfirst(data[g,5].==team)\n",
    "    loser = findfirst(data[g,7].==team)\n",
    "    V[winner,loser] += 1\n",
    "end\n",
    "V = sparse(V)\n",
    "\n",
    "losses = sum(V,dims=1)\n",
    "\n",
    "rows,vals = rowvals(V),nonzeros(V)\n",
    "function redist(c)\n",
    "    cnew = zero(c)\n",
    "    for t = 1:32\n",
    "        # redistribute team t's share\n",
    "        for i in nzrange(V,t)\n",
    "            cnew[rows[i]] += c[t]*vals[i]/losses[t]\n",
    "        end\n",
    "    end\n",
    "    return cnew\n",
    "end"
   ]
  },
  {
   "cell_type": "markdown",
   "metadata": {},
   "source": [
    "Now, we went on to remark that the action of `redist(c)` is really just `V*c`. However, we can regard `redist` as a perfectly good substitute for the matrix itself, for the purposes of power/Krylov iterations. Here we use a package that explicitly wraps it for us in something Julia will see as \"matrix-like.\" "
   ]
  },
  {
   "cell_type": "code",
   "execution_count": 4,
   "metadata": {},
   "outputs": [
    {
     "name": "stderr",
     "output_type": "stream",
     "text": [
      "┌ Info: Precompiling LinearMaps [7a12625a-238d-50fd-b39a-03d52299707e]\n",
      "└ @ Base loading.jl:1189\n"
     ]
    },
    {
     "name": "stdout",
     "output_type": "stream",
     "text": [
      "size(L) = (32, 32)\n"
     ]
    },
    {
     "data": {
      "text/plain": [
       "(32, 32)"
      ]
     },
     "execution_count": 4,
     "metadata": {},
     "output_type": "execute_result"
    }
   ],
   "source": [
    "using LinearMaps\n",
    "L = LinearMap(redist,32)\n",
    "@show size(L)"
   ]
  },
  {
   "cell_type": "markdown",
   "metadata": {},
   "source": [
    "Again, the map `L` doesn't really \"know about\" the underlying matrix, just that it acts linearly in 32 dimensions. Now we can use a package that implements Arnoldi for such a representation. It will tend to find the largest eigenvalues first, though you can also request different targets and apply shifts."
   ]
  },
  {
   "cell_type": "code",
   "execution_count": 5,
   "metadata": {},
   "outputs": [
    {
     "name": "stderr",
     "output_type": "stream",
     "text": [
      "┌ Info: Precompiling ArnoldiMethod [ec485272-7323-5ecc-a04f-4719b315124d]\n",
      "└ @ Base loading.jl:1189\n"
     ]
    },
    {
     "data": {
      "text/plain": [
       "(ArnoldiMethod.PartialSchur{SubArray{Float64,2,Array{Float64,2},Tuple{Base.Slice{Base.OneTo{Int64}},UnitRange{Int64}},true},SubArray{Float64,2,Array{Float64,2},Tuple{UnitRange{Int64},UnitRange{Int64}},false},Complex{Float64}}([0.111522 0.0814234 -0.131021 -0.0248499; 0.256177 -0.202069 -0.0437009 0.25192; … ; 0.147843 0.126138 0.00286648 0.281133; 0.111556 0.174893 -0.107002 -0.0954399], [1.0 0.08285 -0.143569 0.130887; 0.0 0.514973 -0.0299865 -0.0919269; 0.0 0.0 -0.164559 -0.446369; 0.0 0.0 0.448414 -0.111183], Complex{Float64}[1.0+0.0im, 0.514973+0.0im, -0.137871+0.446594im, -0.137871-0.446594im]), \u001b[32mConverged\u001b[39m: 4 of 4 eigenvalues in 38 matrix-vector products)"
      ]
     },
     "execution_count": 5,
     "metadata": {},
     "output_type": "execute_result"
    }
   ],
   "source": [
    "using ArnoldiMethod\n",
    "S,his = partialschur(L,nev=4)"
   ]
  },
  {
   "cell_type": "code",
   "execution_count": 6,
   "metadata": {},
   "outputs": [
    {
     "name": "stdout",
     "output_type": "stream",
     "text": [
      "λ = Complex{Float64}[1.0+0.0im, 0.514973+0.0im, -0.137871+0.446594im, -0.137871-0.446594im]\n"
     ]
    }
   ],
   "source": [
    "λ,X = partialeigen(S);\n",
    "@show λ;"
   ]
  },
  {
   "cell_type": "markdown",
   "metadata": {},
   "source": [
    "As before, we find the dominant eigenvalue at 1, and its eigenvector provides the ranking. "
   ]
  },
  {
   "cell_type": "code",
   "execution_count": 7,
   "metadata": {},
   "outputs": [
    {
     "data": {
      "text/plain": [
       "8-element Array{Union{Missing, String},1}:\n",
       " \"Philadelphia Eagles\" \n",
       " \"New England Patriots\"\n",
       " \"Kansas City Chiefs\"  \n",
       " \"New Orleans Saints\"  \n",
       " \"Carolina Panthers\"   \n",
       " \"Minnesota Vikings\"   \n",
       " \"Atlanta Falcons\"     \n",
       " \"Seattle Seahawks\"    "
      ]
     },
     "execution_count": 7,
     "metadata": {},
     "output_type": "execute_result"
    }
   ],
   "source": [
    "team[sortperm(abs.(X[:,1]),rev=true)[1:8]]"
   ]
  },
  {
   "cell_type": "markdown",
   "metadata": {},
   "source": [
    "Perhaps you're unimpressed, since we could just as well have used the sparse matrix. But suppose you're doing PageRank for the web. All you have to do is seed a set of webpages with probability, then randomly follow links from those pages to redistribute it. For a truly large set of pages, you might be grateful not to need that matrix."
   ]
  },
  {
   "cell_type": "markdown",
   "metadata": {},
   "source": [
    "## What's the (finite) difference?\n",
    "\n",
    "Consider solving the PDE $u_{xx} + u_{yy}=-1$ on a unit square (with zero boundary conditions). It's easy to set up an $n\\times n$ grid and replace the partial second derivatives with \"1,-2,1\" finite differences. The whole process of mapping a grid of $u$ values to the values of the discrete Laplacian is linear, so it can be represented by an underlying matrix. But we don't need the matrix in order to apply a Krylov solver!\n",
    "\n",
    "Here is a function that does the differencing procedure. It pads out the given values, which lie in the interior, with a border of zero values around the boundary of the square. "
   ]
  },
  {
   "cell_type": "code",
   "execution_count": 8,
   "metadata": {},
   "outputs": [
    {
     "data": {
      "text/plain": [
       "lap (generic function with 1 method)"
      ]
     },
     "execution_count": 8,
     "metadata": {},
     "output_type": "execute_result"
    }
   ],
   "source": [
    "function lap(u,n)\n",
    "    u = reshape(u,n-1,n-1)\n",
    "    z = zeros(n-1)\n",
    "    v = diff(diff([z';u;z'],dims=1),dims=1) + diff(diff([z u z],dims=2),dims=2)\n",
    "    return (n-1)^2*v\n",
    "end"
   ]
  },
  {
   "cell_type": "code",
   "execution_count": 10,
   "metadata": {},
   "outputs": [
    {
     "data": {
      "text/plain": [
       "laplacian (generic function with 1 method)"
      ]
     },
     "execution_count": 10,
     "metadata": {},
     "output_type": "execute_result"
    }
   ],
   "source": [
    "\n",
    "laplacian(n) = LinearMap(u->lap(u,n),(n-1)^2)"
   ]
  },
  {
   "cell_type": "markdown",
   "metadata": {},
   "source": [
    "Now, it is possible to extract the matrix out of the operator `L`, just by applying it to the columns of an identity."
   ]
  },
  {
   "cell_type": "code",
   "execution_count": 11,
   "metadata": {},
   "outputs": [
    {
     "data": {
      "text/plain": [
       "9×9 Array{Float64,2}:\n",
       " -36.0    9.0    0.0    9.0    0.0    0.0    0.0    0.0    0.0\n",
       "   9.0  -36.0    9.0    0.0    9.0    0.0    0.0    0.0    0.0\n",
       "   0.0    9.0  -36.0    0.0    0.0    9.0    0.0    0.0    0.0\n",
       "   9.0    0.0    0.0  -36.0    9.0    0.0    9.0    0.0    0.0\n",
       "   0.0    9.0    0.0    9.0  -36.0    9.0    0.0    9.0    0.0\n",
       "   0.0    0.0    9.0    0.0    9.0  -36.0    0.0    0.0    9.0\n",
       "   0.0    0.0    0.0    9.0    0.0    0.0  -36.0    9.0    0.0\n",
       "   0.0    0.0    0.0    0.0    9.0    0.0    9.0  -36.0    9.0\n",
       "   0.0    0.0    0.0    0.0    0.0    9.0    0.0    9.0  -36.0"
      ]
     },
     "execution_count": 11,
     "metadata": {},
     "output_type": "execute_result"
    }
   ],
   "source": [
    "Matrix(laplacian(4))"
   ]
  },
  {
   "cell_type": "markdown",
   "metadata": {},
   "source": [
    "But that misses the point! We can solve a linear system without it."
   ]
  },
  {
   "cell_type": "code",
   "execution_count": 12,
   "metadata": {},
   "outputs": [
    {
     "name": "stderr",
     "output_type": "stream",
     "text": [
      "┌ Info: Recompiling stale cache file /Users/driscoll/.julia/compiled/v1.0/PyPlot/oatAj.ji for PyPlot [d330b81b-6aea-500a-939a-2ce795aea3ee]\n",
      "└ @ Base loading.jl:1187\n",
      "┌ Warning: Module Compat with build ID 138578916902030 is missing from the cache.\n",
      "│ This may mean Compat [34da2185-b29b-5c13-b0c7-acf172513d20] does not support precompilation but is imported by a module that does.\n",
      "└ @ Base loading.jl:944\n",
      "┌ Warning: Module Compat with build ID 138578916902030 is missing from the cache.\n",
      "│ This may mean Compat [34da2185-b29b-5c13-b0c7-acf172513d20] does not support precompilation but is imported by a module that does.\n",
      "└ @ Base loading.jl:944\n",
      "┌ Info: Precompiling PyCall [438e738f-606a-5dbb-bf0a-cddfbfd45ab0]\n",
      "└ @ Base loading.jl:1189\n",
      "┌ Warning: Module Compat with build ID 138578916902030 is missing from the cache.\n",
      "│ This may mean Compat [34da2185-b29b-5c13-b0c7-acf172513d20] does not support precompilation but is imported by a module that does.\n",
      "└ @ Base loading.jl:944\n",
      "┌ Info: Recompiling stale cache file /Users/driscoll/.julia/compiled/v1.0/VersionParsing/VBbTm.ji for VersionParsing [81def892-9a0e-5fdd-b105-ffc91e053289]\n",
      "└ @ Base loading.jl:1187\n",
      "┌ Warning: Module Compat with build ID 138578916902030 is missing from the cache.\n",
      "│ This may mean Compat [34da2185-b29b-5c13-b0c7-acf172513d20] does not support precompilation but is imported by a module that does.\n",
      "└ @ Base loading.jl:944\n",
      "┌ Info: Recompiling stale cache file /Users/driscoll/.julia/compiled/v1.0/Conda/WZE3U.ji for Conda [8f4d0f93-b110-5947-807f-2305c1781a2d]\n",
      "└ @ Base loading.jl:1187\n",
      "┌ Warning: Module Compat with build ID 138578916902030 is missing from the cache.\n",
      "│ This may mean Compat [34da2185-b29b-5c13-b0c7-acf172513d20] does not support precompilation but is imported by a module that does.\n",
      "└ @ Base loading.jl:944\n",
      "┌ Info: Recompiling stale cache file /Users/driscoll/.julia/compiled/v1.0/MacroTools/38lnR.ji for MacroTools [1914dd2f-81c6-5fcd-8719-6d5c9610ff09]\n",
      "└ @ Base loading.jl:1187\n",
      "┌ Warning: Module Compat with build ID 138578916902030 is missing from the cache.\n",
      "│ This may mean Compat [34da2185-b29b-5c13-b0c7-acf172513d20] does not support precompilation but is imported by a module that does.\n",
      "└ @ Base loading.jl:944\n",
      "┌ Info: Recompiling stale cache file /Users/driscoll/.julia/compiled/v1.0/LaTeXStrings/H4HGh.ji for LaTeXStrings [b964fa9f-0449-5b57-a5c2-d3ea65f4040f]\n",
      "└ @ Base loading.jl:1187\n",
      "┌ Warning: Module Compat with build ID 138578916902030 is missing from the cache.\n",
      "│ This may mean Compat [34da2185-b29b-5c13-b0c7-acf172513d20] does not support precompilation but is imported by a module that does.\n",
      "└ @ Base loading.jl:944\n"
     ]
    },
    {
     "data": {
      "image/png": "[encoded data removed]",
      "text/plain": [
       "Figure(PyObject <Figure size 640x480 with 1 Axes>)"
      ]
     },
     "metadata": {},
     "output_type": "display_data"
    }
   ],
   "source": [
    "using IterativeSolvers, PyPlot\n",
    "n = 50; b = -ones((n-1)^2)\n",
    "u,his = minres(laplacian(n),b,log=true,tol=1e-4)\n",
    "semilogy(his[:resnorm]/norm(b),\"-o\");"
   ]
  },
  {
   "cell_type": "markdown",
   "metadata": {},
   "source": [
    "Here's a peek at the solution over the square."
   ]
  },
  {
   "cell_type": "code",
   "execution_count": 13,
   "metadata": {},
   "outputs": [
    {
     "data": {
      "image/png": "[encoded data removed]",
      "text/plain": [
       "Figure(PyObject <Figure size 640x480 with 1 Axes>)"
      ]
     },
     "metadata": {},
     "output_type": "display_data"
    }
   ],
   "source": [
    "X = [ i/(n-1) for i=2:n, j=2:n ]\n",
    "Y = [ j/(n-1) for i=2:n, j=2:n ]\n",
    "contourf(X,Y,reshape(u,n-1,n-1),20)\n",
    "axis(\"square\");"
   ]
  },
  {
   "cell_type": "code",
   "execution_count": null,
   "metadata": {},
   "outputs": [],
   "source": [
    "surf(X,Y,reshape(u,n-1,n-1),cmap=:viridis)"
   ]
  }
 ],
 "metadata": {
  "kernelspec": {
   "display_name": "Julia 1.0.0",
   "language": "julia",
   "name": "julia-1.0"
  },
  "language_info": {
   "file_extension": ".jl",
   "mimetype": "application/julia",
   "name": "julia",
   "version": "1.0.0"
  }
 },
 "nbformat": 4,
 "nbformat_minor": 2
}
