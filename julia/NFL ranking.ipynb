{
 "cells": [
  {
   "cell_type": "code",
   "execution_count": 1,
   "metadata": {},
   "outputs": [
    {
     "data": {
      "text/plain": [
       "32-element Array{Union{Missing, String},1}:\n",
       " \"Arizona Cardinals\"   \n",
       " \"Atlanta Falcons\"     \n",
       " \"Baltimore Ravens\"    \n",
       " \"Buffalo Bills\"       \n",
       " \"Carolina Panthers\"   \n",
       " \"Chicago Bears\"       \n",
       " \"Cincinnati Bengals\"  \n",
       " \"Cleveland Browns\"    \n",
       " \"Dallas Cowboys\"      \n",
       " \"Denver Broncos\"      \n",
       " \"Detroit Lions\"       \n",
       " \"Green Bay Packers\"   \n",
       " \"Houston Texans\"      \n",
       " ⋮                     \n",
       " \"New England Patriots\"\n",
       " \"New Orleans Saints\"  \n",
       " \"New York Giants\"     \n",
       " \"New York Jets\"       \n",
       " \"Oakland Raiders\"     \n",
       " \"Philadelphia Eagles\" \n",
       " \"Pittsburgh Steelers\" \n",
       " \"San Francisco 49ers\" \n",
       " \"Seattle Seahawks\"    \n",
       " \"Tampa Bay Buccaneers\"\n",
       " \"Tennessee Titans\"    \n",
       " \"Washington Redskins\" "
      ]
     },
     "execution_count": 1,
     "metadata": {},
     "output_type": "execute_result"
    }
   ],
   "source": [
    "using CSV,LinearAlgebra\n",
    "data = CSV.read(\"nfl2017.csv\")\n",
    "team = sort(unique(data[7]))"
   ]
  },
  {
   "cell_type": "code",
   "execution_count": 2,
   "metadata": {},
   "outputs": [
    {
     "data": {
      "text/html": [
       "<table class=\"data-frame\"><thead><tr><th></th><th>Week</th><th>Day</th><th>Date</th><th>Time</th><th>Winner/tie</th><th>Column6</th><th>Loser/tie</th><th>Column8</th><th>PtsW</th><th>PtsL</th><th>YdsW</th><th>TOW</th><th>YdsL</th><th>TOL</th></tr><tr><th></th><th>String⍰</th><th>String⍰</th><th>String⍰</th><th>String⍰</th><th>String⍰</th><th>String⍰</th><th>String⍰</th><th>String⍰</th><th>Int64⍰</th><th>Int64⍰</th><th>Int64⍰</th><th>Int64⍰</th><th>Int64⍰</th><th>Int64⍰</th></tr></thead><tbody><tr><th>1</th><td>1</td><td>Thu</td><td>September 7</td><td>8:30PM</td><td>Kansas City Chiefs</td><td>@</td><td>New England Patriots</td><td>boxscore</td><td>42</td><td>27</td><td>537</td><td>1</td><td>371</td><td>0</td></tr><tr><th>2</th><td>1</td><td>Sun</td><td>September 10</td><td>1:00PM</td><td>Pittsburgh Steelers</td><td>@</td><td>Cleveland Browns</td><td>boxscore</td><td>21</td><td>18</td><td>290</td><td>1</td><td>237</td><td>1</td></tr><tr><th>3</th><td>1</td><td>Sun</td><td>September 10</td><td>1:00PM</td><td>Baltimore Ravens</td><td>@</td><td>Cincinnati Bengals</td><td>boxscore</td><td>20</td><td>0</td><td>268</td><td>1</td><td>221</td><td>5</td></tr><tr><th>4</th><td>1</td><td>Sun</td><td>September 10</td><td>1:00PM</td><td>Philadelphia Eagles</td><td>@</td><td>Washington Redskins</td><td>boxscore</td><td>30</td><td>17</td><td>356</td><td>2</td><td>264</td><td>4</td></tr><tr><th>5</th><td>1</td><td>Sun</td><td>September 10</td><td>1:00PM</td><td>Detroit Lions</td><td>missing</td><td>Arizona Cardinals</td><td>boxscore</td><td>35</td><td>23</td><td>367</td><td>1</td><td>308</td><td>4</td></tr><tr><th>6</th><td>1</td><td>Sun</td><td>September 10</td><td>1:00PM</td><td>Jacksonville Jaguars</td><td>@</td><td>Houston Texans</td><td>boxscore</td><td>29</td><td>7</td><td>280</td><td>0</td><td>203</td><td>4</td></tr><tr><th>7</th><td>1</td><td>Sun</td><td>September 10</td><td>1:00PM</td><td>Oakland Raiders</td><td>@</td><td>Tennessee Titans</td><td>boxscore</td><td>26</td><td>16</td><td>359</td><td>0</td><td>350</td><td>0</td></tr><tr><th>8</th><td>1</td><td>Sun</td><td>September 10</td><td>1:00PM</td><td>Atlanta Falcons</td><td>@</td><td>Chicago Bears</td><td>boxscore</td><td>23</td><td>17</td><td>372</td><td>0</td><td>301</td><td>0</td></tr><tr><th>9</th><td>1</td><td>Sun</td><td>September 10</td><td>1:00PM</td><td>Buffalo Bills</td><td>missing</td><td>New York Jets</td><td>boxscore</td><td>21</td><td>12</td><td>408</td><td>1</td><td>214</td><td>2</td></tr><tr><th>10</th><td>1</td><td>Sun</td><td>September 10</td><td>4:05PM</td><td>Los Angeles Rams</td><td>missing</td><td>Indianapolis Colts</td><td>boxscore</td><td>46</td><td>9</td><td>373</td><td>1</td><td>225</td><td>3</td></tr><tr><th>11</th><td>1</td><td>Sun</td><td>September 10</td><td>4:25PM</td><td>Carolina Panthers</td><td>@</td><td>San Francisco 49ers</td><td>boxscore</td><td>23</td><td>3</td><td>287</td><td>2</td><td>217</td><td>2</td></tr><tr><th>12</th><td>1</td><td>Sun</td><td>September 10</td><td>4:25PM</td><td>Green Bay Packers</td><td>missing</td><td>Seattle Seahawks</td><td>boxscore</td><td>17</td><td>9</td><td>370</td><td>1</td><td>225</td><td>1</td></tr><tr><th>13</th><td>1</td><td>Sun</td><td>September 10</td><td>8:30PM</td><td>Dallas Cowboys</td><td>missing</td><td>New York Giants</td><td>boxscore</td><td>19</td><td>3</td><td>392</td><td>0</td><td>233</td><td>1</td></tr><tr><th>14</th><td>1</td><td>Mon</td><td>September 11</td><td>7:10PM</td><td>Minnesota Vikings</td><td>missing</td><td>New Orleans Saints</td><td>boxscore</td><td>29</td><td>19</td><td>470</td><td>0</td><td>344</td><td>0</td></tr><tr><th>15</th><td>1</td><td>Mon</td><td>September 11</td><td>10:20PM</td><td>Denver Broncos</td><td>missing</td><td>Los Angeles Chargers</td><td>boxscore</td><td>24</td><td>21</td><td>321</td><td>2</td><td>249</td><td>1</td></tr><tr><th>16</th><td>2</td><td>Thu</td><td>September 14</td><td>8:25PM</td><td>Houston Texans</td><td>@</td><td>Cincinnati Bengals</td><td>boxscore</td><td>13</td><td>9</td><td>266</td><td>0</td><td>295</td><td>1</td></tr><tr><th>17</th><td>2</td><td>Sun</td><td>September 17</td><td>1:00PM</td><td>Kansas City Chiefs</td><td>missing</td><td>Philadelphia Eagles</td><td>boxscore</td><td>27</td><td>20</td><td>344</td><td>0</td><td>406</td><td>2</td></tr><tr><th>18</th><td>2</td><td>Sun</td><td>September 17</td><td>1:00PM</td><td>Arizona Cardinals</td><td>@</td><td>Indianapolis Colts</td><td>boxscore</td><td>16</td><td>13</td><td>389</td><td>1</td><td>266</td><td>1</td></tr><tr><th>19</th><td>2</td><td>Sun</td><td>September 17</td><td>1:00PM</td><td>Carolina Panthers</td><td>missing</td><td>Buffalo Bills</td><td>boxscore</td><td>9</td><td>3</td><td>255</td><td>0</td><td>176</td><td>0</td></tr><tr><th>20</th><td>2</td><td>Sun</td><td>September 17</td><td>1:00PM</td><td>New England Patriots</td><td>@</td><td>New Orleans Saints</td><td>boxscore</td><td>36</td><td>20</td><td>555</td><td>0</td><td>429</td><td>0</td></tr><tr><th>21</th><td>2</td><td>Sun</td><td>September 17</td><td>1:00PM</td><td>Pittsburgh Steelers</td><td>missing</td><td>Minnesota Vikings</td><td>boxscore</td><td>26</td><td>9</td><td>335</td><td>0</td><td>237</td><td>1</td></tr><tr><th>22</th><td>2</td><td>Sun</td><td>September 17</td><td>1:00PM</td><td>Tampa Bay Buccaneers</td><td>missing</td><td>Chicago Bears</td><td>boxscore</td><td>29</td><td>7</td><td>311</td><td>1</td><td>310</td><td>4</td></tr><tr><th>23</th><td>2</td><td>Sun</td><td>September 17</td><td>1:00PM</td><td>Baltimore Ravens</td><td>missing</td><td>Cleveland Browns</td><td>boxscore</td><td>24</td><td>10</td><td>337</td><td>2</td><td>386</td><td>5</td></tr><tr><th>24</th><td>2</td><td>Sun</td><td>September 17</td><td>1:00PM</td><td>Tennessee Titans</td><td>@</td><td>Jacksonville Jaguars</td><td>boxscore</td><td>37</td><td>16</td><td>390</td><td>1</td><td>310</td><td>3</td></tr><tr><th>25</th><td>2</td><td>Sun</td><td>September 17</td><td>4:05PM</td><td>Miami Dolphins</td><td>@</td><td>Los Angeles Chargers</td><td>boxscore</td><td>19</td><td>17</td><td>336</td><td>0</td><td>367</td><td>0</td></tr><tr><th>26</th><td>2</td><td>Sun</td><td>September 17</td><td>4:05PM</td><td>Oakland Raiders</td><td>missing</td><td>New York Jets</td><td>boxscore</td><td>45</td><td>20</td><td>410</td><td>0</td><td>271</td><td>2</td></tr><tr><th>27</th><td>2</td><td>Sun</td><td>September 17</td><td>4:25PM</td><td>Denver Broncos</td><td>missing</td><td>Dallas Cowboys</td><td>boxscore</td><td>42</td><td>17</td><td>380</td><td>2</td><td>268</td><td>2</td></tr><tr><th>28</th><td>2</td><td>Sun</td><td>September 17</td><td>4:25PM</td><td>Washington Redskins</td><td>@</td><td>Los Angeles Rams</td><td>boxscore</td><td>27</td><td>20</td><td>385</td><td>0</td><td>332</td><td>2</td></tr><tr><th>29</th><td>2</td><td>Sun</td><td>September 17</td><td>4:25PM</td><td>Seattle Seahawks</td><td>missing</td><td>San Francisco 49ers</td><td>boxscore</td><td>12</td><td>9</td><td>312</td><td>0</td><td>248</td><td>1</td></tr><tr><th>30</th><td>2</td><td>Sun</td><td>September 17</td><td>8:30PM</td><td>Atlanta Falcons</td><td>missing</td><td>Green Bay Packers</td><td>boxscore</td><td>34</td><td>23</td><td>364</td><td>0</td><td>367</td><td>2</td></tr><tr><th>&vellip;</th><td>&vellip;</td><td>&vellip;</td><td>&vellip;</td><td>&vellip;</td><td>&vellip;</td><td>&vellip;</td><td>&vellip;</td><td>&vellip;</td><td>&vellip;</td><td>&vellip;</td><td>&vellip;</td><td>&vellip;</td><td>&vellip;</td><td>&vellip;</td></tr></tbody></table>"
      ],
      "text/plain": [
       "267×14 DataFrames.DataFrame. Omitted printing of 9 columns\n",
       "│ Row │ Week      │ Day     │ Date         │ Time    │ Winner/tie           │\n",
       "│     │ \u001b[90mString⍰\u001b[39m   │ \u001b[90mString⍰\u001b[39m │ \u001b[90mString⍰\u001b[39m      │ \u001b[90mString⍰\u001b[39m │ \u001b[90mString⍰\u001b[39m              │\n",
       "├─────┼───────────┼─────────┼──────────────┼─────────┼──────────────────────┤\n",
       "│ 1   │ 1         │ Thu     │ September 7  │ 8:30PM  │ Kansas City Chiefs   │\n",
       "│ 2   │ 1         │ Sun     │ September 10 │ 1:00PM  │ Pittsburgh Steelers  │\n",
       "│ 3   │ 1         │ Sun     │ September 10 │ 1:00PM  │ Baltimore Ravens     │\n",
       "│ 4   │ 1         │ Sun     │ September 10 │ 1:00PM  │ Philadelphia Eagles  │\n",
       "│ 5   │ 1         │ Sun     │ September 10 │ 1:00PM  │ Detroit Lions        │\n",
       "│ 6   │ 1         │ Sun     │ September 10 │ 1:00PM  │ Jacksonville Jaguars │\n",
       "│ 7   │ 1         │ Sun     │ September 10 │ 1:00PM  │ Oakland Raiders      │\n",
       "│ 8   │ 1         │ Sun     │ September 10 │ 1:00PM  │ Atlanta Falcons      │\n",
       "│ 9   │ 1         │ Sun     │ September 10 │ 1:00PM  │ Buffalo Bills        │\n",
       "│ 10  │ 1         │ Sun     │ September 10 │ 4:05PM  │ Los Angeles Rams     │\n",
       "⋮\n",
       "│ 257 │ WildCard  │ Sat     │ January 6    │ 4:35PM  │ Tennessee Titans     │\n",
       "│ 258 │ WildCard  │ Sat     │ January 6    │ 8:15PM  │ Atlanta Falcons      │\n",
       "│ 259 │ WildCard  │ Sun     │ January 7    │ 1:05PM  │ Jacksonville Jaguars │\n",
       "│ 260 │ WildCard  │ Sun     │ January 7    │ 4:40PM  │ New Orleans Saints   │\n",
       "│ 261 │ Division  │ Sat     │ January 13   │ 4:35PM  │ Philadelphia Eagles  │\n",
       "│ 262 │ Division  │ Sat     │ January 13   │ 8:15PM  │ New England Patriots │\n",
       "│ 263 │ Division  │ Sun     │ January 14   │ 1:05PM  │ Jacksonville Jaguars │\n",
       "│ 264 │ Division  │ Sun     │ January 14   │ 4:40PM  │ Minnesota Vikings    │\n",
       "│ 265 │ ConfChamp │ Sun     │ January 21   │ 3:05PM  │ New England Patriots │\n",
       "│ 266 │ ConfChamp │ Sun     │ January 21   │ 6:40PM  │ Philadelphia Eagles  │\n",
       "│ 267 │ SuperBowl │ Sun     │ February 4   │ 6:30PM  │ Philadelphia Eagles  │"
      ]
     },
     "execution_count": 2,
     "metadata": {},
     "output_type": "execute_result"
    }
   ],
   "source": [
    "data"
   ]
  },
  {
   "cell_type": "code",
   "execution_count": 3,
   "metadata": {},
   "outputs": [],
   "source": [
    "# remove ties\n",
    "data = filter(r->r[9]>r[10],data)\n",
    "\n",
    "# tally the games\n",
    "V = zeros(32,32)\n",
    "for g = 1:size(data,1)\n",
    "    winner = findfirst(data[g,5].==team)\n",
    "    loser = findfirst(data[g,7].==team)\n",
    "    V[winner,loser] += 1\n",
    "end"
   ]
  },
  {
   "cell_type": "code",
   "execution_count": 4,
   "metadata": {},
   "outputs": [
    {
     "data": {
      "text/plain": [
       "32×32 Array{Float64,2}:\n",
       " 0.0  0.0  0.0  0.0  0.0  0.0  0.0  0.0  …  0.0  0.0  2.0  1.0  1.0  1.0  0.0\n",
       " 0.0  0.0  0.0  0.0  1.0  1.0  0.0  0.0     0.0  0.0  0.0  1.0  2.0  0.0  0.0\n",
       " 0.0  0.0  0.0  0.0  0.0  0.0  1.0  2.0     0.0  0.0  0.0  0.0  0.0  0.0  0.0\n",
       " 0.0  1.0  0.0  0.0  0.0  0.0  0.0  0.0     0.0  0.0  0.0  0.0  1.0  0.0  0.0\n",
       " 0.0  1.0  0.0  1.0  0.0  0.0  0.0  0.0     0.0  0.0  1.0  0.0  2.0  0.0  0.0\n",
       " 0.0  0.0  1.0  0.0  1.0  0.0  1.0  1.0  …  0.0  1.0  0.0  0.0  0.0  0.0  0.0\n",
       " 0.0  0.0  1.0  1.0  0.0  0.0  0.0  2.0     0.0  0.0  0.0  0.0  0.0  0.0  0.0\n",
       " 0.0  0.0  0.0  0.0  0.0  0.0  0.0  0.0     0.0  0.0  0.0  0.0  0.0  0.0  0.0\n",
       " 1.0  0.0  0.0  0.0  0.0  0.0  0.0  0.0     1.0  0.0  1.0  0.0  0.0  0.0  2.0\n",
       " 0.0  0.0  0.0  0.0  0.0  0.0  0.0  0.0     0.0  0.0  0.0  0.0  0.0  0.0  0.0\n",
       " 1.0  0.0  0.0  0.0  0.0  2.0  0.0  1.0  …  0.0  0.0  0.0  0.0  1.0  0.0  0.0\n",
       " 0.0  0.0  0.0  0.0  0.0  2.0  1.0  1.0     0.0  0.0  0.0  1.0  1.0  0.0  0.0\n",
       " 1.0  0.0  0.0  0.0  0.0  0.0  1.0  1.0     0.0  0.0  0.0  0.0  0.0  1.0  0.0\n",
       " ⋮                        ⋮              ⋱  ⋮                        ⋮       \n",
       " 0.0  1.0  0.0  2.0  0.0  0.0  0.0  0.0  …  0.0  1.0  0.0  0.0  1.0  1.0  0.0\n",
       " 0.0  1.0  0.0  1.0  3.0  1.0  0.0  0.0     0.0  0.0  0.0  0.0  1.0  0.0  1.0\n",
       " 0.0  0.0  0.0  0.0  0.0  0.0  0.0  0.0     0.0  0.0  0.0  0.0  0.0  0.0  1.0\n",
       " 0.0  0.0  0.0  1.0  0.0  0.0  0.0  1.0     0.0  0.0  0.0  0.0  0.0  0.0  0.0\n",
       " 0.0  0.0  0.0  0.0  0.0  0.0  0.0  0.0     0.0  0.0  0.0  0.0  0.0  1.0  0.0\n",
       " 1.0  1.0  0.0  0.0  1.0  1.0  0.0  0.0  …  0.0  0.0  1.0  0.0  0.0  0.0  2.0\n",
       " 0.0  0.0  2.0  0.0  0.0  0.0  2.0  2.0     0.0  0.0  0.0  0.0  0.0  1.0  0.0\n",
       " 0.0  0.0  0.0  0.0  0.0  1.0  0.0  0.0     0.0  0.0  0.0  0.0  0.0  1.0  0.0\n",
       " 1.0  0.0  0.0  0.0  0.0  0.0  0.0  0.0     1.0  0.0  2.0  0.0  0.0  0.0  0.0\n",
       " 0.0  0.0  0.0  0.0  0.0  1.0  0.0  0.0     0.0  0.0  0.0  0.0  0.0  0.0  0.0\n",
       " 0.0  0.0  1.0  0.0  0.0  0.0  1.0  1.0  …  0.0  0.0  0.0  1.0  0.0  0.0  0.0\n",
       " 1.0  0.0  0.0  0.0  0.0  0.0  0.0  0.0     0.0  0.0  1.0  1.0  0.0  0.0  0.0"
      ]
     },
     "execution_count": 4,
     "metadata": {},
     "output_type": "execute_result"
    }
   ],
   "source": [
    "V"
   ]
  },
  {
   "cell_type": "code",
   "execution_count": 5,
   "metadata": {},
   "outputs": [],
   "source": [
    "using SparseArrays\n",
    "V = sparse(V);"
   ]
  },
  {
   "cell_type": "code",
   "execution_count": 6,
   "metadata": {},
   "outputs": [
    {
     "data": {
      "text/plain": [
       "32×32 SparseMatrixCSC{Float64,Int64} with 233 stored entries:\n",
       "  [9 ,  1]  =  1.0\n",
       "  [11,  1]  =  1.0\n",
       "  [13,  1]  =  1.0\n",
       "  [18,  1]  =  2.0\n",
       "  [26,  1]  =  1.0\n",
       "  [29,  1]  =  1.0\n",
       "  [32,  1]  =  1.0\n",
       "  [4 ,  2]  =  1.0\n",
       "  [5 ,  2]  =  1.0\n",
       "  [19,  2]  =  1.0\n",
       "  [20,  2]  =  1.0\n",
       "  [21,  2]  =  1.0\n",
       "  ⋮\n",
       "  [19, 31]  =  1.0\n",
       "  [21, 31]  =  1.0\n",
       "  [25, 31]  =  1.0\n",
       "  [27, 31]  =  1.0\n",
       "  [28, 31]  =  1.0\n",
       "  [9 , 32]  =  2.0\n",
       "  [16, 32]  =  1.0\n",
       "  [17, 32]  =  1.0\n",
       "  [20, 32]  =  1.0\n",
       "  [22, 32]  =  1.0\n",
       "  [23, 32]  =  1.0\n",
       "  [26, 32]  =  2.0"
      ]
     },
     "execution_count": 6,
     "metadata": {},
     "output_type": "execute_result"
    }
   ],
   "source": [
    "V"
   ]
  },
  {
   "cell_type": "code",
   "execution_count": 10,
   "metadata": {},
   "outputs": [
    {
     "data": {
      "text/markdown": [
       "| name |      size | summary                              |\n",
       "|:---- | ---------:|:------------------------------------ |\n",
       "| V    | 4.055 KiB | 32×32 SparseMatrixCSC{Float64,Int64} |\n"
      ],
      "text/plain": [
       "name      size summary                             \n",
       "–––– ––––––––– ––––––––––––––––––––––––––––––––––––\n",
       "V    4.055 KiB 32×32 SparseMatrixCSC{Float64,Int64}"
      ]
     },
     "execution_count": 10,
     "metadata": {},
     "output_type": "execute_result"
    }
   ],
   "source": [
    "varinfo(Main,r\"V\")"
   ]
  },
  {
   "cell_type": "code",
   "execution_count": 12,
   "metadata": {},
   "outputs": [
    {
     "data": {
      "text/markdown": [
       "| name |      size | summary                |\n",
       "|:---- | ---------:|:---------------------- |\n",
       "| F    | 8.039 KiB | 32×32 Array{Float64,2} |\n"
      ],
      "text/plain": [
       "name      size summary               \n",
       "–––– ––––––––– ––––––––––––––––––––––\n",
       "F    8.039 KiB 32×32 Array{Float64,2}"
      ]
     },
     "execution_count": 12,
     "metadata": {},
     "output_type": "execute_result"
    }
   ],
   "source": [
    "F = Matrix(V);\n",
    "varinfo(Main,r\"F\")"
   ]
  },
  {
   "cell_type": "code",
   "execution_count": 13,
   "metadata": {},
   "outputs": [
    {
     "data": {
      "text/plain": [
       "1×32 Array{Float64,2}:\n",
       " 8.0  7.0  7.0  8.0  6.0  11.0  9.0  …  3.0  4.0  10.0  7.0  11.0  8.0  9.0"
      ]
     },
     "execution_count": 13,
     "metadata": {},
     "output_type": "execute_result"
    }
   ],
   "source": [
    "# count losses\n",
    "losses = sum(V,dims=1)"
   ]
  },
  {
   "cell_type": "code",
   "execution_count": 14,
   "metadata": {},
   "outputs": [
    {
     "data": {
      "text/plain": [
       "16.0"
      ]
     },
     "execution_count": 14,
     "metadata": {},
     "output_type": "execute_result"
    }
   ],
   "source": [
    "losses[8]"
   ]
  },
  {
   "cell_type": "code",
   "execution_count": 16,
   "metadata": {},
   "outputs": [],
   "source": [
    "c = zeros(32); c[8] = 1.;"
   ]
  },
  {
   "cell_type": "code",
   "execution_count": 28,
   "metadata": {},
   "outputs": [],
   "source": [
    "c = rand(32); c = c/sum(c);\n",
    "cnew = 0*c;\n",
    "rows,vals = rowvals(V),nonzeros(V)\n",
    "for t = 1:32\n",
    "    # redistribute team t's share\n",
    "    for i in nzrange(V,t)\n",
    "        cnew[rows[i]] += c[t]*vals[i]/losses[t]\n",
    "    end\n",
    "end"
   ]
  },
  {
   "cell_type": "code",
   "execution_count": 18,
   "metadata": {},
   "outputs": [
    {
     "name": "stderr",
     "output_type": "stream",
     "text": [
      "┌ Info: Recompiling stale cache file /Users/driscoll/.julia/compiled/v1.0/PyPlot/oatAj.ji for PyPlot [d330b81b-6aea-500a-939a-2ce795aea3ee]\n",
      "└ @ Base loading.jl:1187\n"
     ]
    },
    {
     "data": {
      "image/png": "[encoded data removed]",
      "text/plain": [
       "Figure(PyObject <Figure size 640x480 with 1 Axes>)"
      ]
     },
     "metadata": {},
     "output_type": "display_data"
    },
    {
     "data": {
      "text/plain": [
       "1-element Array{PyCall.PyObject,1}:\n",
       " PyObject <matplotlib.lines.Line2D object at 0x1456660b8>"
      ]
     },
     "execution_count": 18,
     "metadata": {},
     "output_type": "execute_result"
    }
   ],
   "source": [
    "using PyPlot\n",
    "plot(1:32,cnew,\"o\")"
   ]
  },
  {
   "cell_type": "code",
   "execution_count": 19,
   "metadata": {},
   "outputs": [
    {
     "data": {
      "text/plain": [
       "1.0"
      ]
     },
     "execution_count": 19,
     "metadata": {},
     "output_type": "execute_result"
    }
   ],
   "source": [
    "sum(cnew)"
   ]
  },
  {
   "cell_type": "code",
   "execution_count": 20,
   "metadata": {},
   "outputs": [
    {
     "data": {
      "text/plain": [
       "redist (generic function with 1 method)"
      ]
     },
     "execution_count": 20,
     "metadata": {},
     "output_type": "execute_result"
    }
   ],
   "source": [
    "function redist(c)\n",
    "    cnew = 0*c\n",
    "    for t = 1:32\n",
    "        # redistribute team t's share\n",
    "        for i in nzrange(V,t)\n",
    "            cnew[rows[i]] += c[t]*vals[i]/losses[t]\n",
    "        end\n",
    "    end\n",
    "    return cnew\n",
    "end"
   ]
  },
  {
   "cell_type": "code",
   "execution_count": 34,
   "metadata": {},
   "outputs": [
    {
     "data": {
      "image/png": "[encoded data removed]",
      "text/plain": [
       "Figure(PyObject <Figure size 640x480 with 1 Axes>)"
      ]
     },
     "metadata": {},
     "output_type": "display_data"
    }
   ],
   "source": [
    "for j = 1:3\n",
    "    c = redist(c)\n",
    "    plot(1:32,c,\"o\")\n",
    "end"
   ]
  },
  {
   "cell_type": "code",
   "execution_count": 35,
   "metadata": {},
   "outputs": [
    {
     "data": {
      "text/plain": [
       "(0.07894033796697149, 26)"
      ]
     },
     "execution_count": 35,
     "metadata": {},
     "output_type": "execute_result"
    }
   ],
   "source": [
    "findmax(c)"
   ]
  },
  {
   "cell_type": "code",
   "execution_count": 36,
   "metadata": {},
   "outputs": [
    {
     "data": {
      "text/plain": [
       "\"Philadelphia Eagles\""
      ]
     },
     "execution_count": 36,
     "metadata": {},
     "output_type": "execute_result"
    }
   ],
   "source": [
    "team[ans[2]]"
   ]
  },
  {
   "cell_type": "code",
   "execution_count": 37,
   "metadata": {},
   "outputs": [
    {
     "data": {
      "text/plain": [
       "32×2 Array{Any,2}:\n",
       " \"Philadelphia Eagles\"   0.0789403 \n",
       " \"New England Patriots\"  0.0587574 \n",
       " \"Kansas City Chiefs\"    0.0579674 \n",
       " \"New Orleans Saints\"    0.0565655 \n",
       " \"Carolina Panthers\"     0.0557252 \n",
       " \"Minnesota Vikings\"     0.0533351 \n",
       " \"Atlanta Falcons\"       0.0529583 \n",
       " \"Seattle Seahawks\"      0.0490074 \n",
       " \"Dallas Cowboys\"        0.0484022 \n",
       " \"Los Angeles Rams\"      0.042246  \n",
       " \"Pittsburgh Steelers\"   0.038918  \n",
       " \"Jacksonville Jaguars\"  0.0381693 \n",
       " \"Miami Dolphins\"        0.0322365 \n",
       " ⋮                                 \n",
       " \"Green Bay Packers\"     0.0207668 \n",
       " \"New York Jets\"         0.0206138 \n",
       " \"San Francisco 49ers\"   0.0199248 \n",
       " \"Oakland Raiders\"       0.0194068 \n",
       " \"Tampa Bay Buccaneers\"  0.0174737 \n",
       " \"Denver Broncos\"        0.0140206 \n",
       " \"Baltimore Ravens\"      0.0135483 \n",
       " \"New York Giants\"       0.0121195 \n",
       " \"Cincinnati Bengals\"    0.0110538 \n",
       " \"Houston Texans\"        0.00793154\n",
       " \"Indianapolis Colts\"    0.0033145 \n",
       " \"Cleveland Browns\"      0.0       "
      ]
     },
     "execution_count": 37,
     "metadata": {},
     "output_type": "execute_result"
    }
   ],
   "source": [
    "p = sortperm(c,rev=true)\n",
    "[ team[p] c[p] ]"
   ]
  },
  {
   "cell_type": "code",
   "execution_count": 38,
   "metadata": {},
   "outputs": [
    {
     "data": {
      "image/png": "[encoded data removed]",
      "text/plain": [
       "Figure(PyObject <Figure size 640x480 with 1 Axes>)"
      ]
     },
     "metadata": {},
     "output_type": "display_data"
    },
    {
     "data": {
      "text/plain": [
       "1-element Array{PyCall.PyObject,1}:\n",
       " PyObject <matplotlib.lines.Line2D object at 0x1468a7208>"
      ]
     },
     "execution_count": 38,
     "metadata": {},
     "output_type": "execute_result"
    }
   ],
   "source": [
    "x = rand(32)\n",
    "x = x/sum(x)\n",
    "A = V./losses\n",
    "for k = 1:12\n",
    "    x = A*x\n",
    "end\n",
    "plot(1:32,x,\"o\")"
   ]
  },
  {
   "cell_type": "code",
   "execution_count": 39,
   "metadata": {},
   "outputs": [
    {
     "data": {
      "text/plain": [
       "2.869475074836201e-6"
      ]
     },
     "execution_count": 39,
     "metadata": {},
     "output_type": "execute_result"
    }
   ],
   "source": [
    "norm(A*x-x)"
   ]
  },
  {
   "cell_type": "code",
   "execution_count": 41,
   "metadata": {},
   "outputs": [
    {
     "data": {
      "text/plain": [
       "32-element Array{Complex{Float64},1}:\n",
       "     1.000000000000001 + 0.0im                \n",
       "    0.5149727036939494 + 0.0im                \n",
       "   0.46197764827206494 + 0.0im                \n",
       "  -0.13787097218495337 + 0.4465937566864588im \n",
       "  -0.13787097218495337 - 0.4465937566864588im \n",
       "    0.2410273345374055 + 0.0913310601916709im \n",
       "    0.2410273345374055 - 0.0913310601916709im \n",
       "  -0.15064090049890838 + 0.37068768287127674im\n",
       "  -0.15064090049890838 - 0.37068768287127674im\n",
       "   0.07212019225035901 + 0.20620972911260615im\n",
       "   0.07212019225035901 - 0.20620972911260615im\n",
       " 0.0004605476627004314 + 0.265537036923418im  \n",
       " 0.0004605476627004314 - 0.265537036923418im  \n",
       "                       ⋮                      \n",
       "    -0.085589348118176 - 0.1983971019278958im \n",
       " -0.019299530234382554 + 0.10835657852092102im\n",
       " -0.019299530234382554 - 0.10835657852092102im\n",
       "  -0.16156870601142523 + 0.0im                \n",
       "  -0.14569361043316953 + 0.06028088602233825im\n",
       "  -0.14569361043316953 - 0.06028088602233825im\n",
       "  -0.07398598448716692 + 0.10290483719998654im\n",
       "  -0.07398598448716692 - 0.10290483719998654im\n",
       "  -0.02677920435308396 + 0.0im                \n",
       "  -0.07088414417027666 + 0.03620593756880479im\n",
       "  -0.07088414417027666 - 0.03620593756880479im\n",
       "                   0.0 + 0.0im                "
      ]
     },
     "execution_count": 41,
     "metadata": {},
     "output_type": "execute_result"
    }
   ],
   "source": [
    "eigvals(Matrix(A))"
   ]
  },
  {
   "cell_type": "code",
   "execution_count": null,
   "metadata": {},
   "outputs": [],
   "source": []
  }
 ],
 "metadata": {
  "kernelspec": {
   "display_name": "Julia 1.0.1",
   "language": "julia",
   "name": "julia-1.0"
  },
  "language_info": {
   "file_extension": ".jl",
   "mimetype": "application/julia",
   "name": "julia",
   "version": "1.0.1"
  }
 },
 "nbformat": 4,
 "nbformat_minor": 2
}
