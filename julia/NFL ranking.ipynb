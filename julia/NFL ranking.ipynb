{
 "cells": [
  {
   "cell_type": "code",
   "execution_count": null,
   "metadata": {},
   "outputs": [],
   "source": [
    "using CSV,LinearAlgebra\n",
    "data = CSV.read(\"nfl2017.csv\")\n",
    "team = sort(unique(data[7]))"
   ]
  },
  {
   "cell_type": "code",
   "execution_count": null,
   "metadata": {},
   "outputs": [],
   "source": [
    "# remove ties\n",
    "data = filter(r->r[9]>r[10],data)\n",
    "\n",
    "# tally the games\n",
    "V = zeros(32,32)\n",
    "for g = 1:size(data,1)\n",
    "    winner = findfirst(data[g,5].==team)\n",
    "    loser = findfirst(data[g,7].==team)\n",
    "    V[winner,loser] += 1\n",
    "end"
   ]
  },
  {
   "cell_type": "code",
   "execution_count": null,
   "metadata": {},
   "outputs": [],
   "source": [
    "using SparseArrays\n",
    "V = sparse(V);"
   ]
  },
  {
   "cell_type": "code",
   "execution_count": null,
   "metadata": {},
   "outputs": [],
   "source": [
    "# count losses\n",
    "losses = sum(V,dims=1)"
   ]
  },
  {
   "cell_type": "code",
   "execution_count": null,
   "metadata": {},
   "outputs": [],
   "source": [
    "losses[8]"
   ]
  },
  {
   "cell_type": "code",
   "execution_count": null,
   "metadata": {},
   "outputs": [],
   "source": [
    "c = zeros(32); c[8] = 1.;"
   ]
  },
  {
   "cell_type": "code",
   "execution_count": null,
   "metadata": {},
   "outputs": [],
   "source": [
    "cnew = 0*c;\n",
    "rows,vals = rowvals(V),nonzeros(V)\n",
    "for t = 1:32\n",
    "    # redistribute team t's share\n",
    "    for i in nzrange(V,t)\n",
    "        cnew[rows[i]] += c[t]*vals[i]/losses[t]\n",
    "    end\n",
    "end"
   ]
  },
  {
   "cell_type": "code",
   "execution_count": null,
   "metadata": {},
   "outputs": [],
   "source": [
    "using PyPlot\n",
    "plot(1:32,cnew,\"o\")"
   ]
  },
  {
   "cell_type": "code",
   "execution_count": null,
   "metadata": {},
   "outputs": [],
   "source": [
    "sum(cnew)"
   ]
  },
  {
   "cell_type": "code",
   "execution_count": null,
   "metadata": {},
   "outputs": [],
   "source": [
    "function redist(c)\n",
    "    cnew = 0*c\n",
    "    for t = 1:32\n",
    "        # redistribute team t's share\n",
    "        for i in nzrange(V,t)\n",
    "            cnew[rows[i]] += c[t]*vals[i]/losses[t]\n",
    "        end\n",
    "    end\n",
    "    return cnew\n",
    "end"
   ]
  },
  {
   "cell_type": "code",
   "execution_count": null,
   "metadata": {},
   "outputs": [],
   "source": [
    "for j = 1:3\n",
    "    c = redist(c)\n",
    "    plot(1:32,c,\"o\")\n",
    "end"
   ]
  },
  {
   "cell_type": "code",
   "execution_count": null,
   "metadata": {},
   "outputs": [],
   "source": [
    "findmax(c)"
   ]
  },
  {
   "cell_type": "code",
   "execution_count": null,
   "metadata": {},
   "outputs": [],
   "source": [
    "team[ans[2]]"
   ]
  },
  {
   "cell_type": "code",
   "execution_count": null,
   "metadata": {},
   "outputs": [],
   "source": [
    "p = sortperm(c,rev=true)\n",
    "[ team[p] c[p] ]"
   ]
  },
  {
   "cell_type": "code",
   "execution_count": null,
   "metadata": {},
   "outputs": [],
   "source": [
    "x = rand(32)\n",
    "x = x/sum(x)\n",
    "A = V./losses\n",
    "for k = 1:12\n",
    "    x = A*x\n",
    "end\n",
    "plot(1:32,x,\"o\")"
   ]
  },
  {
   "cell_type": "code",
   "execution_count": null,
   "metadata": {},
   "outputs": [],
   "source": [
    "norm(A*x-x)"
   ]
  },
  {
   "cell_type": "code",
   "execution_count": null,
   "metadata": {},
   "outputs": [],
   "source": []
  }
 ],
 "metadata": {
  "kernelspec": {
   "display_name": "Julia 1.0.0",
   "language": "julia",
   "name": "julia-1.0"
  },
  "language_info": {
   "file_extension": ".jl",
   "mimetype": "application/julia",
   "name": "julia",
   "version": "1.0.0"
  }
 },
 "nbformat": 4,
 "nbformat_minor": 2
}
