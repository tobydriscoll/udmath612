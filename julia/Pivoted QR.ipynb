{
 "cells": [
  {
   "cell_type": "markdown",
   "metadata": {},
   "source": [
    "# Pivoted QR\n",
    "\n",
    "Here's another look at our modified Gram-Schmidt algorithm for QR."
   ]
  },
  {
   "cell_type": "code",
   "execution_count": 1,
   "metadata": {},
   "outputs": [
    {
     "data": {
      "text/plain": [
       "mgs (generic function with 1 method)"
      ]
     },
     "execution_count": 1,
     "metadata": {},
     "output_type": "execute_result"
    }
   ],
   "source": [
    "using LinearAlgebra\n",
    "\n",
    "function mgs(A)\n",
    "    m,n = size(A)\n",
    "    Q = zeros(m,n)\n",
    "    R = zeros(n,n)\n",
    "    B = copy(A)\n",
    "    for k = 1:n\n",
    "        R[k,k] = norm(B[:,k])\n",
    "        Q[:,k] = B[:,k]/R[k,k]\n",
    "        for j = k+1:n\n",
    "            R[k,j] = Q[:,k]⋅B[:,j]\n",
    "        end\n",
    "        B -= Q[:,k]*R[k,:]'\n",
    "    end\n",
    "    return Q,R\n",
    "end "
   ]
  },
  {
   "cell_type": "markdown",
   "metadata": {},
   "source": [
    "It's apparent that something bad happens if for some $k$, $R_{kk}=0$. In terms of $A=QR$, one interpretation of this event is that the columns $a_1,\\ldots,a_k$ all lie in the span of $q_1,\\ldots,q_{k-1}$. This implies a defect in the dimension of the column space; i.e., the rank of $A$ is less than $n$. \n",
    "\n",
    "In machine arithmetic, which is inexact for most numbers, it's rare for something to be exactly zero. But the behavior is often about as bad for \"near zero\" as for zero itself. Let's set out to avoid this situation by replacing $R_{kk}$ with whatever is as large as possible, in context.\n",
    "\n",
    "Again considering $A = \\sum_{k=1}^n q_k r_k^T$, define $A_j=\\sum_{k=j}^n q_k r_k^T$. The MGS algorithm starts off by noting \n",
    "\n",
    "$$Ae_1=A_1e_1 = \\sum_{k=1}^n q_k (r_k^Te_1) = R_{11}q_1,$$\n",
    "\n",
    "where to simplify the sum we applied the upper triangular structure of $R$, specifically, $R_{21}=\\cdots=R_{m1}=0$. This formula is used immediately to compute $R_{11}$, then $q_1$, both from the first column $A_1e_1$.\n",
    "\n",
    "But if $R_{11}$ is zero (or small), this creates a problem. So instead suppose that we use the column of $A$ that produces the largest possible value. That is, let \n",
    "\n",
    "$$j_1 = \\text{argmax}_k \\| A_1 e_k \\|_2,$$\n",
    "\n",
    "and then replace the triangular requirement with \n",
    "\n",
    "$$R_{2,j_1}=\\cdots=R_{m,j_1}=0.$$\n",
    "\n",
    "This creates $A_1 e_{j_1}=R_{1,j_1}q_{1}$, from which we get $R_{1,j_1}$ and then $q_{1}$. Furthermore, $q_{1}^TA_1=r_{1}^T$, just as before, allowing us to fill out the rest of the first row of $R$. \n",
    "\n",
    "For example,"
   ]
  },
  {
   "cell_type": "code",
   "execution_count": 2,
   "metadata": {},
   "outputs": [
    {
     "data": {
      "text/plain": [
       "6×3 Array{Float64,2}:\n",
       " 3.0   3.0  10.0\n",
       " 7.0   7.0   5.0\n",
       " 3.0   8.0   3.0\n",
       " 1.0   8.0   1.0\n",
       " 3.0   4.0   6.0\n",
       " 9.0  10.0   1.0"
      ]
     },
     "execution_count": 2,
     "metadata": {},
     "output_type": "execute_result"
    }
   ],
   "source": [
    "Q = zeros(6,3)\n",
    "R = zeros(3,3)\n",
    "A = rand(1.:10,6,3)"
   ]
  },
  {
   "cell_type": "code",
   "execution_count": 3,
   "metadata": {},
   "outputs": [
    {
     "data": {
      "text/plain": [
       "3-element Array{Float64,1}:\n",
       " 12.569805089976535\n",
       " 17.378147196982766\n",
       " 13.114877048604   "
      ]
     },
     "execution_count": 3,
     "metadata": {},
     "output_type": "execute_result"
    }
   ],
   "source": [
    "A1 = copy(A)\n",
    "c = [ sqrt(sum(A1[i,j]^2 for i=1:6)) for j=1:3 ]"
   ]
  },
  {
   "cell_type": "code",
   "execution_count": 4,
   "metadata": {},
   "outputs": [
    {
     "data": {
      "text/plain": [
       "(17.378147196982766, 2)"
      ]
     },
     "execution_count": 4,
     "metadata": {},
     "output_type": "execute_result"
    }
   ],
   "source": [
    "j = fill(0,3)\n",
    "cmax,j[1] = findmax(c)"
   ]
  },
  {
   "cell_type": "code",
   "execution_count": 5,
   "metadata": {},
   "outputs": [
    {
     "data": {
      "text/plain": [
       "3×3 Array{Float64,2}:\n",
       " 0.0  17.3781  0.0\n",
       " 0.0   0.0     0.0\n",
       " 0.0   0.0     0.0"
      ]
     },
     "execution_count": 5,
     "metadata": {},
     "output_type": "execute_result"
    }
   ],
   "source": [
    "R[1,j[1]] = cmax\n",
    "R"
   ]
  },
  {
   "cell_type": "code",
   "execution_count": 6,
   "metadata": {},
   "outputs": [
    {
     "data": {
      "text/plain": [
       "3×3 Array{Float64,2}:\n",
       " 11.0484  17.3781  7.5382\n",
       "  0.0      0.0     0.0   \n",
       "  0.0      0.0     0.0   "
      ]
     },
     "execution_count": 6,
     "metadata": {},
     "output_type": "execute_result"
    }
   ],
   "source": [
    "Q[:,1] = A1[:,j[1]]/R[1,j[1]]\n",
    "cols = fill(true,3)\n",
    "cols[j[1]] = false\n",
    "R[1,cols] = Q[:,1]'*A1[:,cols]\n",
    "R"
   ]
  },
  {
   "cell_type": "markdown",
   "metadata": {},
   "source": [
    "By our definitions, $A_2=A_1-q_1r_1^T$."
   ]
  },
  {
   "cell_type": "code",
   "execution_count": 7,
   "metadata": {},
   "outputs": [
    {
     "data": {
      "text/plain": [
       "6×3 Array{Float64,2}:\n",
       "  1.09272    0.0           8.69868 \n",
       "  2.54967   -8.88178e-16   1.96358 \n",
       " -2.08609    0.0          -0.470199\n",
       " -4.08609    0.0          -2.4702  \n",
       "  0.456954   0.0           4.2649  \n",
       "  2.64238    0.0          -3.33775 "
      ]
     },
     "execution_count": 7,
     "metadata": {},
     "output_type": "execute_result"
    }
   ],
   "source": [
    "A2 = A1 - Q[:,1]*R[1,:]'"
   ]
  },
  {
   "cell_type": "markdown",
   "metadata": {},
   "source": [
    "Note that we have zeroed out the third column. In fact, we're not going to touch that column of $R$ any more (since doing so would wreck the quasi-triangularity we set up). Instead, we choose the next column like we did at the start."
   ]
  },
  {
   "cell_type": "code",
   "execution_count": 8,
   "metadata": {},
   "outputs": [
    {
     "data": {
      "text/plain": [
       "(10.731984750675977, 3)"
      ]
     },
     "execution_count": 8,
     "metadata": {},
     "output_type": "execute_result"
    }
   ],
   "source": [
    "c = [ sqrt(sum(A2[i,j]^2 for i=1:6)) for j=1:3 ]\n",
    "cmax,j[2] = findmax(c)"
   ]
  },
  {
   "cell_type": "markdown",
   "metadata": {},
   "source": [
    "Now the game is to set $R_{k,j_2}=0$ for all $k>2$. Doing so means that \n",
    "\n",
    "$$A_2 e_{j_2}=\\sum_{k=2}^m q_k (r_k^Te_{j_2}) =  R_{2,j_2}q_2.$$\n",
    "\n",
    "And then also $q_2^T A_2=r_2^T$. "
   ]
  },
  {
   "cell_type": "code",
   "execution_count": 9,
   "metadata": {},
   "outputs": [
    {
     "data": {
      "text/plain": [
       "3×3 Array{Float64,2}:\n",
       " 11.0484   17.3781   7.5382\n",
       "  1.74387   0.0     10.732 \n",
       "  0.0       0.0      0.0   "
      ]
     },
     "execution_count": 9,
     "metadata": {},
     "output_type": "execute_result"
    }
   ],
   "source": [
    "R[2,j[2]] = cmax\n",
    "Q[:,2] = A2[:,j[2]]/R[2,j[2]]\n",
    "cols[j[2]] = false\n",
    "R[2,cols] = Q[:,2]'*A2[:,cols]\n",
    "R"
   ]
  },
  {
   "cell_type": "markdown",
   "metadata": {},
   "source": [
    "So we have $A_3=A_2-q_2r_2^T$:"
   ]
  },
  {
   "cell_type": "code",
   "execution_count": 10,
   "metadata": {},
   "outputs": [
    {
     "data": {
      "text/plain": [
       "6×3 Array{Float64,2}:\n",
       " -0.32076    0.0          0.0\n",
       "  2.2306    -8.88178e-16  0.0\n",
       " -2.00969    0.0          0.0\n",
       " -3.6847     0.0          0.0\n",
       " -0.236064   0.0          0.0\n",
       "  3.18475    0.0          0.0"
      ]
     },
     "execution_count": 10,
     "metadata": {},
     "output_type": "execute_result"
    }
   ],
   "source": [
    "A3 = A2 - Q[:,2]*R[2,:]'"
   ]
  },
  {
   "cell_type": "markdown",
   "metadata": {},
   "source": [
    "Another column zeroed out! Etc."
   ]
  },
  {
   "cell_type": "code",
   "execution_count": 11,
   "metadata": {},
   "outputs": [
    {
     "data": {
      "text/plain": [
       "(5.735213810955839, 1)"
      ]
     },
     "execution_count": 11,
     "metadata": {},
     "output_type": "execute_result"
    }
   ],
   "source": [
    "c = [ sqrt(sum(A3[i,j]^2 for i=1:6)) for j=1:3 ]\n",
    "cmax,j[3] = findmax(c)"
   ]
  },
  {
   "cell_type": "code",
   "execution_count": 12,
   "metadata": {},
   "outputs": [
    {
     "data": {
      "text/plain": [
       "3×3 Array{Float64,2}:\n",
       " 11.0484   17.3781   7.5382\n",
       "  1.74387   0.0     10.732 \n",
       "  5.73521   0.0      0.0   "
      ]
     },
     "execution_count": 12,
     "metadata": {},
     "output_type": "execute_result"
    }
   ],
   "source": [
    "R[3,j[3]] = cmax\n",
    "Q[:,3] = A3[:,j[3]]/R[3,j[3]];\n",
    "R"
   ]
  },
  {
   "cell_type": "markdown",
   "metadata": {},
   "source": [
    "So now we have a factorization..."
   ]
  },
  {
   "cell_type": "code",
   "execution_count": 13,
   "metadata": {},
   "outputs": [
    {
     "data": {
      "text/plain": [
       "1.0295784775289034e-15"
      ]
     },
     "execution_count": 13,
     "metadata": {},
     "output_type": "execute_result"
    }
   ],
   "source": [
    "norm(A-Q*R)"
   ]
  },
  {
   "cell_type": "markdown",
   "metadata": {},
   "source": [
    "...but $R$ is no longer upper triangular. However, it's virtually so. In column $j_1$ we enforced zero below row 1, in column $j_2$ we enforced zero below row 2, and so on. So if we take the columns in order $j_1,\\ldots,j_m$, the triangularity is restored."
   ]
  },
  {
   "cell_type": "code",
   "execution_count": 14,
   "metadata": {},
   "outputs": [
    {
     "data": {
      "text/plain": [
       "3×3 Array{Float64,2}:\n",
       " 17.3781   7.5382  11.0484 \n",
       "  0.0     10.732    1.74387\n",
       "  0.0      0.0      5.73521"
      ]
     },
     "execution_count": 14,
     "metadata": {},
     "output_type": "execute_result"
    }
   ],
   "source": [
    "R[:,j]"
   ]
  },
  {
   "cell_type": "markdown",
   "metadata": {},
   "source": [
    "This reordering might be expressed using right-multiplication by a permutation matrix $P$. In fact, we might say $RP = U$ for a truly triangular $U$, or $A=QUP^{-1}$. However, it's customary to put the permutation next to $A$ and continue using $R$ to mean a truly upper triangular matrix: $AP=QR$. This is a **pivoted QR factorization**. "
   ]
  },
  {
   "cell_type": "markdown",
   "metadata": {},
   "source": [
    "I'm not going to put a complete algorithm here. In practice one doesn't use MGS for this anyway, and there are some further efficiencies I've skipped. \n",
    "\n",
    "The default in Julia is to get an *unpivoted* QR."
   ]
  },
  {
   "cell_type": "code",
   "execution_count": 15,
   "metadata": {},
   "outputs": [
    {
     "data": {
      "text/plain": [
       "3×3 Array{Float64,2}:\n",
       " -12.5698  -15.2747   -8.11468\n",
       "   0.0       8.28755   0.85075\n",
       "   0.0       0.0      10.2678 "
      ]
     },
     "execution_count": 15,
     "metadata": {},
     "output_type": "execute_result"
    }
   ],
   "source": [
    "fact=qr(A);\n",
    "fact.R"
   ]
  },
  {
   "cell_type": "markdown",
   "metadata": {},
   "source": [
    "However, you can request the pivoted form."
   ]
  },
  {
   "cell_type": "code",
   "execution_count": 16,
   "metadata": {},
   "outputs": [],
   "source": [
    "fact = qr(A,Val(true));"
   ]
  },
  {
   "cell_type": "code",
   "execution_count": 17,
   "metadata": {},
   "outputs": [
    {
     "data": {
      "text/plain": [
       "3×3 Array{Float64,2}:\n",
       " -17.3781  -7.5382  -11.0484 \n",
       "   0.0     10.732     1.74387\n",
       "   0.0      0.0       5.73521"
      ]
     },
     "execution_count": 17,
     "metadata": {},
     "output_type": "execute_result"
    }
   ],
   "source": [
    "fact.R"
   ]
  },
  {
   "cell_type": "markdown",
   "metadata": {},
   "source": [
    "This is the same as ours (up to arbitrary signs). The permutation is available, as with our vector `j`."
   ]
  },
  {
   "cell_type": "code",
   "execution_count": 18,
   "metadata": {},
   "outputs": [
    {
     "data": {
      "text/plain": [
       "3-element Array{Int64,1}:\n",
       " 2\n",
       " 3\n",
       " 1"
      ]
     },
     "execution_count": 18,
     "metadata": {},
     "output_type": "execute_result"
    }
   ],
   "source": [
    "fact.p"
   ]
  }
 ],
 "metadata": {
  "kernelspec": {
   "display_name": "Julia 1.0.0",
   "language": "julia",
   "name": "julia-1.0"
  },
  "language_info": {
   "file_extension": ".jl",
   "mimetype": "application/julia",
   "name": "julia",
   "version": "1.0.0"
  }
 },
 "nbformat": 4,
 "nbformat_minor": 2
}
