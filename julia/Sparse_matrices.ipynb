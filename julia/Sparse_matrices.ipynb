{
 "cells": [
  {
   "cell_type": "markdown",
   "metadata": {},
   "source": [
    "# Sparse matrices and iterative methods"
   ]
  },
  {
   "cell_type": "markdown",
   "metadata": {},
   "source": [
    "## Sparse format\n",
    "\n",
    "Large matrices whose entries are mostly zeros are typically called *sparse*. They can be stored more efficiently than \"dense\" or full matrices, but must explicitly be constructed as a sparse type. "
   ]
  },
  {
   "cell_type": "code",
   "execution_count": 1,
   "metadata": {
    "collapsed": false
   },
   "outputs": [
    {
     "data": {
      "text/markdown": [
       "| name |        size | summary                                    |\n",
       "|:---- | -----------:|:------------------------------------------ |\n",
       "| A    | 703.195 KiB | 10000×10000 SparseMatrixCSC{Float64,Int64} |\n"
      ],
      "text/plain": [
       "name        size summary                                   \n",
       "–––– ––––––––––– ––––––––––––––––––––––––––––––––––––––––––\n",
       "A    703.195 KiB 10000×10000 SparseMatrixCSC{Float64,Int64}"
      ]
     },
     "execution_count": 1,
     "metadata": {},
     "output_type": "execute_result"
    }
   ],
   "source": [
    "using LinearAlgebra, SparseArrays\n",
    "A = sprandn(10000,10000,0.0004);\n",
    "varinfo(Main,r\"A\")"
   ]
  },
  {
   "cell_type": "markdown",
   "metadata": {},
   "source": [
    "The equivalent full (or \"dense\") matrix requires almost 800 MB of storage. "
   ]
  },
  {
   "cell_type": "code",
   "execution_count": 2,
   "metadata": {},
   "outputs": [
    {
     "data": {
      "text/markdown": [
       "| name  |        size | summary                      |\n",
       "|:----- | -----------:|:---------------------------- |\n",
       "| Afull | 762.939 MiB | 10000×10000 Array{Float64,2} |\n"
      ],
      "text/plain": [
       "name         size summary                     \n",
       "––––– ––––––––––– ––––––––––––––––––––––––––––\n",
       "Afull 762.939 MiB 10000×10000 Array{Float64,2}"
      ]
     },
     "execution_count": 2,
     "metadata": {},
     "output_type": "execute_result"
    }
   ],
   "source": [
    "Afull = Matrix(A);\n",
    "varinfo(Main,r\"Afull\")"
   ]
  },
  {
   "cell_type": "markdown",
   "metadata": {},
   "source": [
    "Two common ways to inspect a sparse matrix are `nnz`, the number of nonzeros, and `spy`, which shows the locations of the nonzeros."
   ]
  },
  {
   "cell_type": "code",
   "execution_count": 3,
   "metadata": {
    "collapsed": false
   },
   "outputs": [
    {
     "data": {
      "image/png": "[encoded data removed]",
      "text/plain": [
       "Figure(PyObject <Figure size 640x480 with 1 Axes>)"
      ]
     },
     "metadata": {},
     "output_type": "display_data"
    },
    {
     "data": {
      "text/plain": [
       "39994"
      ]
     },
     "execution_count": 3,
     "metadata": {},
     "output_type": "execute_result"
    }
   ],
   "source": [
    "using PyPlot\n",
    "spy(Afull)\n",
    "nnz(A)"
   ]
  },
  {
   "cell_type": "markdown",
   "metadata": {},
   "source": [
    "You can use `findnz` to get all the nonzero elements and their locations."
   ]
  },
  {
   "cell_type": "code",
   "execution_count": 4,
   "metadata": {},
   "outputs": [
    {
     "data": {
      "text/plain": [
       "([1082, 2624, 2690, 3318, 3722, 9741, 1233, 2878, 4551, 6767  …  9943, 1381, 2195, 3205, 3453, 3516, 4004, 6026, 7223, 7693], [1, 1, 1, 1, 1, 1, 2, 2, 2, 2  …  9998, 9999, 9999, 9999, 9999, 9999, 10000, 10000, 10000, 10000], [-0.790453, 0.289505, 3.30774, -0.906384, 0.968966, 0.349049, -0.273863, -0.319099, -0.752398, 0.294142  …  1.26307, 0.991248, 1.08676, -0.131784, 0.353355, 1.13204, 0.141726, -0.171729, 0.352718, -0.649349])"
      ]
     },
     "execution_count": 4,
     "metadata": {},
     "output_type": "execute_result"
    }
   ],
   "source": [
    "i,j,s = findnz(A)"
   ]
  },
  {
   "cell_type": "code",
   "execution_count": 5,
   "metadata": {},
   "outputs": [
    {
     "data": {
      "text/plain": [
       "(-0.7904525567382062, -0.7904525567382062)"
      ]
     },
     "execution_count": 5,
     "metadata": {},
     "output_type": "execute_result"
    }
   ],
   "source": [
    "(s[1],A[i[1],j[1]])"
   ]
  },
  {
   "cell_type": "markdown",
   "metadata": {},
   "source": [
    "## Making sparse matrices\n",
    "\n",
    "If the matrix is not too big, you can construct it as usual and then use `sparse` to convert it. This is rarely the best option for real work, though. \n",
    "\n",
    "You can also use the `sparse` function to construct a sparse matrix, essentially as the inverse operation of `findnz` above."
   ]
  },
  {
   "cell_type": "code",
   "execution_count": null,
   "metadata": {},
   "outputs": [],
   "source": [
    "AA = sparse(i,j,s,10000,10000)"
   ]
  },
  {
   "cell_type": "markdown",
   "metadata": {},
   "source": [
    "Sometimes it's handy to construct a sparse matrix by its values along diagonals, using `spdiagm`."
   ]
  },
  {
   "cell_type": "code",
   "execution_count": 6,
   "metadata": {},
   "outputs": [
    {
     "data": {
      "text/plain": [
       "6×6 SparseMatrixCSC{Int64,Int64} with 15 stored entries:\n",
       "  [1, 1]  =  1\n",
       "  [2, 1]  =  10\n",
       "  [2, 2]  =  2\n",
       "  [3, 2]  =  20\n",
       "  [1, 3]  =  1\n",
       "  [3, 3]  =  3\n",
       "  [4, 3]  =  30\n",
       "  [2, 4]  =  2\n",
       "  [4, 4]  =  4\n",
       "  [5, 4]  =  40\n",
       "  [3, 5]  =  3\n",
       "  [5, 5]  =  5\n",
       "  [6, 5]  =  50\n",
       "  [4, 6]  =  4\n",
       "  [6, 6]  =  6"
      ]
     },
     "execution_count": 6,
     "metadata": {},
     "output_type": "execute_result"
    }
   ],
   "source": [
    "B = spdiagm( 0=>1:6, 2=>1:4, -1=>10:10:50 )"
   ]
  },
  {
   "cell_type": "code",
   "execution_count": 7,
   "metadata": {},
   "outputs": [
    {
     "data": {
      "text/plain": [
       "6×6 Array{Int64,2}:\n",
       "  1   0   1   0   0  0\n",
       " 10   2   0   2   0  0\n",
       "  0  20   3   0   3  0\n",
       "  0   0  30   4   0  4\n",
       "  0   0   0  40   5  0\n",
       "  0   0   0   0  50  6"
      ]
     },
     "execution_count": 7,
     "metadata": {},
     "output_type": "execute_result"
    }
   ],
   "source": [
    "Matrix(B)"
   ]
  },
  {
   "cell_type": "markdown",
   "metadata": {},
   "source": [
    "## Sparse operations\n",
    "\n",
    "Sparse matrices are not just more memory-efficient. They are able to ignore structural zeros when taking sums and products."
   ]
  },
  {
   "cell_type": "code",
   "execution_count": 8,
   "metadata": {
    "collapsed": false
   },
   "outputs": [
    {
     "name": "stdout",
     "output_type": "stream",
     "text": [
      "  0.051912 seconds (94.68 k allocations: 12.461 MiB)\n"
     ]
    }
   ],
   "source": [
    "v = rand(10000);\n",
    "\n",
    "@time for k = 1:100 \n",
    "    A*v; \n",
    "end"
   ]
  },
  {
   "cell_type": "code",
   "execution_count": 9,
   "metadata": {
    "collapsed": false
   },
   "outputs": [
    {
     "name": "stdout",
     "output_type": "stream",
     "text": [
      "  4.739046 seconds (345.72 k allocations: 24.378 MiB, 0.17% gc time)\n"
     ]
    }
   ],
   "source": [
    "@time for k = 1:100\n",
    "    Afull*v; \n",
    "end"
   ]
  },
  {
   "cell_type": "markdown",
   "metadata": {},
   "source": [
    "One thing to watch out for, though: the way a sparse matrix is stored can make column operations a *lot* faster than row operations, so plan accordingly. "
   ]
  },
  {
   "cell_type": "code",
   "execution_count": 10,
   "metadata": {
    "collapsed": false
   },
   "outputs": [
    {
     "name": "stdout",
     "output_type": "stream",
     "text": [
      "  0.390580 seconds (932.78 k allocations: 46.911 MiB, 8.48% gc time)\n",
      "  0.109197 seconds (284.24 k allocations: 15.628 MiB)\n"
     ]
    }
   ],
   "source": [
    "B = copy(A);\n",
    "@time B[1000,:] = sum(B,dims=1); \n",
    "B = copy(A);\n",
    "@time B[:,1000] = sum(B,dims=2); "
   ]
  },
  {
   "cell_type": "markdown",
   "metadata": {},
   "source": [
    "## Sparse backslash\n",
    "\n",
    "There are algorithms that attempt to exploit sparsity when solving linear systems of equations. They will be called automatically when backslash is used on a sparse matrix. The time required varies wildly, but these methods can be surprisingly effective, especially for well-known common problems such as the 5-point Laplacian approximation. "
   ]
  },
  {
   "cell_type": "code",
   "execution_count": 11,
   "metadata": {
    "collapsed": false
   },
   "outputs": [
    {
     "name": "stdout",
     "output_type": "stream",
     "text": [
      "m = (n - 1) ^ 2 = 249001\n",
      "  4.539513 seconds (5.14 M allocations: 672.601 MiB, 4.37% gc time)\n"
     ]
    }
   ],
   "source": [
    "n = 500; @show m = (n-1)^2\n",
    "J = spdiagm(0=>ones(n-1)); D = spdiagm(0=>fill(-2.,n-1),1=>ones(n-2),-1=>ones(n-2))/n^2\n",
    "L = kron(J,D) + kron(D,J);\n",
    "b = ones(m);\n",
    "@time x = L\\b; "
   ]
  },
  {
   "cell_type": "markdown",
   "metadata": {},
   "source": [
    "As you can see, a 250,000 by 250,000 matrix might not be considered 'large' in every sense!"
   ]
  },
  {
   "cell_type": "markdown",
   "metadata": {},
   "source": [
    "## Matrix fill-in\n",
    "\n",
    "Not all is easy in sparse-land, though. The problem is that most operations on sparse matrices leave them less sparse, a phenomenon called *fill-in*.\n",
    "\n",
    "Take matrix powers, for example."
   ]
  },
  {
   "cell_type": "code",
   "execution_count": 12,
   "metadata": {},
   "outputs": [
    {
     "name": "stdout",
     "output_type": "stream",
     "text": [
      "nnz(A) = 50092\n",
      "nnz(A * A) = 250865\n",
      "nnz(A * A * A) = 1245920\n"
     ]
    }
   ],
   "source": [
    "A = sprandn(10000,10000,.0005)\n",
    "@show nnz(A);\n",
    "@show nnz(A*A);\n",
    "@show nnz(A*A*A);"
   ]
  },
  {
   "cell_type": "markdown",
   "metadata": {},
   "source": [
    "Algorithmically speaking, when we write $A^3x$, we think of it as $A(A(Ax))$, which is much faster in the general sparse case. \n",
    "\n",
    "Fill-in is especially damaging when attempting LU factorization. Bandedness can be preserved if pivoting is not used, but that invites instability."
   ]
  },
  {
   "cell_type": "code",
   "execution_count": 13,
   "metadata": {},
   "outputs": [
    {
     "data": {
      "image/png": "[encoded data removed]",
      "text/plain": [
       "Figure(PyObject <Figure size 640x480 with 1 Axes>)"
      ]
     },
     "metadata": {},
     "output_type": "display_data"
    },
    {
     "data": {
      "text/plain": [
       "PyObject <matplotlib.image.AxesImage object at 0x15096d128>"
      ]
     },
     "execution_count": 13,
     "metadata": {},
     "output_type": "execute_result"
    }
   ],
   "source": [
    "A = triu(tril(sprandn(1000,1000,0.05),50),-50) + 0.02I;\n",
    "using PyPlot\n",
    "spy(Matrix(A))"
   ]
  },
  {
   "cell_type": "code",
   "execution_count": 14,
   "metadata": {},
   "outputs": [
    {
     "data": {
      "image/png": "[encoded data removed]",
      "text/plain": [
       "Figure(PyObject <Figure size 640x480 with 2 Axes>)"
      ]
     },
     "metadata": {},
     "output_type": "display_data"
    },
    {
     "data": {
      "text/plain": [
       "(PyObject <matplotlib.axes._subplots.AxesSubplot object at 0x15099cac8>, PyObject <matplotlib.image.AxesImage object at 0x167b99358>, PyObject Text(0.5,23,'U'))"
      ]
     },
     "execution_count": 14,
     "metadata": {},
     "output_type": "execute_result"
    }
   ],
   "source": [
    "L,U = lu(Matrix(A))\n",
    "subplot(121), spy(L), xlabel(\"L\")\n",
    "subplot(122), spy(U), xlabel(\"U\")"
   ]
  },
  {
   "cell_type": "markdown",
   "metadata": {},
   "source": [
    "There are clever heuristics for minimizing the fill-in, but they are far from foolproof. "
   ]
  },
  {
   "cell_type": "code",
   "execution_count": null,
   "metadata": {},
   "outputs": [],
   "source": []
  }
 ],
 "metadata": {
  "kernelspec": {
   "display_name": "Julia 1.0.0",
   "language": "julia",
   "name": "julia-1.0"
  },
  "language_info": {
   "file_extension": ".jl",
   "mimetype": "application/julia",
   "name": "julia",
   "version": "1.0.1"
  }
 },
 "nbformat": 4,
 "nbformat_minor": 2
}
