{
 "cells": [
  {
   "cell_type": "markdown",
   "metadata": {},
   "source": [
    "# Sparse matrices and iterative methods"
   ]
  },
  {
   "cell_type": "markdown",
   "metadata": {},
   "source": [
    "## Sparse format\n",
    "\n",
    "Large matrices whose entries are mostly zeros are typically called *sparse*. They can be stored more efficiently than \"dense\" or full matrices, but must explicitly be constructed as a sparse type. "
   ]
  },
  {
   "cell_type": "code",
   "execution_count": 1,
   "metadata": {
    "collapsed": false
   },
   "outputs": [
    {
     "data": {
      "text/markdown": [
       "| name |        size | summary                                    |\n",
       "|:---- | -----------:|:------------------------------------------ |\n",
       "| A    | 707.883 KiB | 10000×10000 SparseMatrixCSC{Float64,Int64} |\n"
      ],
      "text/plain": [
       "name        size summary                                   \n",
       "–––– ––––––––––– ––––––––––––––––––––––––––––––––––––––––––\n",
       "A    707.883 KiB 10000×10000 SparseMatrixCSC{Float64,Int64}"
      ]
     },
     "execution_count": 1,
     "metadata": {},
     "output_type": "execute_result"
    }
   ],
   "source": [
    "using LinearAlgebra, SparseArrays\n",
    "A = sprandn(10000,10000,0.0004);\n",
    "varinfo(Main,r\"A\")"
   ]
  },
  {
   "cell_type": "markdown",
   "metadata": {},
   "source": [
    "The equivalent full (or \"dense\") matrix requires almost 800 MB of storage. "
   ]
  },
  {
   "cell_type": "code",
   "execution_count": 2,
   "metadata": {},
   "outputs": [
    {
     "data": {
      "text/markdown": [
       "| name  |        size | summary                      |\n",
       "|:----- | -----------:|:---------------------------- |\n",
       "| Afull | 762.939 MiB | 10000×10000 Array{Float64,2} |\n"
      ],
      "text/plain": [
       "name         size summary                     \n",
       "––––– ––––––––––– ––––––––––––––––––––––––––––\n",
       "Afull 762.939 MiB 10000×10000 Array{Float64,2}"
      ]
     },
     "execution_count": 2,
     "metadata": {},
     "output_type": "execute_result"
    }
   ],
   "source": [
    "Afull = Matrix(A);\n",
    "varinfo(Main,r\"Afull\")"
   ]
  },
  {
   "cell_type": "markdown",
   "metadata": {},
   "source": [
    "Two common ways to inspect a sparse matrix are `nnz`, the number of nonzeros, and `spy`, which shows the locations of the nonzeros."
   ]
  },
  {
   "cell_type": "code",
   "execution_count": 3,
   "metadata": {
    "collapsed": false
   },
   "outputs": [
    {
     "data": {
      "image/png": "[encoded data removed]",
      "text/plain": [
       "Figure(PyObject <Figure size 640x480 with 1 Axes>)"
      ]
     },
     "metadata": {},
     "output_type": "display_data"
    },
    {
     "data": {
      "text/plain": [
       "40294"
      ]
     },
     "execution_count": 3,
     "metadata": {},
     "output_type": "execute_result"
    }
   ],
   "source": [
    "using PyPlot\n",
    "spy(Afull)\n",
    "nnz(A)"
   ]
  },
  {
   "cell_type": "markdown",
   "metadata": {},
   "source": [
    "You can use `findnz` to get all the nonzero elements and their locations."
   ]
  },
  {
   "cell_type": "code",
   "execution_count": 4,
   "metadata": {},
   "outputs": [
    {
     "data": {
      "text/plain": [
       "([3022, 3751, 4544, 4821, 3846, 3855, 8595, 112, 1890, 3078  …  3334, 5195, 5595, 6099, 2729, 5233, 3818, 6991, 7090, 9040], [1, 1, 1, 1, 2, 2, 2, 3, 3, 3  …  9998, 9998, 9998, 9998, 9999, 9999, 10000, 10000, 10000, 10000], [1.10703, -1.59044, -0.578879, -1.94638, -0.554971, -1.38665, 0.590012, 0.646307, 0.0151332, -0.0298211  …  -0.233326, -0.196126, -0.216334, 0.361577, 1.35334, 1.68348, 0.832822, -0.944676, 0.792592, -0.754181])"
      ]
     },
     "execution_count": 4,
     "metadata": {},
     "output_type": "execute_result"
    }
   ],
   "source": [
    "i,j,s = findnz(A)"
   ]
  },
  {
   "cell_type": "code",
   "execution_count": 5,
   "metadata": {},
   "outputs": [
    {
     "data": {
      "text/plain": [
       "(1.1070333306623361, 1.1070333306623361)"
      ]
     },
     "execution_count": 5,
     "metadata": {},
     "output_type": "execute_result"
    }
   ],
   "source": [
    "(s[1],A[i[1],j[1]])"
   ]
  },
  {
   "cell_type": "markdown",
   "metadata": {},
   "source": [
    "## Making sparse matrices\n",
    "\n",
    "If the matrix is not too big, you can construct it as usual and then use `sparse` to convert it. This is rarely the best option for real work, though. \n",
    "\n",
    "You can also use the `sparse` function to construct a sparse matrix, essentially as the inverse operation of `findnz` above."
   ]
  },
  {
   "cell_type": "code",
   "execution_count": 6,
   "metadata": {},
   "outputs": [
    {
     "data": {
      "text/plain": [
       "10000×10000 SparseMatrixCSC{Float64,Int64} with 40294 stored entries:\n",
       "  [3022 ,     1]  =  1.10703\n",
       "  [3751 ,     1]  =  -1.59044\n",
       "  [4544 ,     1]  =  -0.578879\n",
       "  [4821 ,     1]  =  -1.94638\n",
       "  [3846 ,     2]  =  -0.554971\n",
       "  [3855 ,     2]  =  -1.38665\n",
       "  [8595 ,     2]  =  0.590012\n",
       "  [112  ,     3]  =  0.646307\n",
       "  [1890 ,     3]  =  0.0151332\n",
       "  [3078 ,     3]  =  -0.0298211\n",
       "  [876  ,     4]  =  0.997834\n",
       "  [4617 ,     4]  =  -0.377948\n",
       "  ⋮\n",
       "  [9107 ,  9997]  =  1.56857\n",
       "  [1630 ,  9998]  =  -0.24159\n",
       "  [3334 ,  9998]  =  -0.233326\n",
       "  [5195 ,  9998]  =  -0.196126\n",
       "  [5595 ,  9998]  =  -0.216334\n",
       "  [6099 ,  9998]  =  0.361577\n",
       "  [2729 ,  9999]  =  1.35334\n",
       "  [5233 ,  9999]  =  1.68348\n",
       "  [3818 , 10000]  =  0.832822\n",
       "  [6991 , 10000]  =  -0.944676\n",
       "  [7090 , 10000]  =  0.792592\n",
       "  [9040 , 10000]  =  -0.754181"
      ]
     },
     "execution_count": 6,
     "metadata": {},
     "output_type": "execute_result"
    }
   ],
   "source": [
    "AA = sparse(i,j,s,10000,10000)"
   ]
  },
  {
   "cell_type": "markdown",
   "metadata": {},
   "source": [
    "Sometimes it's handy to construct a sparse matrix by its values along diagonals, using `spdiagm`."
   ]
  },
  {
   "cell_type": "code",
   "execution_count": 7,
   "metadata": {},
   "outputs": [
    {
     "data": {
      "text/plain": [
       "6×6 SparseMatrixCSC{Int64,Int64} with 15 stored entries:\n",
       "  [1, 1]  =  1\n",
       "  [2, 1]  =  10\n",
       "  [2, 2]  =  2\n",
       "  [3, 2]  =  20\n",
       "  [1, 3]  =  1\n",
       "  [3, 3]  =  3\n",
       "  [4, 3]  =  30\n",
       "  [2, 4]  =  2\n",
       "  [4, 4]  =  4\n",
       "  [5, 4]  =  40\n",
       "  [3, 5]  =  3\n",
       "  [5, 5]  =  5\n",
       "  [6, 5]  =  50\n",
       "  [4, 6]  =  4\n",
       "  [6, 6]  =  6"
      ]
     },
     "execution_count": 7,
     "metadata": {},
     "output_type": "execute_result"
    }
   ],
   "source": [
    "B = spdiagm( 0=>1:6, 2=>1:4, -1=>10:10:50 )"
   ]
  },
  {
   "cell_type": "code",
   "execution_count": 8,
   "metadata": {},
   "outputs": [
    {
     "data": {
      "text/plain": [
       "6×6 Array{Int64,2}:\n",
       "  1   0   1   0   0  0\n",
       " 10   2   0   2   0  0\n",
       "  0  20   3   0   3  0\n",
       "  0   0  30   4   0  4\n",
       "  0   0   0  40   5  0\n",
       "  0   0   0   0  50  6"
      ]
     },
     "execution_count": 8,
     "metadata": {},
     "output_type": "execute_result"
    }
   ],
   "source": [
    "Matrix(B)"
   ]
  },
  {
   "cell_type": "markdown",
   "metadata": {},
   "source": [
    "## Sparse operations\n",
    "\n",
    "Sparse matrices are not just more memory-efficient. They are able to ignore structural zeros when taking sums and products."
   ]
  },
  {
   "cell_type": "code",
   "execution_count": 9,
   "metadata": {
    "collapsed": false
   },
   "outputs": [
    {
     "name": "stdout",
     "output_type": "stream",
     "text": [
      "  0.051341 seconds (89.11 k allocations: 12.142 MiB, 14.09% gc time)\n"
     ]
    }
   ],
   "source": [
    "v = rand(10000);\n",
    "\n",
    "@time for k = 1:100 \n",
    "    A*v; \n",
    "end\n"
   ]
  },
  {
   "cell_type": "code",
   "execution_count": 10,
   "metadata": {
    "collapsed": false
   },
   "outputs": [
    {
     "name": "stdout",
     "output_type": "stream",
     "text": [
      "  4.346933 seconds (263.76 k allocations: 20.438 MiB, 0.13% gc time)\n"
     ]
    }
   ],
   "source": [
    "@time for k = 1:100\n",
    "    Afull*v; \n",
    "end"
   ]
  },
  {
   "cell_type": "markdown",
   "metadata": {},
   "source": [
    "One thing to watch out for, though: the way a sparse matrix is stored can make column operations a *lot* faster than row operations, so plan accordingly. "
   ]
  },
  {
   "cell_type": "code",
   "execution_count": 11,
   "metadata": {
    "collapsed": false
   },
   "outputs": [
    {
     "name": "stdout",
     "output_type": "stream",
     "text": [
      "  0.528145 seconds (2.18 M allocations: 108.339 MiB, 6.97% gc time)\n",
      "  0.089441 seconds (287.83 k allocations: 15.701 MiB)\n"
     ]
    }
   ],
   "source": [
    "B = copy(A);\n",
    "@time B[1000,:] = sum(B,dims=1); \n",
    "B = copy(A);\n",
    "@time B[:,1000] = sum(B,dims=2); "
   ]
  },
  {
   "cell_type": "markdown",
   "metadata": {},
   "source": [
    "## Sparse backslash\n",
    "\n",
    "There are algorithms that attempt to exploit sparsity when solving linear systems of equations. They will be called automatically when backslash is used on a sparse matrix. The time required varies wildly, but these methods can be surprisingly effective, especially for well-known common problems such as the 5-point Laplacian approximation. "
   ]
  },
  {
   "cell_type": "code",
   "execution_count": 12,
   "metadata": {
    "collapsed": false
   },
   "outputs": [
    {
     "name": "stdout",
     "output_type": "stream",
     "text": [
      "m = (n - 1) ^ 2 = 249001\n",
      "  3.656261 seconds (5.41 M allocations: 686.400 MiB, 5.31% gc time)\n"
     ]
    }
   ],
   "source": [
    "n = 500; @show m = (n-1)^2\n",
    "J = spdiagm(0=>ones(n-1)); D = spdiagm(0=>fill(-2.,n-1),1=>ones(n-2),-1=>ones(n-2))/n^2\n",
    "L = kron(J,D) + kron(D,J);\n",
    "b = ones(m);\n",
    "@time x = L\\b; "
   ]
  },
  {
   "cell_type": "markdown",
   "metadata": {},
   "source": [
    "As you can see, a 250,000 by 250,000 matrix might not be considered 'large' in every sense!"
   ]
  },
  {
   "cell_type": "markdown",
   "metadata": {},
   "source": [
    "## Matrix fill-in\n",
    "\n",
    "Not all is easy in sparse-land, though. The problem is that most operations on sparse matrices leave them less sparse, a phenomenon called *fill-in*.\n",
    "\n",
    "Take matrix powers, for example."
   ]
  },
  {
   "cell_type": "code",
   "execution_count": 15,
   "metadata": {},
   "outputs": [
    {
     "name": "stdout",
     "output_type": "stream",
     "text": [
      "nnz(A) = 50420\n",
      "nnz(A * A) = 253826\n",
      "nnz(A * A * A) = 1271047\n"
     ]
    }
   ],
   "source": [
    "A = sprandn(10000,10000,.0005)\n",
    "@show nnz(A);\n",
    "@show nnz(A*A);\n",
    "@show nnz(A*A*A);"
   ]
  },
  {
   "cell_type": "markdown",
   "metadata": {},
   "source": [
    "Algorithmically speaking, when we write $A^3x$, we think of it as $A(A(Ax))$, which is much faster in the general sparse case. \n",
    "\n",
    "Fill-in is especially damaging when attempting LU factorization. Bandedness can be preserved if pivoting is not used, but that invites instability."
   ]
  },
  {
   "cell_type": "code",
   "execution_count": 26,
   "metadata": {},
   "outputs": [
    {
     "data": {
      "image/png": "[encoded data removed]",
      "text/plain": [
       "Figure(PyObject <Figure size 640x480 with 1 Axes>)"
      ]
     },
     "metadata": {},
     "output_type": "display_data"
    },
    {
     "data": {
      "text/plain": [
       "PyObject <matplotlib.image.AxesImage object at 0x171f032b0>"
      ]
     },
     "execution_count": 26,
     "metadata": {},
     "output_type": "execute_result"
    }
   ],
   "source": [
    "A = triu(tril(sprandn(1000,1000,0.05),50),-50) + 0.05I;\n",
    "using PyPlot\n",
    "spy(Matrix(A))"
   ]
  },
  {
   "cell_type": "code",
   "execution_count": 27,
   "metadata": {},
   "outputs": [
    {
     "data": {
      "image/png": "[encoded data removed]",
      "text/plain": [
       "Figure(PyObject <Figure size 640x480 with 2 Axes>)"
      ]
     },
     "metadata": {},
     "output_type": "display_data"
    },
    {
     "data": {
      "text/plain": [
       "(PyObject <matplotlib.axes._subplots.AxesSubplot object at 0x171f316a0>, PyObject <matplotlib.image.AxesImage object at 0x1603d1518>, PyObject Text(0.5,24,'U'))"
      ]
     },
     "execution_count": 27,
     "metadata": {},
     "output_type": "execute_result"
    }
   ],
   "source": [
    "L,U = lu(Matrix(A))\n",
    "subplot(121), spy(L), xlabel(\"L\")\n",
    "subplot(122), spy(U), xlabel(\"U\")"
   ]
  },
  {
   "cell_type": "markdown",
   "metadata": {},
   "source": [
    "There are clever heuristics for minimizing the fill-in, but they are far from foolproof. "
   ]
  },
  {
   "cell_type": "code",
   "execution_count": null,
   "metadata": {},
   "outputs": [],
   "source": []
  }
 ],
 "metadata": {
  "kernelspec": {
   "display_name": "Julia 1.0.0",
   "language": "julia",
   "name": "julia-1.0"
  },
  "language_info": {
   "file_extension": ".jl",
   "mimetype": "application/julia",
   "name": "julia",
   "version": "1.0.0"
  }
 },
 "nbformat": 4,
 "nbformat_minor": 2
}
