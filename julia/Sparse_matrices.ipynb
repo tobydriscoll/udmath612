{
 "cells": [
  {
   "cell_type": "markdown",
   "metadata": {},
   "source": [
    "# Sparse matrices and iterative methods"
   ]
  },
  {
   "cell_type": "markdown",
   "metadata": {},
   "source": [
    "## Sparse format\n",
    "\n",
    "Large matrices whose entries are mostly zeros are typically called *sparse*. They can be stored more efficiently than \"dense\" or full matrices, but must explicitly be constructed as a sparse type. "
   ]
  },
  {
   "cell_type": "code",
   "execution_count": 6,
   "metadata": {
    "collapsed": false
   },
   "outputs": [
    {
     "data": {
      "text/markdown": [
       "| name |        size | summary                                    |\n",
       "|:---- | -----------:|:------------------------------------------ |\n",
       "| A    | 704.258 KiB | 10000×10000 SparseMatrixCSC{Float64,Int64} |\n"
      ],
      "text/plain": [
       "name        size summary                                   \n",
       "–––– ––––––––––– ––––––––––––––––––––––––––––––––––––––––––\n",
       "A    704.258 KiB 10000×10000 SparseMatrixCSC{Float64,Int64}"
      ]
     },
     "execution_count": 6,
     "metadata": {},
     "output_type": "execute_result"
    }
   ],
   "source": [
    "using LinearAlgebra, SparseArrays\n",
    "A = sprandn(10000,10000,0.0004);\n",
    "varinfo(Main,r\"A\")"
   ]
  },
  {
   "cell_type": "markdown",
   "metadata": {},
   "source": [
    "The equivalent full (or \"dense\") matrix requires almost 800 MB of storage. "
   ]
  },
  {
   "cell_type": "code",
   "execution_count": 8,
   "metadata": {},
   "outputs": [
    {
     "data": {
      "text/markdown": [
       "| name  |        size | summary                      |\n",
       "|:----- | -----------:|:---------------------------- |\n",
       "| Afull | 762.939 MiB | 10000×10000 Array{Float64,2} |\n"
      ],
      "text/plain": [
       "name         size summary                     \n",
       "––––– ––––––––––– ––––––––––––––––––––––––––––\n",
       "Afull 762.939 MiB 10000×10000 Array{Float64,2}"
      ]
     },
     "execution_count": 8,
     "metadata": {},
     "output_type": "execute_result"
    }
   ],
   "source": [
    "Afull = Matrix(A);\n",
    "varinfo(Main,r\"Afull\")"
   ]
  },
  {
   "cell_type": "markdown",
   "metadata": {},
   "source": [
    "Two common ways to inspect a sparse matrix are `nnz`, the number of nonzeros, and `spy`, which shows the locations of the nonzeros."
   ]
  },
  {
   "cell_type": "code",
   "execution_count": 11,
   "metadata": {
    "collapsed": false
   },
   "outputs": [
    {
     "data": {
      "image/png": "[encoded data removed]",
      "text/plain": [
       "Figure(PyObject <Figure size 640x480 with 1 Axes>)"
      ]
     },
     "metadata": {},
     "output_type": "display_data"
    },
    {
     "data": {
      "text/plain": [
       "40062"
      ]
     },
     "execution_count": 11,
     "metadata": {},
     "output_type": "execute_result"
    }
   ],
   "source": [
    "using PyPlot\n",
    "spy(Afull)\n",
    "nnz(A)"
   ]
  },
  {
   "cell_type": "markdown",
   "metadata": {},
   "source": [
    "You can use `findnz` to get all the nonzero elements and their locations."
   ]
  },
  {
   "cell_type": "code",
   "execution_count": 12,
   "metadata": {},
   "outputs": [
    {
     "data": {
      "text/plain": [
       "([1320, 1538, 2436, 7027, 9332, 7611, 7930, 8739, 1436, 4117  …  8824, 1434, 6663, 1646, 3118, 5728, 450, 616, 5436, 5915], [1, 1, 1, 1, 1, 2, 2, 2, 3, 3  …  9997, 9998, 9998, 9999, 9999, 9999, 10000, 10000, 10000, 10000], [2.18876, 0.477163, 0.188315, -1.23346, 0.825988, 1.17751, 1.62751, 0.497596, -1.87862, 1.62097  …  0.929337, 0.188515, 0.541002, -0.654597, 0.5352, 0.0494514, -0.806043, -0.124555, -0.0678588, 0.364484])"
      ]
     },
     "execution_count": 12,
     "metadata": {},
     "output_type": "execute_result"
    }
   ],
   "source": [
    "i,j,s = findnz(A)"
   ]
  },
  {
   "cell_type": "code",
   "execution_count": 14,
   "metadata": {},
   "outputs": [
    {
     "data": {
      "text/plain": [
       "(2.1887648208781596, 2.1887648208781596)"
      ]
     },
     "execution_count": 14,
     "metadata": {},
     "output_type": "execute_result"
    }
   ],
   "source": [
    "(s[1],A[i[1],j[1]])"
   ]
  },
  {
   "cell_type": "markdown",
   "metadata": {},
   "source": [
    "## Making sparse matrices\n",
    "\n",
    "If the matrix is not too big, you can construct it as usual and then use `sparse` to convert it. This is rarely the best option for real work, though. \n",
    "\n",
    "You can also use the `sparse` function to construct a sparse matrix, essentially as the inverse operation of `findnz` above."
   ]
  },
  {
   "cell_type": "code",
   "execution_count": 15,
   "metadata": {},
   "outputs": [
    {
     "data": {
      "text/plain": [
       "10000×10000 SparseMatrixCSC{Float64,Int64} with 40062 stored entries:\n",
       "  [1320 ,     1]  =  2.18876\n",
       "  [1538 ,     1]  =  0.477163\n",
       "  [2436 ,     1]  =  0.188315\n",
       "  [7027 ,     1]  =  -1.23346\n",
       "  [9332 ,     1]  =  0.825988\n",
       "  [7611 ,     2]  =  1.17751\n",
       "  [7930 ,     2]  =  1.62751\n",
       "  [8739 ,     2]  =  0.497596\n",
       "  [1436 ,     3]  =  -1.87862\n",
       "  [4117 ,     3]  =  1.62097\n",
       "  [6600 ,     3]  =  -0.252131\n",
       "  [8990 ,     3]  =  -0.773943\n",
       "  ⋮\n",
       "  [713  ,  9997]  =  1.05137\n",
       "  [6165 ,  9997]  =  0.816145\n",
       "  [8824 ,  9997]  =  0.929337\n",
       "  [1434 ,  9998]  =  0.188515\n",
       "  [6663 ,  9998]  =  0.541002\n",
       "  [1646 ,  9999]  =  -0.654597\n",
       "  [3118 ,  9999]  =  0.5352\n",
       "  [5728 ,  9999]  =  0.0494514\n",
       "  [450  , 10000]  =  -0.806043\n",
       "  [616  , 10000]  =  -0.124555\n",
       "  [5436 , 10000]  =  -0.0678588\n",
       "  [5915 , 10000]  =  0.364484"
      ]
     },
     "execution_count": 15,
     "metadata": {},
     "output_type": "execute_result"
    }
   ],
   "source": [
    "AA = sparse(i,j,s,10000,10000)"
   ]
  },
  {
   "cell_type": "markdown",
   "metadata": {},
   "source": [
    "Sometimes it's handy to construct a sparse matrix by its values along diagonals, using `spdiagm`."
   ]
  },
  {
   "cell_type": "code",
   "execution_count": 26,
   "metadata": {},
   "outputs": [
    {
     "data": {
      "text/plain": [
       "6×6 SparseMatrixCSC{Int64,Int64} with 15 stored entries:\n",
       "  [1, 1]  =  1\n",
       "  [2, 1]  =  10\n",
       "  [2, 2]  =  2\n",
       "  [3, 2]  =  20\n",
       "  [1, 3]  =  1\n",
       "  [3, 3]  =  3\n",
       "  [4, 3]  =  30\n",
       "  [2, 4]  =  2\n",
       "  [4, 4]  =  4\n",
       "  [5, 4]  =  40\n",
       "  [3, 5]  =  3\n",
       "  [5, 5]  =  5\n",
       "  [6, 5]  =  50\n",
       "  [4, 6]  =  4\n",
       "  [6, 6]  =  6"
      ]
     },
     "execution_count": 26,
     "metadata": {},
     "output_type": "execute_result"
    }
   ],
   "source": [
    "B = spdiagm( 0=>1:6, 2=>1:4, -1=>10:10:50 )"
   ]
  },
  {
   "cell_type": "code",
   "execution_count": 27,
   "metadata": {},
   "outputs": [
    {
     "data": {
      "text/plain": [
       "6×6 Array{Int64,2}:\n",
       "  1   0   1   0   0  0\n",
       " 10   2   0   2   0  0\n",
       "  0  20   3   0   3  0\n",
       "  0   0  30   4   0  4\n",
       "  0   0   0  40   5  0\n",
       "  0   0   0   0  50  6"
      ]
     },
     "execution_count": 27,
     "metadata": {},
     "output_type": "execute_result"
    }
   ],
   "source": [
    "Matrix(B)"
   ]
  },
  {
   "cell_type": "markdown",
   "metadata": {},
   "source": [
    "## Sparse operations\n",
    "\n",
    "Sparse matrices are not just more memory-efficient. They are able to ignore structural zeros when taking sums and products."
   ]
  },
  {
   "cell_type": "code",
   "execution_count": 29,
   "metadata": {
    "collapsed": false
   },
   "outputs": [
    {
     "name": "stdout",
     "output_type": "stream",
     "text": [
      "  0.050902 seconds (86.80 k allocations: 12.018 MiB, 13.58% gc time)\n"
     ]
    }
   ],
   "source": [
    "v = rand(10000);\n",
    "\n",
    "@time for k = 1:100 \n",
    "    A*v; \n",
    "end\n"
   ]
  },
  {
   "cell_type": "code",
   "execution_count": 30,
   "metadata": {
    "collapsed": false
   },
   "outputs": [
    {
     "name": "stdout",
     "output_type": "stream",
     "text": [
      "  4.569652 seconds (261.90 k allocations: 20.320 MiB, 0.15% gc time)\n"
     ]
    }
   ],
   "source": [
    "@time for k = 1:100\n",
    "    Afull*v; \n",
    "end"
   ]
  },
  {
   "cell_type": "markdown",
   "metadata": {},
   "source": [
    "One thing to watch out for, though: the way a sparse matrix is stored can make column operations a *lot* faster than row operations, so plan accordingly. "
   ]
  },
  {
   "cell_type": "code",
   "execution_count": 40,
   "metadata": {
    "collapsed": false
   },
   "outputs": [
    {
     "name": "stdout",
     "output_type": "stream",
     "text": [
      "  0.115667 seconds (287.33 k allocations: 27.662 MiB, 3.97% gc time)\n",
      "  0.015662 seconds (37 allocations: 13.574 MiB, 21.99% gc time)\n"
     ]
    }
   ],
   "source": [
    "B = copy(A);\n",
    "@time B[1000,:] = sum(B,dims=1); \n",
    "B = copy(A);\n",
    "@time B[:,1000] = sum(B,dims=2); "
   ]
  },
  {
   "cell_type": "markdown",
   "metadata": {},
   "source": [
    "## Sparse backslash\n",
    "\n",
    "There are algorithms that attempt to exploit sparsity when solving linear systems of equations. They will be called automatically when backslash is used on a sparse matrix. The time required varies wildly, but these methods can be surprisingly effective, especially for well-known common problems such as the 5-point Laplacian approximation. "
   ]
  },
  {
   "cell_type": "code",
   "execution_count": 37,
   "metadata": {
    "collapsed": false
   },
   "outputs": [
    {
     "name": "stdout",
     "output_type": "stream",
     "text": [
      "m = (n - 1) ^ 2 = 249001\n",
      "  2.280694 seconds (81 allocations: 426.104 MiB, 0.51% gc time)\n"
     ]
    }
   ],
   "source": [
    "n = 500; @show m = (n-1)^2\n",
    "J = spdiagm(0=>ones(n-1)); D = spdiagm(0=>fill(-2.,n-1),1=>ones(n-2),-1=>ones(n-2))/n^2\n",
    "L = kron(J,D) + kron(D,J);\n",
    "b = ones(m);\n",
    "@time x = L\\b; "
   ]
  },
  {
   "cell_type": "markdown",
   "metadata": {},
   "source": [
    "As you can see, a 250,000 by 250,000 matrix might not be considered 'large' in every sense!"
   ]
  },
  {
   "cell_type": "markdown",
   "metadata": {},
   "source": [
    "## Jacobi and Gauss-Seidel\n",
    "\n",
    "Sooner or later, though, one encounters $Ax=b$ problems of a type and size where the sparse direct algorithms take too long. At this point one turns to iterative methods, which can be halted before complete convergence. \n",
    "\n",
    "A classical iterative idea is to split the matrix additively: $A=M-N$, so that $Mx=Nx+b$. This is turned into a fixed-point iteration, $Mx^{(k+1)}=Nx^{(k)}+b$. If $M$ is the \"diagonal part\" of $A$, this is the **Jacobi** iteration, and if $M$ is the lower triangle of $A$, it's the **Gauss–Seidel** iteration."
   ]
  },
  {
   "cell_type": "code",
   "execution_count": 38,
   "metadata": {
    "collapsed": false
   },
   "outputs": [
    {
     "data": {
      "image/png": "[encoded data removed]",
      "text/plain": [
       "Figure(PyObject <Figure size 640x480 with 1 Axes>)"
      ]
     },
     "metadata": {},
     "output_type": "display_data"
    },
    {
     "data": {
      "text/plain": [
       "PyObject Text(0.5,1,'Convergence of Jacobi iteration')"
      ]
     },
     "execution_count": 38,
     "metadata": {},
     "output_type": "execute_result"
    }
   ],
   "source": [
    "m = 20000;\n",
    "speye(m) = spdiagm(0=>ones(m))\n",
    "A = sprandn(m,m,0.001) + m/100*speye(m)\n",
    "b = ones(m)\n",
    "dA = diag(A);  # vector of the diagonal values\n",
    "N = - triu(A,1) - tril(A,-1);\n",
    "x = 0*b;\n",
    "normres = [];\n",
    "for k = 1:50\n",
    "    x = (N*x + b)./dA;\n",
    "    normres = [normres;norm(b-A*x)];\n",
    "end\n",
    "semilogy(normres,\".-\");\n",
    "title(\"Convergence of Jacobi iteration\")"
   ]
  },
  {
   "cell_type": "markdown",
   "metadata": {},
   "source": [
    "Iterative methods come at a price: the convergence of the method depends very strongly on the matrix $A$, as well as the method chosen. Unlike LU factorization and the related direct methods, these methods are far from \"plug-and-play.\" "
   ]
  },
  {
   "cell_type": "code",
   "execution_count": 39,
   "metadata": {
    "collapsed": false
   },
   "outputs": [
    {
     "data": {
      "image/png": "[encoded data removed]",
      "text/plain": [
       "Figure(PyObject <Figure size 640x480 with 1 Axes>)"
      ]
     },
     "metadata": {},
     "output_type": "display_data"
    },
    {
     "data": {
      "text/plain": [
       "PyObject Text(0.5,1,'Convergence of Jacobi iteration')"
      ]
     },
     "execution_count": 39,
     "metadata": {},
     "output_type": "execute_result"
    }
   ],
   "source": [
    "mu = sqrt(m);\n",
    "for i = 1:4\n",
    "    A = sprandn(m,m,0.001) + mu*speye(m);\n",
    "    dA = diag(A);\n",
    "    N = - triu(A,1) - tril(A,-1);\n",
    "    x = 0*b;\n",
    "    normres = [];\n",
    "    for k = 1:50\n",
    "        x = (N*x + b)./dA;\n",
    "        normres = [normres;norm(b-A*x)];\n",
    "    end\n",
    "    semilogy(normres,\".-\")\n",
    "    mu = mu/4;\n",
    "end\n",
    "title(\"Convergence of Jacobi iteration\")"
   ]
  },
  {
   "cell_type": "markdown",
   "metadata": {},
   "source": [
    "Although Jacobi, Gauss-Seidel, and friends are historically important and still helpful in limited circumstances, they have mostly been overtaken by **Krylov subspace methods**. These are more robust over a wider range of problems. Moreover, they allow the incorporation of partial knowledge of the matrix or crude approximate solutions, and they can be used without even needing to know the matrix $A$! This last part sounds strange but is extremely important. "
   ]
  },
  {
   "cell_type": "markdown",
   "metadata": {},
   "source": [
    "## Matrix-free iterations\n",
    "\n",
    "A matrix is the expression of a linear transformation on vectors. Krylov subspace methods require the matrix $A$ only in the form, \"find $Av$ given any vector $v$.\" That is, any representation of the linear transformation is just as good as having the matrix. \n",
    "\n",
    "For instance, consider the PageRank algorithm that made Google the king of the internet search. PageRank represents the web as an undirected graph, or equivalently as a weighted adjacency matrix, where adjacency means a link in one page to another. This is an *enormous* graph that is *incredibly* sparse. You don't need to worry about representing the adjacency matrix $A$. Instead, you just need the capability to perform the mapping \"given the probability of being on every page, follow links randomly to calculate the probabilities of visiting every page next.\" \n",
    "\n",
    "In differential equations, we don't need a matrix representation of a discretized differentiation operator, which could be a headache on 2D or 3D regions. You just need the operation (for example), \"find the values of the derivative of an interpolant to these values.\" This matrix-free viewpoint is often easier to code and faster to compute. "
   ]
  }
 ],
 "metadata": {
  "kernelspec": {
   "display_name": "Julia 1.0.0",
   "language": "julia",
   "name": "julia-1.0"
  },
  "language_info": {
   "file_extension": ".jl",
   "mimetype": "application/julia",
   "name": "julia",
   "version": "1.0.0"
  }
 },
 "nbformat": 4,
 "nbformat_minor": 2
}
