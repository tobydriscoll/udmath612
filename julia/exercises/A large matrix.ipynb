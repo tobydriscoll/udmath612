{
 "cells": [
  {
   "cell_type": "markdown",
   "metadata": {},
   "source": [
    "Let $A$ be the $5000\\times 5000$ symmetric matrix with \n",
    "\n",
    "$$ a_{ij}= \\begin{cases} \n",
    "    \\sqrt{i}, & \\text{if $i=j$},\\\\\n",
    "    |i-j|^{-1}, & \\text{if $|i-j|$ is prime}, \\\\\n",
    "    0, & \\text{otherwise}.\n",
    "    \\end{cases}\n",
    "    $$"
   ]
  },
  {
   "cell_type": "markdown",
   "metadata": {},
   "source": [
    "## 1. \n",
    "Show that the density of $A$ (number of nonzeros over total number of elements) is about 14%."
   ]
  },
  {
   "cell_type": "code",
   "execution_count": null,
   "metadata": {},
   "outputs": [],
   "source": []
  },
  {
   "cell_type": "markdown",
   "metadata": {},
   "source": [
    "## 2.\n",
    "\n",
    "Is $A$ positive definite? (Use `eigs`, which for Julia is found in Arpack.jl.) "
   ]
  },
  {
   "cell_type": "code",
   "execution_count": null,
   "metadata": {},
   "outputs": [],
   "source": []
  },
  {
   "cell_type": "markdown",
   "metadata": {},
   "source": [
    "## 3.\n",
    "\n",
    "To at least four significant digits, what is the (100,1) element of $A^{-1}$?"
   ]
  },
  {
   "cell_type": "code",
   "execution_count": null,
   "metadata": {},
   "outputs": [],
   "source": []
  }
 ],
 "metadata": {
  "kernelspec": {
   "display_name": "Julia 1.0.0",
   "language": "julia",
   "name": "julia-1.0"
  },
  "language_info": {
   "file_extension": ".jl",
   "mimetype": "application/julia",
   "name": "julia",
   "version": "1.0.0"
  }
 },
 "nbformat": 4,
 "nbformat_minor": 2
}
