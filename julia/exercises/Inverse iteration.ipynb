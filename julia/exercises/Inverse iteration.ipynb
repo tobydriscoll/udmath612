{
 "cells": [
  {
   "cell_type": "markdown",
   "metadata": {},
   "source": [
    "# Inverse iteration experimentation\n",
    "\n",
    "For this set of exercises, create a random $10\\times 10$ matrix $X$, a diagonal matrix $D$ whose diagonal entries are $(k/10)^2$ for $k=1,\\ldots,10$, and let $A=XDX^{-1}$. (Thus, you know the eigenvalues and their eigenvectors.) "
   ]
  },
  {
   "cell_type": "code",
   "execution_count": null,
   "metadata": {},
   "outputs": [],
   "source": []
  },
  {
   "cell_type": "markdown",
   "metadata": {},
   "source": [
    "## 1. Inverse iteration with shift 0\n",
    "\n",
    "Starting with a random normalized vector, do 40 inverse iterations with shift $\\mu=0$. Within each iteration use a Rayleigh quotient to estimate the eigenvalue, and record in a vector how accurate that eigenvalue estimate is. \n",
    "\n",
    "Make a semilog plot showing the error convergence as a function of the number of iterations. To this plot add a straight line corresponding to the asymptotic convergence estimate of the process. "
   ]
  },
  {
   "cell_type": "code",
   "execution_count": null,
   "metadata": {},
   "outputs": [],
   "source": []
  },
  {
   "cell_type": "code",
   "execution_count": null,
   "metadata": {},
   "outputs": [],
   "source": []
  },
  {
   "cell_type": "markdown",
   "metadata": {},
   "source": [
    "## 2. Inverse iteration with shift 2\n",
    "\n",
    "Repeat the previous part, with $\\mu=2$. "
   ]
  },
  {
   "cell_type": "code",
   "execution_count": null,
   "metadata": {},
   "outputs": [],
   "source": []
  },
  {
   "cell_type": "code",
   "execution_count": null,
   "metadata": {},
   "outputs": [],
   "source": []
  },
  {
   "cell_type": "markdown",
   "metadata": {},
   "source": [
    "## 3. Rayleigh quotient iteration\n",
    "\n",
    "Now start with $\\mu=2$, but use the Rayleigh quotient estimate to update $\\mu$ after each iteration. Try to verify that the eigenvalue convergence is approximately quadratic. "
   ]
  },
  {
   "cell_type": "code",
   "execution_count": null,
   "metadata": {},
   "outputs": [],
   "source": []
  },
  {
   "cell_type": "code",
   "execution_count": null,
   "metadata": {},
   "outputs": [],
   "source": []
  }
 ],
 "metadata": {
  "kernelspec": {
   "display_name": "Julia 1.0.1",
   "language": "julia",
   "name": "julia-1.0"
  },
  "language_info": {
   "file_extension": ".jl",
   "mimetype": "application/julia",
   "name": "julia",
   "version": "1.0.1"
  }
 },
 "nbformat": 4,
 "nbformat_minor": 2
}
