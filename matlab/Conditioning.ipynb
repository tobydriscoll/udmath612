{
 "cells": [
  {
   "cell_type": "markdown",
   "metadata": {},
   "source": [
    "# Condition numbers\n",
    "\n",
    "In numerical computing, we constantly make small errors in representing real numbers and the operations on them. Consequently we need to know whether the problems we want to solve are very sensitive to perturbations. The condition number measures this senstivity.\n"
   ]
  },
  {
   "cell_type": "markdown",
   "metadata": {},
   "source": [
    "## Polynomial roots\n",
    "\n",
    "The roots of a polynomial become sensitive to the values of the coefficients in the monomial basis when roots are relatively close to one another. Consider, for example,"
   ]
  },
  {
   "cell_type": "code",
   "execution_count": 3,
   "metadata": {
    "collapsed": false
   },
   "outputs": [
    {
     "name": "stdout",
     "output_type": "stream",
     "text": [
      "ans =\n",
      "   2.2000 + 0.0000i\n",
      "   1.0002 + 0.0000i\n",
      "   0.9999 + 0.0002i\n",
      "   0.9999 - 0.0002i\n",
      "   0.4000 + 0.0000i\n"
     ]
    }
   ],
   "source": [
    "p = poly([1,1,1,0.4,2.2]);         % polynomial with these as roots\n",
    "q = p + 1e-12*randn(1,6);          % small changes to its coefficients\n",
    "roots(q)"
   ]
  },
  {
   "cell_type": "markdown",
   "metadata": {},
   "source": [
    "You can see that the triple root at 1 changed a lot more than the size of the perturbation would suggest; the other two roots changed by an amount less than $10^{-9}$. The effect of bad conditioning can be more dramatically shown using the _Wilkinson polynomial_. "
   ]
  },
  {
   "cell_type": "code",
   "execution_count": 5,
   "metadata": {
    "collapsed": false
   },
   "outputs": [
    {
     "data": {
      "image/png": "[encoded data removed]",
      "text/plain": [
       "<IPython.core.display.Image object>"
      ]
     },
     "metadata": {},
     "output_type": "display_data"
    }
   ],
   "source": [
    "p = poly(1:20);\n",
    "plot(1:20,0,\"kx\")\n",
    "hold on\n",
    "for k = 1:200\n",
    "    q = p + 1e-6*randn(1,21);  \n",
    "    r = roots(q);\n",
    "    plot(real(r),imag(r),\"b.\")\n",
    "end\n",
    "axis(\"equal\")"
   ]
  },
  {
   "cell_type": "markdown",
   "metadata": {},
   "source": [
    "Clearly, having roots close together is not the only way to get sensitivity in the roots. "
   ]
  },
  {
   "cell_type": "markdown",
   "metadata": {},
   "source": [
    "## Matrix condition number\n",
    "\n",
    "We have particular interest in the condition number of the problem \"given square matrix $A$ and vector $b$, find vector $x$ such that $Ax=b$.\" More simply: \"map $b$ to $A^{-1}b$.\" The relative condition number of this problem is bounded above by the *matrix condition number* $\\kappa(A)=\\|A\\|\\,\\|A^{-1}\\|$. Furthermore, in any particular case there exist perturbations to the data such that the upper bound is achieved. "
   ]
  },
  {
   "cell_type": "code",
   "execution_count": 6,
   "metadata": {
    "collapsed": false
   },
   "outputs": [
    {
     "name": "stdout",
     "output_type": "stream",
     "text": [
      "A =\n",
      "    1.0000    0.5000    0.3333    0.2500    0.2000\n",
      "    0.5000    0.3333    0.2500    0.2000    0.1667\n",
      "    0.3333    0.2500    0.2000    0.1667    0.1429\n",
      "    0.2500    0.2000    0.1667    0.1429    0.1250\n",
      "    0.2000    0.1667    0.1429    0.1250    0.1111\n",
      "kappa =\n",
      "   4.7661e+05\n"
     ]
    }
   ],
   "source": [
    "A = hilb(5)\n",
    "kappa = cond(A)"
   ]
  },
  {
   "cell_type": "markdown",
   "metadata": {},
   "source": [
    "The importance of _relative_ condition numbers is that they explain accuracy in dimensionless terms, i.e. significant digits. This condition number says we could \"lose\" up to 5 or so digits in the passage from data to result. So we make relative perturbations to $b$ and see the relative effect on the result."
   ]
  },
  {
   "cell_type": "code",
   "execution_count": 10,
   "metadata": {
    "collapsed": false
   },
   "outputs": [
    {
     "name": "stdout",
     "output_type": "stream",
     "text": [
      " average relative error = 4.89e-08\n",
      " max relative error found = 1.76e-07\n",
      " condition number bound = 4.77e-07\n"
     ]
    }
   ],
   "source": [
    "perturb = @(z,ep) z.*(1 + ep*(2*rand(size(z))-1));\n",
    "x = 0.3 + (1:5)';  b = A*x;\n",
    "\n",
    "maxerr = -Inf;\n",
    "toterr = 0;\n",
    "for k = 1:50000\n",
    "    bb = perturb(b,1e-12);\n",
    "    err = norm(A\\bb - x)/norm(x);\n",
    "    maxerr = max(maxerr,err);\n",
    "    toterr = toterr + err;\n",
    "end\n",
    "fprintf(\" average relative error = %.2e\\n\",(toterr/50000))\n",
    "fprintf(\" max relative error found = %.2e\\n\",maxerr)\n",
    "fprintf(\" condition number bound = %.2e\\n\",(1e-12*kappa));"
   ]
  },
  {
   "cell_type": "markdown",
   "metadata": {},
   "source": [
    "The same holds for perturbations to $A$, though the error has higher-order terms that vanish only in the limit of infinitesimal perturbations."
   ]
  },
  {
   "cell_type": "code",
   "execution_count": 11,
   "metadata": {
    "collapsed": false
   },
   "outputs": [
    {
     "name": "stdout",
     "output_type": "stream",
     "text": [
      " average relative error = 2.18e-08\n",
      " max relative error found = 1.08e-07\n",
      " condition number bound = 4.77e-07\n"
     ]
    }
   ],
   "source": [
    "maxerr = -Inf;\n",
    "toterr = 0;\n",
    "for k = 1:50000\n",
    "    AA = perturb(A,1e-12);\n",
    "    err = norm(AA\\b - x)/norm(x);\n",
    "    maxerr = max(maxerr,err);\n",
    "    toterr = toterr + err;\n",
    "end\n",
    "fprintf(\" average relative error = %.2e\\n\",(toterr/50000))\n",
    "fprintf(\" max relative error found = %.2e\\n\",maxerr)\n",
    "fprintf(\" condition number bound = %.2e\\n\",(1e-12*kappa));"
   ]
  }
 ],
 "metadata": {
  "kernelspec": {
   "display_name": "Matlab",
   "language": "matlab",
   "name": "matlab"
  },
  "language_info": {
   "codemirror_mode": "octave",
   "file_extension": ".m",
   "help_links": [
    {
     "text": "MetaKernel Magics",
     "url": "https://github.com/calysto/metakernel/blob/master/metakernel/magics/README.md"
    }
   ],
   "mimetype": "text/x-octave",
   "name": "matlab",
   "version": "0.15.1"
  }
 },
 "nbformat": 4,
 "nbformat_minor": 2
}
