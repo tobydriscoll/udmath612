{
 "cells": [
  {
   "cell_type": "markdown",
   "metadata": {},
   "source": [
    "# Gram-Schmidt orthogonalization"
   ]
  },
  {
   "cell_type": "markdown",
   "metadata": {},
   "source": [
    "One of the fundamental ways to factor an $m\\times n$ matrix $A$ is as a product $A=QR$, where $Q$ is orthogonal and $R$ is upper triangular. A straightforward derivation of the factorization is by the Gram-Schmidt algorithm. However, there are two different ways to structure this algorithm, and while they are mathematically equivalent, they have different behaviors computationally. "
   ]
  },
  {
   "cell_type": "markdown",
   "metadata": {},
   "source": [
    "## Classical Gram-Schmidt"
   ]
  },
  {
   "cell_type": "markdown",
   "metadata": {},
   "source": [
    "Using the columnwise interpretation of the product $A=QR$ leads to the following expression:\n",
    "$$\n",
    "a_j = Q r_j = \\sum_{k=1}^j R_{kj} q_k.\n",
    "$$\n",
    "We have applied the upper triangularity of $R$ here to truncate the sum. Rearranging,\n",
    "$$\n",
    "R_{jj} q_j = a_j - \\sum_{k=1}^{j-1} R_{kj} q_k.\n",
    "$$\n",
    "Using the unitariness of $Q$, we get for all $k<j$,\n",
    "$$\n",
    "0 = q_k^* a_j - R_{kj}.\n",
    "$$\n",
    "This is used to fill in the $j$th column of $R$ above the diagonal. Then\n",
    "$$\n",
    "R_{jj} = \\left\\| a_j - \\sum_{k=1}^{j-1} R_{kj} q_k\\right\\|_2,\n",
    "$$\n",
    "and finally we get $q_j$ as well.  "
   ]
  },
  {
   "cell_type": "code",
   "execution_count": 1,
   "metadata": {},
   "outputs": [
    {
     "name": "stdout",
     "output_type": "stream",
     "text": [
      "\n",
      "function [Q,R] = cgs(A)\n",
      "    [m,n] = size(A);\n",
      "    Q = zeros(m,n);\n",
      "    R = zeros(n,n);\n",
      "    for j = 1:n\n",
      "        v = A(:,j);\n",
      "        for k = 1:j-1\n",
      "            R(k,j) = Q(:,k)'*A(:,j);\n",
      "            v = v - R(k,j)*Q(:,k);\n",
      "        end\n",
      "        R(j,j) = norm(v);\n",
      "        Q(:,j) = v/R(j,j);\n",
      "    end\n",
      "end  \n"
     ]
    }
   ],
   "source": [
    "type cgs  "
   ]
  },
  {
   "cell_type": "code",
   "execution_count": 2,
   "metadata": {},
   "outputs": [
    {
     "name": "stdout",
     "output_type": "stream",
     "text": [
      "A =\n",
      "     9     3    10     8\n",
      "    10     6     5    10\n",
      "     2    10     9     7\n",
      "    10    10     2     1\n",
      "     7     2     5     9\n",
      "     1    10    10    10\n"
     ]
    }
   ],
   "source": [
    "A = randi(10,6,4)"
   ]
  },
  {
   "cell_type": "code",
   "execution_count": 3,
   "metadata": {},
   "outputs": [
    {
     "name": "stdout",
     "output_type": "stream",
     "text": [
      "Q =\n",
      "    0.4917   -0.2328    0.6065   -0.5446\n",
      "    0.5464   -0.0650   -0.1048    0.5508\n",
      "    0.1093    0.6259    0.1908   -0.1309\n",
      "    0.5464    0.2254   -0.6638   -0.3649\n",
      "    0.3825   -0.2052    0.2193    0.4377\n",
      "    0.0546    0.6760    0.3100    0.2412\n",
      "R =\n",
      "   18.3030   12.6209   12.1838   14.6970\n",
      "         0   13.7736    9.1646    7.0069\n",
      "         0         0   10.1275    9.5502\n",
      "         0         0         0    6.2205\n"
     ]
    }
   ],
   "source": [
    "[Q,R] = cgs(A)"
   ]
  },
  {
   "cell_type": "code",
   "execution_count": 4,
   "metadata": {},
   "outputs": [
    {
     "name": "stdout",
     "output_type": "stream",
     "text": [
      "ans =\n",
      "   4.7453e-16\n"
     ]
    }
   ],
   "source": [
    "norm(Q'*Q-eye(4))"
   ]
  },
  {
   "cell_type": "markdown",
   "metadata": {},
   "source": [
    "## Modified Gram-Schmidt"
   ]
  },
  {
   "cell_type": "markdown",
   "metadata": {},
   "source": [
    "Suppose instead we turn to the outer-product interpretation of the factorization. Let's write\n",
    "$$\n",
    "A = \\begin{bmatrix} a_1 & \\cdots & a_n \\end{bmatrix},\n",
    "\\qquad Q = \\begin{bmatrix} q_1 & \\cdots & q_n \\end{bmatrix},\n",
    "\\qquad R = \\begin{bmatrix} r_1^* \\\\ \\vdots \\\\ r_n^* \\end{bmatrix},\n",
    "$$\n",
    "from which we have \n",
    "$$\n",
    "A = \\sum_{k=1}^n q_k r_k^*.\n",
    "$$\n",
    "Consider the rows $r_k^*$ appearing in the outer product sum. Of these, only $k=1$ has a nonzero in the first column, because of the triangular structure of $R$. So if we restrict attention to the first column only, we conclude\n",
    "$$\n",
    "a_1 = R_{11}q_1.\n",
    "$$\n",
    "As in CGS, this can be used to find $R_{11}$ (take the 2-norm) and $q_1$. Multiplying the original sum through by $q_1^*$ and applying orthogonality gives\n",
    "$$\n",
    "q_1^*A =  r_1^*.\n",
    "$$\n",
    "This is used to fill in the rest of the first row of $R$; columnwise it is the same inner product as in CGS:\n",
    "$$\n",
    "R_{1j} = q_1^* a_j,\n",
    "$$\n",
    "valid for $j>1$. "
   ]
  },
  {
   "cell_type": "code",
   "execution_count": 5,
   "metadata": {},
   "outputs": [
    {
     "name": "stdout",
     "output_type": "stream",
     "text": [
      "R =\n",
      "   18.3030   12.6209   12.1838   14.6970\n",
      "         0         0         0         0\n",
      "         0         0         0         0\n",
      "         0         0         0         0\n"
     ]
    }
   ],
   "source": [
    "[m,n] = size(A);\n",
    "Q=zeros(m,n); R=zeros(n,n);\n",
    "R(1,1) = norm(A(:,1));\n",
    "Q(:,1) = A(:,1)/R(1,1);\n",
    "for j=2:n\n",
    "    R(1,j) = Q(:,1)'*A(:,j);\n",
    "end\n",
    "R"
   ]
  },
  {
   "cell_type": "markdown",
   "metadata": {},
   "source": [
    "Now consider the following rearrangement of the outer product sum:\n",
    "$$\n",
    "A - q_1 r_1^* = \\sum_{k=2}^n q_k r_k^*.\n",
    "$$\n",
    "In all the rows of $R$ appearing on the right, only $k=2$ has a nonzero in column 2. So the second column of the left-hand side is just $R_{22}q_2$. This lets us get both of these unknowns. "
   ]
  },
  {
   "cell_type": "code",
   "execution_count": 6,
   "metadata": {},
   "outputs": [
    {
     "name": "stdout",
     "output_type": "stream",
     "text": [
      "Q =\n",
      "    0.4917   -0.2328         0         0\n",
      "    0.5464   -0.0650         0         0\n",
      "    0.1093    0.6259         0         0\n",
      "    0.5464    0.2254         0         0\n",
      "    0.3825   -0.2052         0         0\n",
      "    0.0546    0.6760         0         0\n",
      "R =\n",
      "   18.3030   12.6209   12.1838   14.6970\n",
      "         0   13.7736         0         0\n",
      "         0         0         0         0\n",
      "         0         0         0         0\n"
     ]
    }
   ],
   "source": [
    "B = A - Q(:,1)*R(1,:);\n",
    "R(2,2) = norm(B(:,2));\n",
    "Q(:,2) = B(:,2)/R(2,2)\n",
    "R"
   ]
  },
  {
   "cell_type": "markdown",
   "metadata": {},
   "source": [
    "Now a left-multiplication of both sides by $q_2^*$ isolates the second row of $R$ on the right, etc.  The reasoning repeats iteratively (or recursively, or inductively, depending on your point of view). "
   ]
  },
  {
   "cell_type": "code",
   "execution_count": 7,
   "metadata": {},
   "outputs": [
    {
     "name": "stdout",
     "output_type": "stream",
     "text": [
      "\n",
      "function [Q,R] = mgs(A)\n",
      "    [m,n] = size(A);\n",
      "    Q = zeros(m,n);\n",
      "    R = zeros(n,n);\n",
      "    for k = 1:n\n",
      "        R(k,k) = norm(A(:,k));\n",
      "        Q(:,k) = A(:,k)/R(k,k);\n",
      "        for j = k+1:n\n",
      "            R(k,j) = Q(:,k)'*A(:,j);\n",
      "        end\n",
      "        A = A - Q(:,k)*R(k,:);\n",
      "    end\n",
      "end\n"
     ]
    }
   ],
   "source": [
    "type mgs    "
   ]
  },
  {
   "cell_type": "code",
   "execution_count": 8,
   "metadata": {},
   "outputs": [
    {
     "name": "stdout",
     "output_type": "stream",
     "text": [
      "Q =\n",
      "    0.4917   -0.2328    0.6065   -0.5446\n",
      "    0.5464   -0.0650   -0.1048    0.5508\n",
      "    0.1093    0.6259    0.1908   -0.1309\n",
      "    0.5464    0.2254   -0.6638   -0.3649\n",
      "    0.3825   -0.2052    0.2193    0.4377\n",
      "    0.0546    0.6760    0.3100    0.2412\n",
      "R =\n",
      "   18.3030   12.6209   12.1838   14.6970\n",
      "         0   13.7736    9.1646    7.0069\n",
      "         0         0   10.1275    9.5502\n",
      "         0         0         0    6.2205\n"
     ]
    }
   ],
   "source": [
    "[Q,R] = mgs(A)"
   ]
  },
  {
   "cell_type": "code",
   "execution_count": 9,
   "metadata": {},
   "outputs": [
    {
     "name": "stdout",
     "output_type": "stream",
     "text": [
      "ans =\n",
      "   2.7271e-16\n",
      "ans =\n",
      "   2.5712e-15\n"
     ]
    }
   ],
   "source": [
    "norm(Q'*Q-eye(4))\n",
    "norm(A-Q*R)"
   ]
  },
  {
   "cell_type": "markdown",
   "metadata": {},
   "source": [
    "Mathematically, there is no difference between CGS and MGS. However, they do arithmetic operations in different orders, and we will find that that can make a huge difference on a computer."
   ]
  }
 ],
 "metadata": {
  "kernelspec": {
   "display_name": "Matlab",
   "language": "matlab",
   "name": "matlab"
  },
  "language_info": {
   "codemirror_mode": "octave",
   "file_extension": ".m",
   "help_links": [
    {
     "text": "MetaKernel Magics",
     "url": "https://github.com/calysto/metakernel/blob/master/metakernel/magics/README.md"
    }
   ],
   "mimetype": "text/x-octave",
   "name": "matlab",
   "version": "0.15.1"
  }
 },
 "nbformat": 4,
 "nbformat_minor": 2
}
