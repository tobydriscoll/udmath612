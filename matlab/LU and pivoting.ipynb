{
 "cells": [
  {
   "cell_type": "markdown",
   "metadata": {},
   "source": [
    "# LU factorization\n",
    "\n",
    "## Basic form\n",
    "\n",
    "Our goal is to factor $A=LU$, where $L$ is unit lower triangular and $U$ is upper triangular. As the book explains, expressing Gaussian elimination using linear algebra leads to an algorithm. We will derive it differently, using the outer product form of $LU$, similarly to how we found modified Gram-Schmidt. \n",
    "\n",
    "Define \n",
    "\n",
    "$$A_j = \\sum_{k=j}^m \\ell_k u_k^*, \\qquad j=1,\\ldots,m.$$\n",
    "\n",
    "Note that $A_1=A$. Let's step through a small example. "
   ]
  },
  {
   "cell_type": "code",
   "execution_count": 1,
   "metadata": {},
   "outputs": [
    {
     "name": "stdout",
     "output_type": "stream",
     "text": [
      "\n",
      "A =\n",
      "\n",
      "     9     7    10    10\n",
      "    10     1    10     5\n",
      "     2     3     2     9\n",
      "    10     6    10     2\n",
      "\n",
      "\n",
      "A1 =\n",
      "\n",
      "     9     7    10    10\n",
      "    10     1    10     5\n",
      "     2     3     2     9\n",
      "    10     6    10     2\n",
      "\n"
     ]
    }
   ],
   "source": [
    "A = randi(10,4,4)\n",
    "A1 = A"
   ]
  },
  {
   "cell_type": "markdown",
   "metadata": {},
   "source": [
    "Let's look at the first row of $A_1$. We can express this algebraically as \n",
    "\n",
    "$$e_1^* A_1 = \\sum_{k=1}^m (e_1^* \\ell_k) u_k^* = u_1^*,$$\n",
    "\n",
    "thanks to the structure of $L$. From this identity we get the first row of $U$. Similarly, if we look at the first column of $A_1$, we find\n",
    "\n",
    "$$A_1 e_1 = \\sum_{k=1}^m \\ell_k (u_k^*e_1) = U_{11}\\ell_1,$$\n",
    "\n",
    "which gives us the first column of $L$. "
   ]
  },
  {
   "cell_type": "code",
   "execution_count": 2,
   "metadata": {},
   "outputs": [
    {
     "name": "stdout",
     "output_type": "stream",
     "text": [
      "\n",
      "U =\n",
      "\n",
      "     9     7    10    10\n",
      "     0     0     0     0\n",
      "     0     0     0     0\n",
      "     0     0     0     0\n",
      "\n",
      "\n",
      "L =\n",
      "\n",
      "    1.0000         0         0         0\n",
      "    1.1111         0         0         0\n",
      "    0.2222         0         0         0\n",
      "    1.1111         0         0         0\n",
      "\n"
     ]
    }
   ],
   "source": [
    "U = zeros(4,4);\n",
    "L = zeros(4,4);\n",
    "\n",
    "U(1,:) = A1(1,:)\n",
    "L(:,1) = A1(:,1)/U(1,1)"
   ]
  },
  {
   "cell_type": "markdown",
   "metadata": {},
   "source": [
    "Now we can construct $A_2=A_1-\\ell_1u_1^*$. Note that \n",
    "\n",
    "$$e_1^* A_2 = e_1^*A_1 - u_1^* = 0,$$ \n",
    "\n",
    "and \n",
    "\n",
    "$$A_2e_1 = A_1e_1 - \\ell_1 U_{11} = 0.$$\n",
    "\n",
    "In other words, the first rank-one term $\\ell_1 u_1^*$ captures and cancels out the first row and column of the original $A$. "
   ]
  },
  {
   "cell_type": "code",
   "execution_count": 3,
   "metadata": {},
   "outputs": [
    {
     "name": "stdout",
     "output_type": "stream",
     "text": [
      "\n",
      "A2 =\n",
      "\n",
      "         0         0         0         0\n",
      "         0   -6.7778   -1.1111   -6.1111\n",
      "         0    1.4444   -0.2222    6.7778\n",
      "         0   -1.7778   -1.1111   -9.1111\n",
      "\n"
     ]
    }
   ],
   "source": [
    "A2 = A1 - L(:,1)*U(1,:)"
   ]
  },
  {
   "cell_type": "markdown",
   "metadata": {},
   "source": [
    "Now we move on to take out the second column and row. Observe that \n",
    "\n",
    "$$ e_2^*A_2 = \\sum_{k=2}^m (e_2^* \\ell_k) u_k^* = u_2^*,$$\n",
    "\n",
    "and \n",
    "\n",
    "$$A_2 e_2 = \\sum_{k=2}^m \\ell_k (u_k^*e_2) = U_{22}\\ell_2.$$"
   ]
  },
  {
   "cell_type": "code",
   "execution_count": 4,
   "metadata": {},
   "outputs": [
    {
     "name": "stdout",
     "output_type": "stream",
     "text": [
      "\n",
      "U =\n",
      "\n",
      "    9.0000    7.0000   10.0000   10.0000\n",
      "         0   -6.7778   -1.1111   -6.1111\n",
      "         0         0         0         0\n",
      "         0         0         0         0\n",
      "\n",
      "\n",
      "L =\n",
      "\n",
      "    1.0000         0         0         0\n",
      "    1.1111    1.0000         0         0\n",
      "    0.2222   -0.2131         0         0\n",
      "    1.1111    0.2623         0         0\n",
      "\n"
     ]
    }
   ],
   "source": [
    "U(2,:) = A2(2,:)\n",
    "L(:,2) = A2(:,2)/U(2,2)"
   ]
  },
  {
   "cell_type": "markdown",
   "metadata": {},
   "source": [
    "You may have guessed that this will capture the second row and column, so that we can zero those out too."
   ]
  },
  {
   "cell_type": "code",
   "execution_count": 5,
   "metadata": {},
   "outputs": [
    {
     "name": "stdout",
     "output_type": "stream",
     "text": [
      "\n",
      "A3 =\n",
      "\n",
      "         0         0         0         0\n",
      "         0         0         0         0\n",
      "         0         0   -0.4590    5.4754\n",
      "         0   -0.0000   -0.8197   -7.5082\n",
      "\n"
     ]
    }
   ],
   "source": [
    "A3 = A2 - L(:,2)*U(2,:)"
   ]
  },
  {
   "cell_type": "markdown",
   "metadata": {},
   "source": [
    "And so on."
   ]
  },
  {
   "cell_type": "code",
   "execution_count": 6,
   "metadata": {},
   "outputs": [
    {
     "name": "stdout",
     "output_type": "stream",
     "text": [
      "\n",
      "U =\n",
      "\n",
      "    9.0000    7.0000   10.0000   10.0000\n",
      "         0   -6.7778   -1.1111   -6.1111\n",
      "         0         0   -0.4590    5.4754\n",
      "         0         0         0         0\n",
      "\n",
      "\n",
      "L =\n",
      "\n",
      "    1.0000         0         0         0\n",
      "    1.1111    1.0000         0         0\n",
      "    0.2222   -0.2131    1.0000         0\n",
      "    1.1111    0.2623    1.7857         0\n",
      "\n",
      "\n",
      "A4 =\n",
      "\n",
      "         0         0         0         0\n",
      "         0         0         0         0\n",
      "         0         0         0         0\n",
      "         0   -0.0000         0  -17.2857\n",
      "\n",
      "\n",
      "U =\n",
      "\n",
      "    9.0000    7.0000   10.0000   10.0000\n",
      "         0   -6.7778   -1.1111   -6.1111\n",
      "         0         0   -0.4590    5.4754\n",
      "         0   -0.0000         0  -17.2857\n",
      "\n",
      "\n",
      "L =\n",
      "\n",
      "    1.0000         0         0         0\n",
      "    1.1111    1.0000         0         0\n",
      "    0.2222   -0.2131    1.0000         0\n",
      "    1.1111    0.2623    1.7857    1.0000\n",
      "\n"
     ]
    }
   ],
   "source": [
    "U(3,:) = A3(3,:)\n",
    "L(:,3) = A3(:,3)/U(3,3)\n",
    "A4 = A3 - L(:,3)*U(3,:)\n",
    "\n",
    "U(4,:) = A4(4,:)\n",
    "L(:,4) = A4(:,4)/U(4,4)"
   ]
  },
  {
   "cell_type": "markdown",
   "metadata": {},
   "source": [
    "This is the whole factorization:"
   ]
  },
  {
   "cell_type": "code",
   "execution_count": 7,
   "metadata": {},
   "outputs": [
    {
     "name": "stdout",
     "output_type": "stream",
     "text": [
      "\n",
      "ans =\n",
      "\n",
      "   1.0e-14 *\n",
      "\n",
      "         0         0         0         0\n",
      "         0         0         0         0\n",
      "         0         0         0         0\n",
      "         0         0   -0.1776         0\n",
      "\n"
     ]
    }
   ],
   "source": [
    "A-L*U"
   ]
  },
  {
   "cell_type": "markdown",
   "metadata": {},
   "source": [
    "Before we can write this as an algorithm, though, we need to address an important possible failure point."
   ]
  },
  {
   "cell_type": "markdown",
   "metadata": {},
   "source": [
    "## Pivoting\n",
    "\n",
    "Above, we iteratively divided by the entries $U_{11},U_{22},\\ldots$ as we found them. What if one of these were zero? We can easily find an example where this happens almost immediately."
   ]
  },
  {
   "cell_type": "code",
   "execution_count": 8,
   "metadata": {},
   "outputs": [
    {
     "name": "stdout",
     "output_type": "stream",
     "text": [
      "\n",
      "A =\n",
      "\n",
      "     0     7    10    10\n",
      "    10     1    10     5\n",
      "     2     3     2     9\n",
      "    10     6    10     2\n",
      "\n"
     ]
    }
   ],
   "source": [
    "A(1,1) = 0"
   ]
  },
  {
   "cell_type": "code",
   "execution_count": 9,
   "metadata": {},
   "outputs": [
    {
     "name": "stdout",
     "output_type": "stream",
     "text": [
      "\n",
      "U =\n",
      "\n",
      "     0     7    10    10\n",
      "     0     0     0     0\n",
      "     0     0     0     0\n",
      "     0     0     0     0\n",
      "\n",
      "\n",
      "L =\n",
      "\n",
      "   NaN     0     0     0\n",
      "   Inf     0     0     0\n",
      "   Inf     0     0     0\n",
      "   Inf     0     0     0\n",
      "\n"
     ]
    }
   ],
   "source": [
    "U = zeros(4,4);\n",
    "L = zeros(4,4);\n",
    "\n",
    "A1 = A;\n",
    "U(1,:) = A1(1,:)\n",
    "L(:,1) = A1(:,1)/U(1,1)"
   ]
  },
  {
   "cell_type": "markdown",
   "metadata": {},
   "source": [
    "You might be thinking that maybe $A$ is singular, so we're off the hook. But that is not the case."
   ]
  },
  {
   "cell_type": "code",
   "execution_count": 10,
   "metadata": {},
   "outputs": [
    {
     "name": "stdout",
     "output_type": "stream",
     "text": [
      "\n",
      "ans =\n",
      "\n",
      "   25.4535\n",
      "   11.2648\n",
      "    5.2987\n",
      "    3.1857\n",
      "\n"
     ]
    }
   ],
   "source": [
    "svd(A)"
   ]
  },
  {
   "cell_type": "markdown",
   "metadata": {},
   "source": [
    "However, there's a part of standard Gaussian elimination we have not yet used: swapping rows of the matrix. In a linear system of equations, this leaves the solution unchanged. By swapping rows to put a nonzero in the \"pivot\" location $(k,k)$ of $A_k$, the algorithm may continue. \n",
    "\n",
    "We'll look at this a little differently. Rather than trying to zero out the first row and first column with $\\ell_1 u_1^*$, we will chose a different row, which we denote by $i_1$. We will also change the old structural requirements \n",
    "\n",
    "$$L_{11} = 1, \\quad L_{12}=L_{13}=\\cdots=L_{1m}=0,$$ \n",
    "\n",
    "to hold for row $i_1$ rather than row 1. So now \n",
    "\n",
    "$$e_{i_1}^* A_1 = \\sum_{k=1}^m (e_{i_1}^* \\ell_k) u_k^* = u_1^*,$$\n",
    "\n",
    "which as before gives a way to extract $u_1^*$. But now $U_{11}$ is the $(i_1,1)$ element of $A$. If we can't find an $i_1$ such that this is nonzero, then the entire first column of $A$ is zero, and this *would* imply that $A$ is singular. Otherwise, we have $A_1 e_1=U_{11}\\ell_1$ exactly as before, and we know that we can compute $\\ell_1$. \n",
    "\n",
    "This is a lot less daunting than the formalism makes it sound. First, we use the maximum element in column 1 to select $i_1$ (more on this later). "
   ]
  },
  {
   "cell_type": "code",
   "execution_count": 11,
   "metadata": {},
   "outputs": [
    {
     "name": "stdout",
     "output_type": "stream",
     "text": [
      "\n",
      "i =\n",
      "\n",
      "     2\n",
      "     0\n",
      "     0\n",
      "     0\n",
      "\n"
     ]
    }
   ],
   "source": [
    "i = zeros(4,1);\n",
    "[~,i(1)] = max(abs(A1(:,1)))"
   ]
  },
  {
   "cell_type": "markdown",
   "metadata": {},
   "source": [
    "So we are targeting row 2 and column 1 to zero out. "
   ]
  },
  {
   "cell_type": "code",
   "execution_count": 12,
   "metadata": {},
   "outputs": [
    {
     "name": "stdout",
     "output_type": "stream",
     "text": [
      "\n",
      "U =\n",
      "\n",
      "    10     1    10     5\n",
      "     0     0     0     0\n",
      "     0     0     0     0\n",
      "     0     0     0     0\n",
      "\n",
      "\n",
      "L =\n",
      "\n",
      "         0         0         0         0\n",
      "    1.0000         0         0         0\n",
      "    0.2000         0         0         0\n",
      "    1.0000         0         0         0\n",
      "\n"
     ]
    }
   ],
   "source": [
    "U(1,:) = A1(i(1),:)\n",
    "L(:,1) = A1(:,1)/U(1,1)"
   ]
  },
  {
   "cell_type": "code",
   "execution_count": 13,
   "metadata": {},
   "outputs": [
    {
     "name": "stdout",
     "output_type": "stream",
     "text": [
      "\n",
      "A2 =\n",
      "\n",
      "         0    7.0000   10.0000   10.0000\n",
      "         0         0         0         0\n",
      "         0    2.8000         0    8.0000\n",
      "         0    5.0000         0   -3.0000\n",
      "\n"
     ]
    }
   ],
   "source": [
    "A2 = A1 - L(:,1)*U(1,:)"
   ]
  },
  {
   "cell_type": "markdown",
   "metadata": {},
   "source": [
    "Now we select a new row $i_2$ with a nonzero pivot in column 2."
   ]
  },
  {
   "cell_type": "code",
   "execution_count": 14,
   "metadata": {},
   "outputs": [
    {
     "name": "stdout",
     "output_type": "stream",
     "text": [
      "\n",
      "i =\n",
      "\n",
      "     2\n",
      "     1\n",
      "     0\n",
      "     0\n",
      "\n"
     ]
    }
   ],
   "source": [
    "[~,i(2)] = max(abs(A2(:,2)))"
   ]
  },
  {
   "cell_type": "markdown",
   "metadata": {},
   "source": [
    "Now we want $e_{i_2}^*A_2=u_2^*$. This happens if we require\n",
    "\n",
    "$$L_{i_2,2} = 1, \\quad L_{i_2,3}=\\cdots=L_{i_2,m}=0.$$ \n",
    "\n",
    "(Note that $L_{i_2,1}$ was previously determined.) "
   ]
  },
  {
   "cell_type": "code",
   "execution_count": 15,
   "metadata": {},
   "outputs": [
    {
     "name": "stdout",
     "output_type": "stream",
     "text": [
      "\n",
      "U =\n",
      "\n",
      "    10     1    10     5\n",
      "     0     7    10    10\n",
      "     0     0     0     0\n",
      "     0     0     0     0\n",
      "\n",
      "\n",
      "L =\n",
      "\n",
      "         0    1.0000         0         0\n",
      "    1.0000         0         0         0\n",
      "    0.2000    0.4000         0         0\n",
      "    1.0000    0.7143         0         0\n",
      "\n"
     ]
    }
   ],
   "source": [
    "U(2,:) = A2(i(2),:)\n",
    "L(:,2) = A2(:,2)/U(2,2)"
   ]
  },
  {
   "cell_type": "code",
   "execution_count": 16,
   "metadata": {},
   "outputs": [
    {
     "name": "stdout",
     "output_type": "stream",
     "text": [
      "\n",
      "A3 =\n",
      "\n",
      "         0         0         0         0\n",
      "         0         0         0         0\n",
      "         0         0   -4.0000    4.0000\n",
      "         0         0   -7.1429  -10.1429\n",
      "\n"
     ]
    }
   ],
   "source": [
    "A3 = A2 - L(:,2)*U(2,:)"
   ]
  },
  {
   "cell_type": "markdown",
   "metadata": {},
   "source": [
    "By now the pattern is clear. "
   ]
  },
  {
   "cell_type": "code",
   "execution_count": 17,
   "metadata": {},
   "outputs": [
    {
     "name": "stdout",
     "output_type": "stream",
     "text": [
      "\n",
      "i =\n",
      "\n",
      "     2\n",
      "     1\n",
      "     4\n",
      "     0\n",
      "\n",
      "\n",
      "U =\n",
      "\n",
      "   10.0000    1.0000   10.0000    5.0000\n",
      "         0    7.0000   10.0000   10.0000\n",
      "         0         0   -7.1429  -10.1429\n",
      "         0         0         0         0\n",
      "\n",
      "\n",
      "L =\n",
      "\n",
      "         0    1.0000         0         0\n",
      "    1.0000         0         0         0\n",
      "    0.2000    0.4000    0.5600         0\n",
      "    1.0000    0.7143    1.0000         0\n",
      "\n",
      "\n",
      "A4 =\n",
      "\n",
      "         0         0         0         0\n",
      "         0         0         0         0\n",
      "         0         0    0.0000    9.6800\n",
      "         0         0         0         0\n",
      "\n"
     ]
    }
   ],
   "source": [
    "[~,i(3)] = max(abs(A3(:,3)))\n",
    "U(3,:) = A3(i(3),:)\n",
    "L(:,3) = A3(:,3)/U(3,3)\n",
    "A4 = A3 - L(:,3)*U(3,:)"
   ]
  },
  {
   "cell_type": "code",
   "execution_count": 18,
   "metadata": {},
   "outputs": [
    {
     "name": "stdout",
     "output_type": "stream",
     "text": [
      "\n",
      "i =\n",
      "\n",
      "     2\n",
      "     1\n",
      "     4\n",
      "     3\n",
      "\n",
      "\n",
      "U =\n",
      "\n",
      "   10.0000    1.0000   10.0000    5.0000\n",
      "         0    7.0000   10.0000   10.0000\n",
      "         0         0   -7.1429  -10.1429\n",
      "         0         0    0.0000    9.6800\n",
      "\n",
      "\n",
      "L =\n",
      "\n",
      "         0    1.0000         0         0\n",
      "    1.0000         0         0         0\n",
      "    0.2000    0.4000    0.5600    1.0000\n",
      "    1.0000    0.7143    1.0000         0\n",
      "\n"
     ]
    }
   ],
   "source": [
    "[~,i(4)] = max(abs(A4(:,4)))\n",
    "U(4,:) = A4(i(4),:)\n",
    "L(:,4) = A4(:,4)/U(4,4)"
   ]
  },
  {
   "cell_type": "markdown",
   "metadata": {},
   "source": [
    "Indeed, we did again get a factorization of $A$."
   ]
  },
  {
   "cell_type": "code",
   "execution_count": 19,
   "metadata": {},
   "outputs": [
    {
     "name": "stdout",
     "output_type": "stream",
     "text": [
      "\n",
      "ans =\n",
      "\n",
      "   8.8818e-16\n",
      "\n"
     ]
    }
   ],
   "source": [
    "norm(A-L*U)"
   ]
  },
  {
   "cell_type": "markdown",
   "metadata": {},
   "source": [
    "But what sort of factorization is it? "
   ]
  },
  {
   "cell_type": "markdown",
   "metadata": {},
   "source": [
    "Just as before, $U$ is upper triangular. But $L$ is not triangular. However, think about the structural conditions imposed during the algorithm:\n",
    "\n",
    "$$L_{i_1,1} = 1, \\quad L_{1_1,2}=\\cdots=L_{i_1,m}=0,$$ \n",
    "\n",
    "$$L_{i_2,2} = 1, \\quad L_{1_2,3}=\\cdots=L_{i_2,m}=0,$$ \n",
    "\n",
    "down to $L_{i_m,i_m}=1$ in the last step. What this means is that if we take the rows of $L$ in the order $i_1,i_2,i_3,i_4$, then the result is again unit lower triangular! "
   ]
  },
  {
   "cell_type": "code",
   "execution_count": 20,
   "metadata": {},
   "outputs": [
    {
     "name": "stdout",
     "output_type": "stream",
     "text": [
      "\n",
      "ans =\n",
      "\n",
      "    1.0000         0         0         0\n",
      "         0    1.0000         0         0\n",
      "    1.0000    0.7143    1.0000         0\n",
      "    0.2000    0.4000    0.5600    1.0000\n",
      "\n"
     ]
    }
   ],
   "source": [
    "L(i,:)"
   ]
  },
  {
   "cell_type": "markdown",
   "metadata": {},
   "source": [
    "We can express this result using a permutation matrix as $PL$. Conventionally though, this truly triangular matrix is the one we call $L$, and the one produced directly by the algorithm is $P^{-1}L=P^TL$. Since $A=P^TLU$, this implies that $PA=LU$. This is the **row-pivoted LU factorization** (or partially pivoted factorization, or $P^TLU$ factorization). "
   ]
  },
  {
   "cell_type": "markdown",
   "metadata": {},
   "source": [
    "## Linear systems\n",
    "\n",
    "The system $Ax=b$ is equivalent to $PAx=Pb$, or $L(Ux)=Pb$. We do a forward substitution using a permnuted form of $b$, then a backward substitution using that result. (In practice we wouldn't move data around in memory, but just index the vector indirectly in the correct order.) "
   ]
  },
  {
   "cell_type": "code",
   "execution_count": 21,
   "metadata": {},
   "outputs": [
    {
     "name": "stdout",
     "output_type": "stream",
     "text": [
      "\n",
      "x =\n",
      "\n",
      "    1.0000\n",
      "    1.0000\n",
      "    1.0000\n",
      "    1.0000\n",
      "\n"
     ]
    }
   ],
   "source": [
    "xact = ones(4,1);  b = A*xact;\n",
    "\n",
    "Pb = b(i); \n",
    "x = U\\(L(i,:)\\Pb)"
   ]
  },
  {
   "cell_type": "markdown",
   "metadata": {},
   "source": [
    "The built-in `lu` returns a factorization two different ways. With two outputs, we get the \"psychologically lower triangular\" matrix $P^TL$, plus $U$. "
   ]
  },
  {
   "cell_type": "code",
   "execution_count": 22,
   "metadata": {},
   "outputs": [
    {
     "name": "stdout",
     "output_type": "stream",
     "text": [
      "\n",
      "L =\n",
      "\n",
      "         0    1.0000         0         0\n",
      "    1.0000         0         0         0\n",
      "    0.2000    0.4000    0.5600    1.0000\n",
      "    1.0000    0.7143    1.0000         0\n",
      "\n",
      "\n",
      "U =\n",
      "\n",
      "   10.0000    1.0000   10.0000    5.0000\n",
      "         0    7.0000   10.0000   10.0000\n",
      "         0         0   -7.1429  -10.1429\n",
      "         0         0         0    9.6800\n",
      "\n"
     ]
    }
   ],
   "source": [
    "[L,U] = lu(A)"
   ]
  },
  {
   "cell_type": "markdown",
   "metadata": {},
   "source": [
    "With a third output, we get the purely triangular $L$, and the permutation matrix $P$. "
   ]
  },
  {
   "cell_type": "code",
   "execution_count": 23,
   "metadata": {},
   "outputs": [
    {
     "name": "stdout",
     "output_type": "stream",
     "text": [
      "\n",
      "L =\n",
      "\n",
      "    1.0000         0         0         0\n",
      "         0    1.0000         0         0\n",
      "    1.0000    0.7143    1.0000         0\n",
      "    0.2000    0.4000    0.5600    1.0000\n",
      "\n",
      "\n",
      "U =\n",
      "\n",
      "   10.0000    1.0000   10.0000    5.0000\n",
      "         0    7.0000   10.0000   10.0000\n",
      "         0         0   -7.1429  -10.1429\n",
      "         0         0         0    9.6800\n",
      "\n",
      "\n",
      "p =\n",
      "\n",
      "     0     1     0     0\n",
      "     1     0     0     0\n",
      "     0     0     0     1\n",
      "     0     0     1     0\n",
      "\n"
     ]
    }
   ],
   "source": [
    "[L,U,p] = lu(A)"
   ]
  }
 ],
 "metadata": {
  "kernelspec": {
   "display_name": "Matlab",
   "language": "matlab",
   "name": "matlab"
  },
  "language_info": {
   "codemirror_mode": "octave",
   "file_extension": ".m",
   "help_links": [
    {
     "text": "MetaKernel Magics",
     "url": "https://github.com/calysto/metakernel/blob/master/metakernel/magics/README.md"
    }
   ],
   "mimetype": "text/x-octave",
   "name": "matlab",
   "version": "0.15.1"
  }
 },
 "nbformat": 4,
 "nbformat_minor": 2
}
