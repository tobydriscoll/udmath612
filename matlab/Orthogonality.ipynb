{
 "cells": [
  {
   "cell_type": "markdown",
   "metadata": {},
   "source": [
    "# Orthogonality"
   ]
  },
  {
   "cell_type": "markdown",
   "metadata": {},
   "source": [
    "Mathematically, we know that a basis in $m$-dimensional space is any collection of $m$ independent vectors. In that sense, all bases are alike. But some bases behave a little more simply than others. \n",
    "\n",
    "For example, here are two nonsingular matrices. Each one has columns that form a basis of $\\mathbb{R}^2$."
   ]
  },
  {
   "cell_type": "code",
   "execution_count": 1,
   "metadata": {},
   "outputs": [
    {
     "name": "stdout",
     "output_type": "stream",
     "text": [
      "\n",
      "A =\n",
      "\n",
      "     1     0\n",
      "     0     1\n",
      "\n"
     ]
    }
   ],
   "source": [
    "A = [ 1 0; 0 1 ]"
   ]
  },
  {
   "cell_type": "code",
   "execution_count": 2,
   "metadata": {},
   "outputs": [
    {
     "name": "stdout",
     "output_type": "stream",
     "text": [
      "\n",
      "B =\n",
      "\n",
      "    1.0000    1.0000\n",
      "         0    0.0000\n",
      "\n"
     ]
    }
   ],
   "source": [
    "B = [1 1;0 1e-10 ]"
   ]
  },
  {
   "cell_type": "markdown",
   "metadata": {},
   "source": [
    "If we pick a vector on the unit circle and express it in the $A$-basis, nothing happens, as this is the standard basis. "
   ]
  },
  {
   "cell_type": "code",
   "execution_count": 3,
   "metadata": {},
   "outputs": [
    {
     "name": "stdout",
     "output_type": "stream",
     "text": [
      "\n",
      "x =\n",
      "\n",
      "   0.809016994374947\n",
      "   0.587785252292473\n",
      "\n"
     ]
    }
   ],
   "source": [
    "format long, theta = pi/5; x = [cos(theta);sin(theta)]"
   ]
  },
  {
   "cell_type": "code",
   "execution_count": 4,
   "metadata": {},
   "outputs": [
    {
     "name": "stdout",
     "output_type": "stream",
     "text": [
      "\n",
      "ans =\n",
      "\n",
      "   0.809016994374947\n",
      "   0.587785252292473\n",
      "\n"
     ]
    }
   ],
   "source": [
    "inv(A)*x"
   ]
  },
  {
   "cell_type": "markdown",
   "metadata": {},
   "source": [
    "However, this same vector requires huge coefficients when expressed in the $B$-basis. "
   ]
  },
  {
   "cell_type": "code",
   "execution_count": 5,
   "metadata": {},
   "outputs": [
    {
     "name": "stdout",
     "output_type": "stream",
     "text": [
      "\n",
      "ans =\n",
      "\n",
      "   1.0e+09 *\n",
      "\n",
      "  -5.877852522115714\n",
      "   5.877852522924731\n",
      "\n"
     ]
    }
   ],
   "source": [
    "inv(B)*x"
   ]
  },
  {
   "cell_type": "markdown",
   "metadata": {},
   "source": [
    "This should give us pause. If we turn around and multiply by $B$ in order to get back to the original coordinates, we will be relying on subtraction of two large numbers to give a result close to 1. This is the classic recipe for numerical cancellation errors in finite precision arithmetic."
   ]
  },
  {
   "cell_type": "code",
   "execution_count": 6,
   "metadata": {},
   "outputs": [
    {
     "name": "stdout",
     "output_type": "stream",
     "text": [
      "\n",
      "ans =\n",
      "\n",
      "   0.809017181396484\n",
      "   0.587785252292473\n",
      "\n"
     ]
    }
   ],
   "source": [
    "B*ans"
   ]
  },
  {
   "cell_type": "code",
   "execution_count": 7,
   "metadata": {},
   "outputs": [
    {
     "name": "stdout",
     "output_type": "stream",
     "text": [
      "\n",
      "ans =\n",
      "\n",
      "   1.0e-06 *\n",
      "\n",
      "   0.187021536923737\n",
      "                   0\n",
      "\n"
     ]
    }
   ],
   "source": [
    "ans-x"
   ]
  },
  {
   "cell_type": "markdown",
   "metadata": {},
   "source": [
    "In an everyday sense this difference is \"small\", but it is about a billion times larger than the native precision of 16 digits. We usually want to avoid this situation in computation."
   ]
  },
  {
   "cell_type": "markdown",
   "metadata": {},
   "source": [
    "## Lengths and angles"
   ]
  },
  {
   "cell_type": "markdown",
   "metadata": {},
   "source": [
    "Using the Pythagorean theorem, we can compute the geometric \"length\" of a vector using the dot product of a vector with itself. (Note: In programming the \"length\" of a vector usually means the number of entries in the vector. We usually use *norm* for the geometric concept.)"
   ]
  },
  {
   "cell_type": "code",
   "execution_count": 8,
   "metadata": {},
   "outputs": [
    {
     "name": "stdout",
     "output_type": "stream",
     "text": [
      "\n",
      "x_dot_x =\n",
      "\n",
      "    70\n",
      "\n"
     ]
    }
   ],
   "source": [
    "x = [1.;8;-2;1];\n",
    "x_dot_x = dot(x,x)"
   ]
  },
  {
   "cell_type": "code",
   "execution_count": 9,
   "metadata": {},
   "outputs": [
    {
     "name": "stdout",
     "output_type": "stream",
     "text": [
      "\n",
      "ans =\n",
      "\n",
      "    70\n",
      "\n"
     ]
    }
   ],
   "source": [
    "norm(x)^2"
   ]
  },
  {
   "cell_type": "markdown",
   "metadata": {},
   "source": [
    "Dot products also allow us to define the angle between two vectors, generalizing the idea from vector calculus."
   ]
  },
  {
   "cell_type": "code",
   "execution_count": 10,
   "metadata": {},
   "outputs": [
    {
     "name": "stdout",
     "output_type": "stream",
     "text": [
      "\n",
      "theta =\n",
      "\n",
      "   1.675016190551446\n",
      "\n"
     ]
    }
   ],
   "source": [
    "y = [-1.;0;4;4];\n",
    "theta = acos( dot(x,y)/(norm(x)*norm(y)) )"
   ]
  },
  {
   "cell_type": "markdown",
   "metadata": {},
   "source": [
    "## Orthogonal vectors and matrices"
   ]
  },
  {
   "cell_type": "markdown",
   "metadata": {},
   "source": [
    "A pair of vectors is *orthogonal* if the angle between them is 90 degrees; i.e., their inner product is zero. An orthogonal pair $x,y$ has an important property: $\\|x+y\\|^2=\\|x\\|^2+\\|y\\|^2$."
   ]
  },
  {
   "cell_type": "code",
   "execution_count": 11,
   "metadata": {},
   "outputs": [
    {
     "name": "stdout",
     "output_type": "stream",
     "text": [
      "\n",
      "ans =\n",
      "\n",
      "     0\n",
      "\n"
     ]
    }
   ],
   "source": [
    "x = [1.;-1;2;2];  y = [3.;3;-1;1];\n",
    "dot(x,y)"
   ]
  },
  {
   "cell_type": "code",
   "execution_count": 12,
   "metadata": {},
   "outputs": [
    {
     "name": "stdout",
     "output_type": "stream",
     "text": [
      "\n",
      "ans =\n",
      "\n",
      "    -7.105427357601002e-15\n",
      "\n"
     ]
    }
   ],
   "source": [
    "norm(x+y)^2 - (norm(x)^2 + norm(y)^2)"
   ]
  },
  {
   "cell_type": "markdown",
   "metadata": {},
   "source": [
    "We say the vectors are *orthonormal* if they are orthogonal and both have 2-norm equal to 1. "
   ]
  },
  {
   "cell_type": "markdown",
   "metadata": {},
   "source": [
    "If a collection of vectors are all pairwise orthogonal, then the matrix of all their inner products is diagonal. Recall that the product $AB$ is the collection of all inner products between rows of $A$ and columns of $B$. So we make these vectors columns of a matrix $Q$ and get"
   ]
  },
  {
   "cell_type": "code",
   "execution_count": 13,
   "metadata": {},
   "outputs": [
    {
     "name": "stdout",
     "output_type": "stream",
     "text": [
      "\n",
      "Q =\n",
      "\n",
      "   1.0000e+00   1.2800e+00   8.2996e-01\n",
      "   8.4379e-01   1.0000e+00   1.0000e+00\n",
      "   3.8508e-01  -3.7134e+00  -1.7554e+00\n",
      "   1.1539e+00  -5.6010e-01  -1.1596e+00\n",
      "   4.1831e-02  -1.1347e+00   8.1348e+00\n",
      "\n"
     ]
    }
   ],
   "source": [
    "format short e\n",
    "Q = [\n",
    "    [1;0.843793815631381;0.385082841103097;1.153941363055059;0.041831019534880],...\n",
    "    [1.279954581538459;1;-3.713389640445241;-0.560099231434212;-1.134662608390795],...\n",
    "    [0.829958945764782;1;-1.755401660923549;-1.159560882513616;8.134813986513553]\n",
    "    ]"
   ]
  },
  {
   "cell_type": "code",
   "execution_count": 14,
   "metadata": {},
   "outputs": [
    {
     "name": "stdout",
     "output_type": "stream",
     "text": [
      "\n",
      "ans =\n",
      "\n",
      "   3.1936e+00   5.9305e-17   1.6076e-15\n",
      "   5.9305e-17   1.8029e+01   2.8245e-15\n",
      "   1.6076e-15   2.8245e-15   7.2290e+01\n",
      "\n"
     ]
    }
   ],
   "source": [
    "Q'*Q"
   ]
  },
  {
   "cell_type": "markdown",
   "metadata": {},
   "source": [
    "If moreover the columns are not just orthogonal but orthonormal, then $Q^TQ=I$.\n",
    "\n",
    "We now bring things back to bases. An \"ideal basis\" is one that is orthonormal. If we collect such a basis into the matrix $Q$, then $Q$ is called an *orthogonal matrix*. In this case, $Q$ is square and $Q^TQ=I$, i.e., $Q^{-1}=Q^T$. "
   ]
  },
  {
   "cell_type": "markdown",
   "metadata": {},
   "source": [
    "## Geometry in $\\mathbb{R}^2$ and orthogonal matrices"
   ]
  },
  {
   "cell_type": "markdown",
   "metadata": {},
   "source": [
    "In two dimensions, the orthogonal matrices represent rotations,"
   ]
  },
  {
   "cell_type": "code",
   "execution_count": 15,
   "metadata": {},
   "outputs": [
    {
     "name": "stdout",
     "output_type": "stream",
     "text": [
      "\n",
      "R =\n",
      "\n",
      "   3.0902e-01  -9.5106e-01\n",
      "   9.5106e-01   3.0902e-01\n",
      "\n"
     ]
    }
   ],
   "source": [
    "rot = @(theta) [ cos(theta) -sin(theta); sin(theta) cos(theta) ];\n",
    "R = rot(2*pi/5)"
   ]
  },
  {
   "cell_type": "markdown",
   "metadata": {},
   "source": [
    "and reflections,"
   ]
  },
  {
   "cell_type": "code",
   "execution_count": 16,
   "metadata": {},
   "outputs": [
    {
     "name": "stdout",
     "output_type": "stream",
     "text": [
      "\n",
      "F =\n",
      "\n",
      "   8.0902e-01  -5.8779e-01\n",
      "  -5.8779e-01  -8.0902e-01\n",
      "\n"
     ]
    }
   ],
   "source": [
    "refl = @(theta) eye(2) - 2*[cos(theta);sin(theta)]*[cos(theta) sin(theta)];\n",
    "F = refl(2*pi/5)"
   ]
  },
  {
   "cell_type": "code",
   "execution_count": 17,
   "metadata": {},
   "outputs": [
    {
     "name": "stdout",
     "output_type": "stream",
     "text": [
      "\n",
      "ans =\n",
      "\n",
      "  -1.1102e-16   9.2144e-18\n",
      "   9.2144e-18  -1.1102e-16\n",
      "\n"
     ]
    }
   ],
   "source": [
    "R'*R-eye(2)"
   ]
  },
  {
   "cell_type": "code",
   "execution_count": 18,
   "metadata": {},
   "outputs": [
    {
     "name": "stdout",
     "output_type": "stream",
     "text": [
      "\n",
      "ans =\n",
      "\n",
      "            0  -1.4317e-16\n",
      "  -1.4317e-16  -3.3307e-16\n",
      "\n"
     ]
    }
   ],
   "source": [
    "F'*F-eye(2)"
   ]
  },
  {
   "cell_type": "code",
   "execution_count": 19,
   "metadata": {},
   "outputs": [
    {
     "data": {
      "image/png": "[encoded data removed]",
      "text/plain": [
       "<IPython.core.display.Image object>"
      ]
     },
     "metadata": {},
     "output_type": "display_data"
    }
   ],
   "source": [
    "theta = linspace(0,2*pi,800)';\n",
    "r = cos(3*theta)+3*sin(theta)+1;\n",
    "x = r.*cos(theta); y = r.*sin(theta);\n",
    "plot(x,y,\"-\");\n",
    "hold on, plot(0,0,\"ko\");\n",
    "axis equal"
   ]
  },
  {
   "cell_type": "code",
   "execution_count": 20,
   "metadata": {},
   "outputs": [
    {
     "data": {
      "image/png": "[encoded data removed]",
      "text/plain": [
       "<IPython.core.display.Image object>"
      ]
     },
     "metadata": {},
     "output_type": "display_data"
    }
   ],
   "source": [
    "u=[x';y']; Ru=R*u; \n",
    "\n",
    "plot(x,y,\"-\");\n",
    "hold on, plot(0,0,\"ko\");\n",
    "plot(Ru(1,:),Ru(2,:),\"-\")\n",
    "axis equal"
   ]
  },
  {
   "cell_type": "code",
   "execution_count": 21,
   "metadata": {},
   "outputs": [
    {
     "data": {
      "image/png": "[encoded data removed]",
      "text/plain": [
       "<IPython.core.display.Image object>"
      ]
     },
     "metadata": {},
     "output_type": "display_data"
    }
   ],
   "source": [
    "u=[x';y']; Fu=F*u; \n",
    "\n",
    "plot(x,y,\"-\");\n",
    "hold on, plot(0,0,\"ko\");\n",
    "plot(Fu(1,:),Fu(2,:),\"-\")\n",
    "axis equal"
   ]
  },
  {
   "cell_type": "markdown",
   "metadata": {},
   "source": [
    "## Complex values"
   ]
  },
  {
   "cell_type": "markdown",
   "metadata": {},
   "source": [
    "For complex matrices we usually deal with the conjugate transpose, or *hermitian*, of the matrix, and use a \\* superscript for it. We will be working with complex matrices a fair amount; often it's easiest to make statements for them and then specialize to real matrices by replacing \\* with transpose. \n",
    "\n",
    "Note that the dot product includes complex conjugation on the first argument."
   ]
  },
  {
   "cell_type": "code",
   "execution_count": 22,
   "metadata": {},
   "outputs": [
    {
     "name": "stdout",
     "output_type": "stream",
     "text": [
      "\n",
      "ans =\n",
      "\n",
      "   0.0000e+00 - 1.0000e+00i\n",
      "\n"
     ]
    }
   ],
   "source": [
    "dot([1i],[1])"
   ]
  },
  {
   "cell_type": "code",
   "execution_count": 23,
   "metadata": {},
   "outputs": [
    {
     "name": "stdout",
     "output_type": "stream",
     "text": [
      "\n",
      "ans =\n",
      "\n",
      "   0.0000e+00 + 1.0000e+00i\n",
      "\n"
     ]
    }
   ],
   "source": [
    "dot([1],[1i])"
   ]
  },
  {
   "cell_type": "markdown",
   "metadata": {},
   "source": [
    "A complex square matrix $U$ for which $U^{-1}=U^*$ (i.e., columns are an orthonormal basis in $\\mathbb{C}^m$) is called *unitary*."
   ]
  }
 ],
 "metadata": {
  "kernelspec": {
   "display_name": "Matlab",
   "language": "matlab",
   "name": "matlab"
  },
  "language_info": {
   "codemirror_mode": "octave",
   "file_extension": ".m",
   "help_links": [
    {
     "text": "MetaKernel Magics",
     "url": "https://github.com/calysto/metakernel/blob/master/metakernel/magics/README.md"
    }
   ],
   "mimetype": "text/x-octave",
   "name": "matlab",
   "version": "0.15.1"
  }
 },
 "nbformat": 4,
 "nbformat_minor": 2
}
