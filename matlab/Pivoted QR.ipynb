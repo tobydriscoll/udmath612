{
 "cells": [
  {
   "cell_type": "markdown",
   "metadata": {},
   "source": [
    "# Pivoted QR\n",
    "\n",
    "Here's another look at our modified Gram-Schmidt algorithm for QR."
   ]
  },
  {
   "cell_type": "code",
   "execution_count": 1,
   "metadata": {},
   "outputs": [
    {
     "name": "stdout",
     "output_type": "stream",
     "text": [
      "\n",
      "function [Q,R] = mgs(A)\n",
      "    [m,n] = size(A);\n",
      "    Q = zeros(m,n);\n",
      "    R = zeros(n,n);\n",
      "    for k = 1:n\n",
      "        R(k,k) = norm(A(:,k));\n",
      "        Q(:,k) = A(:,k)/R(k,k);\n",
      "        for j = k+1:n\n",
      "            R(k,j) = Q(:,k)'*A(:,j);\n",
      "        end\n",
      "        A = A - Q(:,k)*R(k,:);\n",
      "    end\n",
      "end\n"
     ]
    }
   ],
   "source": [
    "type mgs"
   ]
  },
  {
   "cell_type": "markdown",
   "metadata": {},
   "source": [
    "It's apparent that something bad happens if for some $k$, $R_{kk}=0$. In terms of $A=QR$, one interpretation of this event is that the columns $a_1,\\ldots,a_k$ all lie in the span of $q_1,\\ldots,q_{k-1}$. This implies a defect in the dimension of the column space; i.e., the rank of $A$ is less than $n$. \n",
    "\n",
    "In machine arithmetic, which is inexact for most numbers, it's rare for something to be exactly zero. But the behavior is often about as bad for \"near zero\" as for zero itself. Let's set out to avoid this situation by replacing $R_{kk}$ with whatever is as large as possible, in context.\n",
    "\n",
    "Again considering $A = \\sum_{k=1}^n q_k r_k^T$, define $A_j=\\sum_{k=j}^n q_k r_k^T$. The MGS algorithm starts off by noting \n",
    "\n",
    "$$Ae_1=A_1e_1 = \\sum_{k=1}^n q_k (r_k^Te_1) = R_{11}q_1,$$\n",
    "\n",
    "where to simplify the sum we applied the upper triangular structure of $R$, specifically, $R_{21}=\\cdots=R_{m1}=0$. This formula is used immediately to compute $R_{11}$, then $q_1$, both from the first column $A_1e_1$.\n",
    "\n",
    "But if $R_{11}$ is zero (or small), this creates a problem. So instead suppose that we use the column of $A$ that produces the largest possible value. That is, let \n",
    "\n",
    "$$j_1 = \\text{argmax}_k \\| A_1 e_k \\|_2,$$\n",
    "\n",
    "and then replace the triangular requirement with \n",
    "\n",
    "$$R_{2,j_1}=\\cdots=R_{m,j_1}=0.$$\n",
    "\n",
    "This creates $A_1 e_{j_1}=R_{1,j_1}q_{1}$, from which we get $R_{1,j_1}$ and then $q_{1}$. Furthermore, $q_{1}^TA_1=r_{1}^T$, just as before, allowing us to fill out the rest of the first row of $R$. \n",
    "\n",
    "For example,"
   ]
  },
  {
   "cell_type": "code",
   "execution_count": 2,
   "metadata": {},
   "outputs": [
    {
     "name": "stdout",
     "output_type": "stream",
     "text": [
      "\n",
      "A =\n",
      "\n",
      "     8     3     9\n",
      "     9     5     5\n",
      "     2     9     8\n",
      "     9     9     2\n",
      "     6     2     4\n",
      "     1     9     9\n",
      "\n"
     ]
    }
   ],
   "source": [
    "Q = zeros(6,3);\n",
    "R = zeros(3,3);\n",
    "A = randi(9,6,3)"
   ]
  },
  {
   "cell_type": "code",
   "execution_count": 3,
   "metadata": {},
   "outputs": [
    {
     "name": "stdout",
     "output_type": "stream",
     "text": [
      "\n",
      "c =\n",
      "\n",
      "   16.3401   16.7631   16.4621\n",
      "\n"
     ]
    }
   ],
   "source": [
    "A1 = A;\n",
    "c = sqrt( sum(A1.^2,1) )"
   ]
  },
  {
   "cell_type": "code",
   "execution_count": 4,
   "metadata": {},
   "outputs": [
    {
     "name": "stdout",
     "output_type": "stream",
     "text": [
      "\n",
      "cmax =\n",
      "\n",
      "   16.7631\n",
      "\n",
      "\n",
      "j =\n",
      "\n",
      "     2\n",
      "     0\n",
      "     0\n",
      "\n"
     ]
    }
   ],
   "source": [
    "j = zeros(3,1);\n",
    "[cmax,j(1)] = max(c)"
   ]
  },
  {
   "cell_type": "code",
   "execution_count": 5,
   "metadata": {},
   "outputs": [
    {
     "name": "stdout",
     "output_type": "stream",
     "text": [
      "\n",
      "R =\n",
      "\n",
      "         0   16.7631         0\n",
      "         0         0         0\n",
      "         0         0         0\n",
      "\n"
     ]
    }
   ],
   "source": [
    "R(1,j(1)) = cmax"
   ]
  },
  {
   "cell_type": "code",
   "execution_count": 6,
   "metadata": {},
   "outputs": [
    {
     "name": "stdout",
     "output_type": "stream",
     "text": [
      "\n",
      "R =\n",
      "\n",
      "   11.2748   16.7631   13.7803\n",
      "         0         0         0\n",
      "         0         0         0\n",
      "\n"
     ]
    }
   ],
   "source": [
    "Q(:,1) = A1(:,j(1))/R(1,j(1));\n",
    "cols = true(3,1);\n",
    "cols(j(1)) = false;\n",
    "R(1,cols) = Q(:,1)'*A1(:,cols)"
   ]
  },
  {
   "cell_type": "markdown",
   "metadata": {},
   "source": [
    "By our definitions, $A_2=A_1-q_1r_1^T$."
   ]
  },
  {
   "cell_type": "code",
   "execution_count": 8,
   "metadata": {},
   "outputs": [
    {
     "name": "stdout",
     "output_type": "stream",
     "text": [
      "\n",
      "A2 =\n",
      "\n",
      "    5.9822    0.0000    6.5338\n",
      "    5.6370         0    0.8897\n",
      "   -4.0534         0    0.6014\n",
      "    2.9466         0   -5.3986\n",
      "    4.6548         0    2.3559\n",
      "   -5.0534         0    1.6014\n",
      "\n"
     ]
    }
   ],
   "source": [
    "A2 = A1 - Q(:,1)*R(1,:)"
   ]
  },
  {
   "cell_type": "markdown",
   "metadata": {},
   "source": [
    "Note that we have zeroed out the third column. In fact, we're not going to touch that column of $R$ any more (since doing so would wreck the quasi-triangularity we set up). Instead, we choose the next column like we did at the start."
   ]
  },
  {
   "cell_type": "code",
   "execution_count": 9,
   "metadata": {},
   "outputs": [
    {
     "name": "stdout",
     "output_type": "stream",
     "text": [
      "\n",
      "cmax =\n",
      "\n",
      "   11.8270\n",
      "\n",
      "\n",
      "j =\n",
      "\n",
      "     2\n",
      "     1\n",
      "     0\n",
      "\n"
     ]
    }
   ],
   "source": [
    "c = sqrt( sum(A2.^2,1) );\n",
    "[cmax,j(2)] = max(c)"
   ]
  },
  {
   "cell_type": "markdown",
   "metadata": {},
   "source": [
    "Now the game is to set $R_{k,j_2}=0$ for all $k>2$. Doing so means that \n",
    "\n",
    "$$A_2 e_{j_2}=\\sum_{k=2}^m q_k (r_k^Te_{j_2}) =  R_{2,j_2}q_2.$$\n",
    "\n",
    "And then also $q_2^T A_2=r_2^T$. "
   ]
  },
  {
   "cell_type": "code",
   "execution_count": 10,
   "metadata": {},
   "outputs": [
    {
     "name": "stdout",
     "output_type": "stream",
     "text": [
      "\n",
      "R =\n",
      "\n",
      "   11.2748   16.7631   13.7803\n",
      "   11.8270         0         0\n",
      "         0         0         0\n",
      "\n",
      "\n",
      "R =\n",
      "\n",
      "   11.2748   16.7631   13.7803\n",
      "   11.8270         0    2.4207\n",
      "         0         0         0\n",
      "\n"
     ]
    }
   ],
   "source": [
    "R(2,j(2)) = cmax\n",
    "Q(:,2) = A2(:,j(2))/R(2,j(2));\n",
    "cols(j(2)) = false;\n",
    "R(2,cols) = Q(:,2)'*A2(:,cols)"
   ]
  },
  {
   "cell_type": "markdown",
   "metadata": {},
   "source": [
    "So we have $A_3=A_2-q_2r_2^T$:"
   ]
  },
  {
   "cell_type": "code",
   "execution_count": 11,
   "metadata": {},
   "outputs": [
    {
     "name": "stdout",
     "output_type": "stream",
     "text": [
      "\n",
      "A3 =\n",
      "\n",
      "         0    0.0000    5.3094\n",
      "         0         0   -0.2641\n",
      "         0         0    1.4311\n",
      "         0         0   -6.0017\n",
      "         0         0    1.4031\n",
      "         0         0    2.6357\n",
      "\n"
     ]
    }
   ],
   "source": [
    "A3 = A2 - Q(:,2)*R(2,:)"
   ]
  },
  {
   "cell_type": "markdown",
   "metadata": {},
   "source": [
    "Another column zeroed out! Etc."
   ]
  },
  {
   "cell_type": "code",
   "execution_count": 12,
   "metadata": {},
   "outputs": [
    {
     "name": "stdout",
     "output_type": "stream",
     "text": [
      "\n",
      "cmax =\n",
      "\n",
      "    8.6743\n",
      "\n",
      "\n",
      "j =\n",
      "\n",
      "     2\n",
      "     1\n",
      "     3\n",
      "\n"
     ]
    }
   ],
   "source": [
    "c = sqrt( sum(A3.^2,1) );\n",
    "[cmax,j(3)] = max(c)"
   ]
  },
  {
   "cell_type": "code",
   "execution_count": 13,
   "metadata": {},
   "outputs": [
    {
     "name": "stdout",
     "output_type": "stream",
     "text": [
      "\n",
      "R =\n",
      "\n",
      "   11.2748   16.7631   13.7803\n",
      "   11.8270         0    2.4207\n",
      "         0         0    8.6743\n",
      "\n"
     ]
    }
   ],
   "source": [
    "R(3,j(3)) = cmax\n",
    "Q(:,3) = A3(:,j(3))/R(3,j(3));"
   ]
  },
  {
   "cell_type": "markdown",
   "metadata": {},
   "source": [
    "So now we have a factorization..."
   ]
  },
  {
   "cell_type": "code",
   "execution_count": 14,
   "metadata": {},
   "outputs": [
    {
     "name": "stdout",
     "output_type": "stream",
     "text": [
      "\n",
      "ans =\n",
      "\n",
      "   1.8812e-15\n",
      "\n"
     ]
    }
   ],
   "source": [
    "norm(A-Q*R)"
   ]
  },
  {
   "cell_type": "markdown",
   "metadata": {},
   "source": [
    "...but $R$ is no longer upper triangular. However, it's virtually so. In column $j_1$ we enforced zero below row 1, in column $j_2$ we enforced zero below row 2, and so on. So if we take the columns in order $j_1,\\ldots,j_m$, the triangularity is restored."
   ]
  },
  {
   "cell_type": "code",
   "execution_count": 15,
   "metadata": {},
   "outputs": [
    {
     "name": "stdout",
     "output_type": "stream",
     "text": [
      "\n",
      "ans =\n",
      "\n",
      "   16.7631   11.2748   13.7803\n",
      "         0   11.8270    2.4207\n",
      "         0         0    8.6743\n",
      "\n"
     ]
    }
   ],
   "source": [
    "R(:,j)"
   ]
  },
  {
   "cell_type": "markdown",
   "metadata": {},
   "source": [
    "This reordering might be expressed using right-multiplication by a permutation matrix $P$. In fact, we might say $RP = U$ for a truly triangular $U$, or $A=QUP^{-1}$. However, it's customary to put the permutation next to $A$ and continue using $R$ to mean a truly upper triangular matrix: $AP=QR$. This is a **pivoted QR factorization**. "
   ]
  },
  {
   "cell_type": "markdown",
   "metadata": {},
   "source": [
    "I'm not going to put a complete algorithm here. In practice one doesn't use MGS for this anyway, and there are some further efficiencies I've skipped. \n",
    "\n",
    "The default in MATLAB is to get an *unpivoted* QR."
   ]
  },
  {
   "cell_type": "code",
   "execution_count": 17,
   "metadata": {},
   "outputs": [
    {
     "name": "stdout",
     "output_type": "stream",
     "text": [
      "\n",
      "R =\n",
      "\n",
      "  -16.3401  -11.5666  -11.2606\n",
      "         0   12.1332    8.3039\n",
      "         0         0    8.6743\n",
      "\n"
     ]
    }
   ],
   "source": [
    "[Q,R] = qr(A,0);\n",
    "R"
   ]
  },
  {
   "cell_type": "markdown",
   "metadata": {},
   "source": [
    "However, you can request the pivoted form."
   ]
  },
  {
   "cell_type": "code",
   "execution_count": 18,
   "metadata": {},
   "outputs": [
    {
     "name": "stdout",
     "output_type": "stream",
     "text": [
      "\n",
      "R =\n",
      "\n",
      "  -16.7631  -11.2748  -13.7803\n",
      "         0  -11.8270   -2.4207\n",
      "         0         0    8.6743\n",
      "\n"
     ]
    }
   ],
   "source": [
    "[Q,R,P] = qr(A,0);\n",
    "R"
   ]
  },
  {
   "cell_type": "markdown",
   "metadata": {},
   "source": [
    "This is the same as ours (up to arbitrary signs). The permutation is the third output."
   ]
  },
  {
   "cell_type": "code",
   "execution_count": 19,
   "metadata": {},
   "outputs": [
    {
     "name": "stdout",
     "output_type": "stream",
     "text": [
      "\n",
      "P =\n",
      "\n",
      "     2     1     3\n",
      "\n"
     ]
    }
   ],
   "source": [
    "P"
   ]
  }
 ],
 "metadata": {
  "kernelspec": {
   "display_name": "Matlab",
   "language": "matlab",
   "name": "matlab"
  },
  "language_info": {
   "codemirror_mode": "octave",
   "file_extension": ".m",
   "help_links": [
    {
     "text": "MetaKernel Magics",
     "url": "https://github.com/calysto/metakernel/blob/master/metakernel/magics/README.md"
    }
   ],
   "mimetype": "text/x-octave",
   "name": "matlab",
   "version": "0.15.1"
  }
 },
 "nbformat": 4,
 "nbformat_minor": 2
}
