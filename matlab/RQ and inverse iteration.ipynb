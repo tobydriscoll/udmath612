{
 "cells": [
  {
   "cell_type": "markdown",
   "metadata": {},
   "source": [
    "# Power/inverse iteration\n",
    "\n",
    "## Rayleigh quotient\n",
    "\n",
    "Suppose $A$ is $m\\times m$. We can define a function called the **Rayleigh quotient**,\n",
    "\n",
    "$$ r(v) = \\frac{v^*Av}{v^*v}, $$\n",
    "\n",
    "for all $v\\in\\mathbb{C}^m$. As shown in the text, if $A$ is hermitian then the eigenvectors of $A$ the stationary points of $r$. More specifically, if $v$ is close to an eigenvector $x$ with eigenvalue $\\lambda$, then \n",
    "\n",
    "$$ |r(v)-\\lambda| = O\\bigl( \\|v-x\\|_2 \\bigr) $$\n",
    "\n",
    "in general, and \n",
    "\n",
    "$$ |r(v)-\\lambda| = O\\bigl( \\|v-x\\|_2^2 \\bigr) $$\n",
    "\n",
    "if $A$ is hermitian. Thus we can turn an eigenvector estimate into an eigenvalue estimate, and in the hermitian case, the eigenvalue estimate is *much* more accurate than the eigenvector is. (It's like going from 3 digits to 6, for instance.)\n",
    "\n",
    "For example, let"
   ]
  },
  {
   "cell_type": "code",
   "execution_count": 1,
   "metadata": {
    "collapsed": false
   },
   "outputs": [
    {
     "name": "stdout",
     "output_type": "stream",
     "text": [
      "\n",
      "A =\n",
      "\n",
      "     2     1     1\n",
      "     1     3     1\n",
      "     1     1     4\n",
      "\n"
     ]
    }
   ],
   "source": [
    "A = [2 1 1; 1 3 1; 1 1 4]"
   ]
  },
  {
   "cell_type": "code",
   "execution_count": 2,
   "metadata": {},
   "outputs": [
    {
     "name": "stdout",
     "output_type": "stream",
     "text": [
      "\n",
      "lam =\n",
      "\n",
      "    1.3249\n",
      "    2.4608\n",
      "    5.2143\n",
      "\n"
     ]
    }
   ],
   "source": [
    "[X,D] = eig(A);\n",
    "lam = diag(D)"
   ]
  },
  {
   "cell_type": "code",
   "execution_count": 3,
   "metadata": {
    "collapsed": false
   },
   "outputs": [
    {
     "name": "stdout",
     "output_type": "stream",
     "text": [
      "\n",
      "X =\n",
      "\n",
      "    0.8877    0.2332    0.3971\n",
      "   -0.4271    0.7392    0.5207\n",
      "   -0.1721   -0.6318    0.7558\n",
      "\n"
     ]
    }
   ],
   "source": [
    "X"
   ]
  },
  {
   "cell_type": "markdown",
   "metadata": {},
   "source": [
    "The max of $r(v)$ is the third eigenvector of $A$ as computed above, and close to $(0.4,0.5,0.75)$. "
   ]
  },
  {
   "cell_type": "code",
   "execution_count": 10,
   "metadata": {
    "collapsed": false
   },
   "outputs": [
    {
     "name": "stdout",
     "output_type": "stream",
     "text": [
      "\n",
      "evec_err =\n",
      "\n",
      "    0.0216\n",
      "\n"
     ]
    }
   ],
   "source": [
    "x = X(:,3);  \n",
    "v = [0.4;0.5;0.75];\n",
    "evec_err = norm(x-v)"
   ]
  },
  {
   "cell_type": "code",
   "execution_count": 11,
   "metadata": {
    "collapsed": false
   },
   "outputs": [
    {
     "name": "stdout",
     "output_type": "stream",
     "text": [
      "\n",
      "eval_est =\n",
      "\n",
      "    5.2134\n",
      "\n",
      "\n",
      "eval_err =\n",
      "\n",
      "   9.5213e-04\n",
      "\n"
     ]
    }
   ],
   "source": [
    "eval_est = v'*A*v/(v'*v)\n",
    "eval_err = norm(eval_est-lam(3))"
   ]
  },
  {
   "cell_type": "markdown",
   "metadata": {},
   "source": [
    "In logarithmic terms (i.e. number of digits), we see the error roughly double. "
   ]
  },
  {
   "cell_type": "code",
   "execution_count": 12,
   "metadata": {},
   "outputs": [
    {
     "name": "stdout",
     "output_type": "stream",
     "text": [
      "\n",
      "evec_digits =\n",
      "\n",
      "    1.6646\n",
      "\n",
      "\n",
      "eval_digits =\n",
      "\n",
      "    3.0213\n",
      "\n"
     ]
    }
   ],
   "source": [
    "evec_digits = -log10(evec_err)\n",
    "eval_digits = -log10(eval_err)"
   ]
  },
  {
   "cell_type": "markdown",
   "metadata": {},
   "source": [
    "## Power iteration\n",
    "\n",
    "Now that we can turn an eigenvector estimate into an eigenvalue estimate, we turn to finding an eigenvector. Clearly, if $A=XDX^{-1}$ and $k$ is a positive integer, then $A^k=XD^kX^{-1}$. That is, $A$ and $A^k$ share the same eigenvectors, but the eigenvalues of $A^k$ are raised to the $k$th power. So if there is an eigenvalue $\\lambda_1$ such that $|\\lambda_1|>|\\lambda_j|$ for all $j>1$, the ratio $|\\lambda_1/\\lambda_j|^k\\to 0$ as $k\\to\\infty$, and in that case $A^kv$ is dominated by the eigenvector $x_1$ that belongs with $\\lambda_1$, for practically *any* vector $v$. This leads us to the **power iteration**."
   ]
  },
  {
   "cell_type": "code",
   "execution_count": 19,
   "metadata": {
    "collapsed": false
   },
   "outputs": [
    {
     "data": {
      "image/png": "[encoded data removed]",
      "text/plain": [
       "<IPython.core.display.Image object>"
      ]
     },
     "metadata": {},
     "output_type": "display_data"
    }
   ],
   "source": [
    "v = rand(3,1);\n",
    "evec_err = [];\n",
    "for k = 1:20\n",
    "    v = v/norm(v);\n",
    "    evec_err = [evec_err;min(norm(v-x),norm(v+x))];\n",
    "    v = A*v;\n",
    "end\n",
    "semilogy(evec_err,'.-');\n",
    "xlabel(\"iteration\");\n",
    "ylabel(\"eigenvector error\");"
   ]
  },
  {
   "cell_type": "markdown",
   "metadata": {},
   "source": [
    "We call this **linear convergence**. It's a straight line (as iteration goes to infinity) on a log-linear graph, or equivalently, a reduction in error by a constant factor at each step. I.e., if you suppose that $y_n \\approx CK^n$ for some $K<1$, then $\\log y_n \\approx (\\log C) + n(\\log K)$. "
   ]
  },
  {
   "cell_type": "code",
   "execution_count": 20,
   "metadata": {},
   "outputs": [
    {
     "name": "stdout",
     "output_type": "stream",
     "text": [
      "\n",
      "ans =\n",
      "\n",
      "    0.3639\n",
      "    0.4152\n",
      "    0.4510\n",
      "    0.4654\n",
      "    0.4700\n",
      "    0.4714\n",
      "    0.4718\n",
      "    0.4719\n",
      "    0.4719\n",
      "    0.4719\n",
      "    0.4719\n",
      "    0.4719\n",
      "    0.4719\n",
      "    0.4719\n",
      "    0.4719\n",
      "    0.4719\n",
      "    0.4719\n",
      "    0.4719\n",
      "    0.4719\n",
      "\n"
     ]
    }
   ],
   "source": [
    "evec_err(2:end)./evec_err(1:end-1)"
   ]
  },
  {
   "cell_type": "markdown",
   "metadata": {},
   "source": [
    "Since $A$ is symmetric, the final $v$ we got above should give an RQ eigenvalue estimate with about 12 accurate digits. "
   ]
  },
  {
   "cell_type": "code",
   "execution_count": 21,
   "metadata": {
    "collapsed": false
   },
   "outputs": [
    {
     "name": "stdout",
     "output_type": "stream",
     "text": [
      "\n",
      "ans =\n",
      "\n",
      "   9.7700e-15\n",
      "\n"
     ]
    }
   ],
   "source": [
    "abs( v'*A*v/(v'*v) - lam(3) )"
   ]
  },
  {
   "cell_type": "markdown",
   "metadata": {},
   "source": [
    "Now how much would you pay? But wait—there's more!"
   ]
  },
  {
   "cell_type": "markdown",
   "metadata": {},
   "source": [
    "## Inverse iteration\n",
    "\n",
    "If $\\lambda_J$ is an eigenvalue of $A$, then $(\\lambda_J-\\mu)^{-1}$ is an eigenvalue of $(A-\\mu I)^{-1}$, with the same eigenvector. If $\\mu$ is closer to $\\lambda_J$ than to any other $\\lambda_j$, a power iteration on $(A-\\mu I)^{-1}$ should converge very quickly. This amounts to repeatedly solving a linear system with the matrix $(A-\\mu I)$."
   ]
  },
  {
   "cell_type": "code",
   "execution_count": 26,
   "metadata": {
    "collapsed": false
   },
   "outputs": [
    {
     "data": {
      "image/png": "[encoded data removed]",
      "text/plain": [
       "<IPython.core.display.Image object>"
      ]
     },
     "metadata": {},
     "output_type": "display_data"
    }
   ],
   "source": [
    "for mu = [4 4.5 5.1]\n",
    "    [L,U] = lu(A-mu*eye(3));\n",
    "    v = rand(3,1);\n",
    "    for k = 1:20\n",
    "        v = v/norm(v);\n",
    "        evec_err(k) = min(norm(v-x),norm(v+x));\n",
    "        v = U\\(L\\v);\n",
    "    end\n",
    "    semilogy(evec_err,\".-\"), hold on\n",
    "end\n",
    "xlabel(\"iteration\");\n",
    "ylabel(\"eigenvector error\");\n",
    "%legend('\\mu=4','\\mu=4.5','\\mu=5.1');\n",
    "title(\"Convergence to eigenvector for \\lambda=5.2143...\");"
   ]
  },
  {
   "cell_type": "markdown",
   "metadata": {},
   "source": [
    "## Rayleigh quotient iteration\n",
    "\n",
    "The coup de grâce is a positive feedback loop: a better shift means a better eigenvector estimate, which means a better eigenvalue estimate, which is an even better shift, etc. \n",
    "\n",
    "Suppose that $v=x_J+ w$ for some $w$ made up of components of the other eigenvectors, and $\\|w\\|=\\epsilon < 1$. The RQ turns this into an eigenvector estimate/shift $\\mu$ with  $|\\mu-\\lambda_J|=O(\\epsilon)$ as well. Say that $\\mu$ is $O(1)$ away from other eigenvalues (the following is all true in that relative sense). Then one step of inverse iteration leaves us with an improved eigenvector such that $\\|v-x_J\\|= O(\\epsilon \\|w\\|)=O(\\epsilon^2)$. This is **quadratic convergence**, which is very fast; the number of accurate digits goes 1, 2, 4, 8, 16, done.  \n",
    "\n",
    "In the hermitian case, starting with $\\|w\\|=\\epsilon$ means that $|\\mu-\\lambda_J|=O(\\epsilon^2)$ initially, and the eigenvector improves to $\\|v-x_J\\|= O(\\epsilon^2 \\|w\\|)=O(\\epsilon^3)$. This is **cubic** convergence, which is ludicrously fast. It's so fast that we pretty much need extended precision even to verify it."
   ]
  }
 ],
 "metadata": {
  "kernelspec": {
   "display_name": "Matlab",
   "language": "matlab",
   "name": "matlab"
  },
  "language_info": {
   "codemirror_mode": "octave",
   "file_extension": ".m",
   "help_links": [
    {
     "text": "MetaKernel Magics",
     "url": "https://github.com/calysto/metakernel/blob/master/metakernel/magics/README.md"
    }
   ],
   "mimetype": "text/x-octave",
   "name": "matlab",
   "version": "0.15.1"
  }
 },
 "nbformat": 4,
 "nbformat_minor": 2
}
