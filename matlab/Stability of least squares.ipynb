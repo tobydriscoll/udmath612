{
 "cells": [
  {
   "cell_type": "markdown",
   "metadata": {},
   "source": [
    "# Stability of least squares algorithms\n",
    "\n",
    "We're going to explore several alternatives for least squares by means of the following fitting problem:"
   ]
  },
  {
   "cell_type": "code",
   "execution_count": 1,
   "metadata": {
    "collapsed": false,
    "scrolled": false
   },
   "outputs": [
    {
     "data": {
      "image/png": "[encoded data removed]",
      "text/plain": [
       "<IPython.core.display.Image object>"
      ]
     },
     "metadata": {},
     "output_type": "display_data"
    }
   ],
   "source": [
    "m = 100; n = 15;\n",
    "t = (0:m-1)'/(m-1);\n",
    "A = t.^(0:n-1);\n",
    "b = exp(sin(4*t));\n",
    "x = A\\b;\n",
    "\n",
    "plot(t,b-A*x)\n",
    "title(\"Residual of least squares fit\");"
   ]
  },
  {
   "cell_type": "markdown",
   "metadata": {},
   "source": [
    "You can see that the fit is quite good. As in the text, we will renormalize the vector $b$ to make the last coefficient of the solution equal to 1."
   ]
  },
  {
   "cell_type": "code",
   "execution_count": 2,
   "metadata": {
    "collapsed": false,
    "scrolled": true
   },
   "outputs": [],
   "source": [
    "b = b/2006.787453104852;\n",
    "x = A\\b;  y = A*x;"
   ]
  },
  {
   "cell_type": "markdown",
   "metadata": {},
   "source": [
    "As in the text, we compute all the numbers associated with the conditioning of the least squares problem, as described by Theorem 18.1. Since the residual is small, the conditioning of $x$ will be close to $\\kappa(A)$."
   ]
  },
  {
   "cell_type": "code",
   "execution_count": 3,
   "metadata": {
    "collapsed": false
   },
   "outputs": [
    {
     "name": "stdout",
     "output_type": "stream",
     "text": [
      "\n",
      "kappa =\n",
      "\n",
      "   2.2718e+10\n",
      "\n",
      "\n",
      "theta =\n",
      "\n",
      "   3.7461e-06\n",
      "\n",
      "\n",
      "eta =\n",
      "\n",
      "   2.1036e+05\n",
      "\n"
     ]
    }
   ],
   "source": [
    "kappa = cond(A)\n",
    "theta = asin(norm(y-b)/norm(b))\n",
    "eta = norm(A)*norm(x)/norm(y)"
   ]
  },
  {
   "cell_type": "code",
   "execution_count": 5,
   "metadata": {
    "collapsed": false
   },
   "outputs": [
    {
     "name": "stdout",
     "output_type": "stream",
     "text": [
      "\n",
      "K =\n",
      "\n",
      "   1.0000e+00   1.0800e+05\n",
      "   2.2718e+10   3.1909e+10\n",
      "\n"
     ]
    }
   ],
   "source": [
    "K = zeros(2,2);\n",
    "K(1,1) = sec(theta);  K(2,1) = kappa*K(1,1);\n",
    "K(1,2) = K(2,1)/eta;  K(2,2) = kappa + kappa^2*tan(theta)/eta;\n",
    "format short e, K"
   ]
  },
  {
   "cell_type": "markdown",
   "metadata": {},
   "source": [
    "## Backslash\n",
    "\n",
    "The internal backslash does Householder QR, including an extra column swapping ability to improve accuracy in some situations. Here's how it does."
   ]
  },
  {
   "cell_type": "code",
   "execution_count": 6,
   "metadata": {
    "collapsed": false
   },
   "outputs": [
    {
     "name": "stdout",
     "output_type": "stream",
     "text": [
      "\n",
      "ans =\n",
      "\n",
      "   1.000000080839684\n",
      "\n",
      "\n",
      "errBS =\n",
      "\n",
      "     8.083968383587603e-08\n",
      "\n"
     ]
    }
   ],
   "source": [
    "x = A\\b;\n",
    "format long, x(n)\n",
    "errBS = abs(x(n)-1)"
   ]
  },
  {
   "cell_type": "markdown",
   "metadata": {},
   "source": [
    "We've lost about 9 digits of accuracy, which is in line with the conditioning of $x$ with respect to $A$ (the (2,2) element of $K$ above). "
   ]
  },
  {
   "cell_type": "markdown",
   "metadata": {},
   "source": [
    "## Householder QR solution"
   ]
  },
  {
   "cell_type": "markdown",
   "metadata": {},
   "source": [
    "With a default call to `qr`, column pivoting is not used."
   ]
  },
  {
   "cell_type": "code",
   "execution_count": 7,
   "metadata": {
    "collapsed": false
   },
   "outputs": [
    {
     "name": "stdout",
     "output_type": "stream",
     "text": [
      "\n",
      "ans =\n",
      "\n",
      "   1.000000133092542\n",
      "\n",
      "\n",
      "errHH =\n",
      "\n",
      "     1.330925420983675e-07\n",
      "\n"
     ]
    }
   ],
   "source": [
    "[Q,R] = qr(A,0);\n",
    "x = R\\(Q'*b);\n",
    "x(n)\n",
    "errHH = abs(x(n)-1)"
   ]
  },
  {
   "cell_type": "markdown",
   "metadata": {},
   "source": [
    "## Modified GS QR solution"
   ]
  },
  {
   "cell_type": "markdown",
   "metadata": {},
   "source": [
    "Classical Gram-Schmidt is too unstable even to bother with. The modified form is better, but problems remain:"
   ]
  },
  {
   "cell_type": "code",
   "execution_count": 8,
   "metadata": {
    "collapsed": false
   },
   "outputs": [
    {
     "name": "stdout",
     "output_type": "stream",
     "text": [
      "\n",
      "ans =\n",
      "\n",
      "   0.981684027601993\n",
      "\n",
      "\n",
      "errMGS =\n",
      "\n",
      "   0.018315972398007\n",
      "\n"
     ]
    }
   ],
   "source": [
    "[Q,R] = mgs(A);\n",
    "x = R\\(Q'*b);\n",
    "x(n)\n",
    "errMGS = abs(x(n)-1)"
   ]
  },
  {
   "cell_type": "markdown",
   "metadata": {},
   "source": [
    "Crikey! That's much worse than is accounted for by the problem conditioning. The culprit is our nonorthogonal $Q$."
   ]
  },
  {
   "cell_type": "code",
   "execution_count": 9,
   "metadata": {
    "collapsed": false
   },
   "outputs": [
    {
     "name": "stdout",
     "output_type": "stream",
     "text": [
      "\n",
      "ans =\n",
      "\n",
      "     2.137938905971698e-07\n",
      "\n"
     ]
    }
   ],
   "source": [
    "norm(Q'*Q-eye(n))"
   ]
  },
  {
   "cell_type": "markdown",
   "metadata": {},
   "source": [
    "There's a simple workaround. We can imitate Gaussian elimination and factor an \"augmented matrix\" in order to get an implicit-Q result. "
   ]
  },
  {
   "cell_type": "code",
   "execution_count": 10,
   "metadata": {
    "collapsed": false
   },
   "outputs": [
    {
     "name": "stdout",
     "output_type": "stream",
     "text": [
      "\n",
      "ans =\n",
      "\n",
      "   0.999999998077498\n",
      "\n",
      "\n",
      "errMGS =\n",
      "\n",
      "     1.922502268492110e-09\n",
      "\n"
     ]
    }
   ],
   "source": [
    "[Q,R] = mgs([A b]);\n",
    "x = R(:,1:n) \\ R(:,n+1);\n",
    "x(n)\n",
    "errMGS = abs(x(n)-1)"
   ]
  },
  {
   "cell_type": "markdown",
   "metadata": {},
   "source": [
    "On my machine, this is the best solution yet!"
   ]
  },
  {
   "cell_type": "markdown",
   "metadata": {},
   "source": [
    "## Normal equations"
   ]
  },
  {
   "cell_type": "markdown",
   "metadata": {},
   "source": [
    "This problem is a perfect storm for the normal equations: a very good fit (small residual) and a badly conditioned matrix. Squaring that condition number is catastrophic."
   ]
  },
  {
   "cell_type": "code",
   "execution_count": 11,
   "metadata": {
    "collapsed": false
   },
   "outputs": [
    {
     "name": "stdout",
     "output_type": "stream",
     "text": [
      "Warning: Matrix is close to singular or badly scaled. Results may be inaccurate. RCOND =  4.833016e-19.\n",
      "\n",
      "\n",
      "ans =\n",
      "\n",
      "  -0.094027703104668\n",
      "\n"
     ]
    }
   ],
   "source": [
    "x = (A'*A)\\(A'*b);\n",
    "x(n)"
   ]
  },
  {
   "cell_type": "markdown",
   "metadata": {},
   "source": [
    "## SVD"
   ]
  },
  {
   "cell_type": "markdown",
   "metadata": {},
   "source": [
    "The SVD is considered the gold standard of stability in least squares. It is preferred to QR when the matrix is nearly or numerically rank deficient."
   ]
  },
  {
   "cell_type": "code",
   "execution_count": 13,
   "metadata": {
    "collapsed": false
   },
   "outputs": [
    {
     "name": "stdout",
     "output_type": "stream",
     "text": [
      "\n",
      "ans =\n",
      "\n",
      "   1.000000133090634\n",
      "\n",
      "\n",
      "errSVD =\n",
      "\n",
      "     1.330906336249882e-07\n",
      "\n"
     ]
    }
   ],
   "source": [
    "[U,S,V] = svd(A,0);\n",
    "x = V*((U'*b)./diag(S));\n",
    "x(n)\n",
    "errSVD = abs(x(n)-1)"
   ]
  }
 ],
 "metadata": {
  "kernelspec": {
   "display_name": "Matlab",
   "language": "matlab",
   "name": "matlab"
  },
  "language_info": {
   "codemirror_mode": "octave",
   "file_extension": ".m",
   "help_links": [
    {
     "text": "MetaKernel Magics",
     "url": "https://github.com/calysto/metakernel/blob/master/metakernel/magics/README.md"
    }
   ],
   "mimetype": "text/x-octave",
   "name": "matlab",
   "version": "0.15.1"
  }
 },
 "nbformat": 4,
 "nbformat_minor": 2
}
