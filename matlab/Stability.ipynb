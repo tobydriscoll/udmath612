{
 "cells": [
  {
   "cell_type": "markdown",
   "metadata": {},
   "source": [
    "# Stability (a case study)\n",
    "\n",
    "Broadly speaking, stability refers to the sensitivity of an algorithm to perturbations. Since our algorithms are performed in double precision arithmetic, they are constantly undergoing small perturbations. If the result is more strongly affected by these than the conditioning of the underlying problem suggests, then we call the algorithm unstable.\n",
    "\n",
    "## Quadratic formula\n",
    "\n",
    "Consider a polynomial whose roots are widely separated in scales."
   ]
  },
  {
   "cell_type": "code",
   "execution_count": 1,
   "metadata": {
    "collapsed": false
   },
   "outputs": [
    {
     "name": "stdout",
     "output_type": "stream",
     "text": [
      "p =\n",
      "     1.000000000000000e+00    -1.000000000001000e+06     1.000000000000000e+00\n"
     ]
    }
   ],
   "source": [
    "format long e\n",
    "p = poly([1.0e-6,1.0e6])"
   ]
  },
  {
   "cell_type": "markdown",
   "metadata": {},
   "source": [
    "The roots of this polynomial are well conditioned with respect to perturbations in its coefficients. "
   ]
  },
  {
   "cell_type": "code",
   "execution_count": 2,
   "metadata": {
    "collapsed": false
   },
   "outputs": [
    {
     "data": {
      "image/png": "[encoded data removed]",
      "text/plain": [
       "<IPython.core.display.Image object>"
      ]
     },
     "metadata": {},
     "output_type": "display_data"
    }
   ],
   "source": [
    "delta = [];\n",
    "r = sort(roots(p));\n",
    "for j = 1:2000\n",
    "    pp = p + 1e-11*p.*(2*rand(1,3)-1);\n",
    "    rr = roots(pp);\n",
    "    delta = [ delta; norm( (sort(real(rr))-r)./r, Inf ) ];\n",
    "end\n",
    "histogram(log10(delta),24);\n",
    "xlabel(\"relative change to roots (log)\"); ylabel(\"number of cases\");"
   ]
  },
  {
   "cell_type": "markdown",
   "metadata": {},
   "source": [
    "According to this experiment, we should be able to compute the polynomial roots accurately in floating point. \n",
    "\n",
    "Let's return to middle school and apply the quadratic formula to find the roots. First is the discriminant."
   ]
  },
  {
   "cell_type": "code",
   "execution_count": 3,
   "metadata": {
    "collapsed": false
   },
   "outputs": [
    {
     "name": "stdout",
     "output_type": "stream",
     "text": [
      "d =\n",
      "     9.999999999990000e+05\n"
     ]
    }
   ],
   "source": [
    "a = p(1); b = p(2); c = p(3);\n",
    "d = sqrt(b^2-4*a*c)"
   ]
  },
  {
   "cell_type": "markdown",
   "metadata": {},
   "source": [
    "And now, the roots."
   ]
  },
  {
   "cell_type": "code",
   "execution_count": 4,
   "metadata": {
    "collapsed": false
   },
   "outputs": [
    {
     "name": "stdout",
     "output_type": "stream",
     "text": [
      "r1 =\n",
      "     1000000\n",
      "r2 =\n",
      "     1.000007614493370e-06\n"
     ]
    }
   ],
   "source": [
    "r1 = (-b+d)/(2*a)\n",
    "r2 = (-b-d)/(2*a)"
   ]
  },
  {
   "cell_type": "markdown",
   "metadata": {},
   "source": [
    "WTF? The r2 result has just 5 accurate digits!"
   ]
  },
  {
   "cell_type": "markdown",
   "metadata": {},
   "source": [
    "While multiplication and division are perfectly conditioned operations, addition/subtraction are not when cancellation is involved; the condition number in the infinity norm is inversely related to the absolute value of the result."
   ]
  },
  {
   "cell_type": "code",
   "execution_count": 5,
   "metadata": {
    "collapsed": false
   },
   "outputs": [
    {
     "name": "stdout",
     "output_type": "stream",
     "text": [
      "kappa =\n",
      "     9.999923855656100e+11\n"
     ]
    }
   ],
   "source": [
    "s = -b-d;\n",
    "kappa = 2*norm([-b,d],Inf)/abs(s)"
   ]
  },
  {
   "cell_type": "markdown",
   "metadata": {},
   "source": [
    "The condition number of a series of calculations is the product of the condition numbers of the steps (basically, the chain rule). By introducing this step into the process, we get a condition number of about $10^{10}$ in the calculation, rather than the underlying problem's condition number, which is close to 1. \n",
    "\n",
    "We can avoid this ill-conditioned step by using the identity\n",
    "\n",
    "$$r_1r_2 = \\frac{c}{a}$$\n",
    "\n",
    "to compute the smaller root accurately."
   ]
  },
  {
   "cell_type": "code",
   "execution_count": 6,
   "metadata": {
    "collapsed": false
   },
   "outputs": [
    {
     "name": "stdout",
     "output_type": "stream",
     "text": [
      "ans =\n",
      "     0\n"
     ]
    }
   ],
   "source": [
    "c/(a*r1) - 1e-6"
   ]
  },
  {
   "cell_type": "markdown",
   "metadata": {},
   "source": [
    "## Three levels of performance\n",
    "\n",
    "Ultimately we would like **accuracy**, that is, as small an error as the machine allows. For poorly conditioned problems, this is not a realistic expectation. Instead, we can hope for a small **backward error**, which is the distance between the original data and the data that produces the result we actually computed. \n",
    "\n",
    "It's interesting to check the backward error of our \"bad\" root calculation. One polynomial whose exact roots were found is"
   ]
  },
  {
   "cell_type": "code",
   "execution_count": 7,
   "metadata": {
    "collapsed": false
   },
   "outputs": [
    {
     "name": "stdout",
     "output_type": "stream",
     "text": [
      "pp =\n",
      "     1.000000000000000e+00    -1.000000000001000e+06     1.000007614493370e+00\n"
     ]
    }
   ],
   "source": [
    "pp = poly([r1,r2])"
   ]
  },
  {
   "cell_type": "markdown",
   "metadata": {},
   "source": [
    "All polynomials with these roots are multiples of this one. We can find the one that's closest to the original data of the problem using a linear least squares calculation:"
   ]
  },
  {
   "cell_type": "code",
   "execution_count": 8,
   "metadata": {
    "collapsed": false
   },
   "outputs": [
    {
     "name": "stdout",
     "output_type": "stream",
     "text": [
      "alpha =\n",
      "     9.999999999999999e-01\n"
     ]
    }
   ],
   "source": [
    "alpha = pp(:)\\p(:)"
   ]
  },
  {
   "cell_type": "markdown",
   "metadata": {},
   "source": [
    "Hence the minimal (2-norm) difference in coefficients is"
   ]
  },
  {
   "cell_type": "code",
   "execution_count": null,
   "metadata": {
    "collapsed": false
   },
   "outputs": [
    {
     "name": "stdout",
     "output_type": "stream",
     "text": [
      "ans =\n",
      "     1.110223024625157e-16    -1.164153218269348e-10    -7.614493369834108e-06\n"
     ]
    }
   ],
   "source": [
    "p - alpha*pp"
   ]
  },
  {
   "cell_type": "markdown",
   "metadata": {},
   "source": [
    "The first and second values are both $\\mathcal{O}(\\epsilon_M)$ with respect to the original polynomial coefficients, but the one from the polynomial constant term is not. The backward error here, like the forward error, is $\\mathcal{O}(10^{-5})$.\n",
    "\n",
    "An algorithm that can guarantee a small backward error is **backward stable**. The accuracy of a backward stable algorithm is proportional jointly to the condition number of its problem and the machine precision.\n",
    "\n",
    "Finally, even backward stability is not always realistic. For example, if a result is supposed to have a particular structure, like symmetry or orthogonality, we cannot hope that the perturbations of floating point representation will preserve that structure. Hence no data could have produced it exactly. Instead we have to look for nearby data that would produce a nearby result having the required structure. Algorithms that can guarantee such situations are called **stable**. In some computations that is all we can assert. "
   ]
  }
 ],
 "metadata": {
  "kernelspec": {
   "display_name": "Matlab",
   "language": "matlab",
   "name": "matlab"
  },
  "language_info": {
   "codemirror_mode": "octave",
   "file_extension": ".m",
   "help_links": [
    {
     "text": "MetaKernel Magics",
     "url": "https://github.com/calysto/metakernel/blob/master/metakernel/magics/README.md"
    }
   ],
   "mimetype": "text/x-octave",
   "name": "matlab",
   "version": "0.15.1"
  }
 },
 "nbformat": 4,
 "nbformat_minor": 2
}
