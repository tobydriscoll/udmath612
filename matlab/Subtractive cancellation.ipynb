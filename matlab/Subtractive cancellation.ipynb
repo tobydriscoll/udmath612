{
 "cells": [
  {
   "cell_type": "markdown",
   "metadata": {},
   "source": [
    "# Subtractive cancellation\n",
    "\n",
    "Subtractive cancellation is the most basic form of \"what goes wrong\" when computing with finite precision. The problem occurs whenever you subtract two nearby values and get a result that is much smaller (in absolute value). "
   ]
  },
  {
   "cell_type": "markdown",
   "metadata": {},
   "source": [
    "Here is a fairly extreme case. Let's pick a number that is quite close to 3."
   ]
  },
  {
   "cell_type": "code",
   "execution_count": 3,
   "metadata": {},
   "outputs": [
    {
     "name": "stdout",
     "output_type": "stream",
     "text": [
      "\n",
      "x =\n",
      "\n",
      "   3.000000000012346\n",
      "\n"
     ]
    }
   ],
   "source": [
    "format long\n",
    "x = 3.00000000001234567"
   ]
  },
  {
   "cell_type": "markdown",
   "metadata": {},
   "source": [
    "As you can see, the internal representation is rounded off to about 16-17 decimal significant digits. The integer 3, as you might expect, can be represented exactly. \n",
    "\n",
    "Think about what happens when we take the difference of these values. The most meaningful possible answer is $1.23457\\times 10^{-11}$. It has just 6 significant digits, as the others have been \"lost\" to become leading zeros. In other words, we can only resolve this result with high accuracy relative to the original operands in the subtraction, not relative to the result itself.\n",
    "\n",
    "A pernicious aspect of this cancellation is that numerical results always carry the same number of digits around. They don't know which ones are \"significant\" in the sense of accuracy. "
   ]
  },
  {
   "cell_type": "code",
   "execution_count": 4,
   "metadata": {},
   "outputs": [
    {
     "name": "stdout",
     "output_type": "stream",
     "text": [
      "\n",
      "ans =\n",
      "\n",
      "     1.234568003383174e-11\n",
      "\n"
     ]
    }
   ],
   "source": [
    "x-3"
   ]
  },
  {
   "cell_type": "markdown",
   "metadata": {},
   "source": [
    "We will come back to this phenomenon in much more detail soon. "
   ]
  }
 ],
 "metadata": {
  "kernelspec": {
   "display_name": "Matlab",
   "language": "matlab",
   "name": "matlab"
  },
  "language_info": {
   "codemirror_mode": "octave",
   "file_extension": ".m",
   "help_links": [
    {
     "text": "MetaKernel Magics",
     "url": "https://github.com/calysto/metakernel/blob/master/metakernel/magics/README.md"
    }
   ],
   "mimetype": "text/x-octave",
   "name": "matlab",
   "version": "0.15.1"
  }
 },
 "nbformat": 4,
 "nbformat_minor": 2
}
